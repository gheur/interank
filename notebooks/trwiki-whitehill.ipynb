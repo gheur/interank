{
 "cells": [
  {
   "cell_type": "markdown",
   "metadata": {},
   "source": [
    "# Turkish Wikipedia, Whitehill model, $\\ell_2$-regularized\n",
    "\n",
    "- dataset: `trwiki`\n",
    "- model: _whitehill_\n",
    "- optimizer: _SGD with decaying learning rate_\n",
    "- regularization: $\\ell_2$\n",
    "\n",
    "The hyperparameters were found using the `trwiki-whitehill-hyperparams` notebook."
   ]
  },
  {
   "cell_type": "code",
   "execution_count": 1,
   "metadata": {},
   "outputs": [],
   "source": [
    "import math\n",
    "import matplotlib.pyplot as plt\n",
    "import numpy as np\n",
    "import os\n",
    "import pickle\n",
    "import tensorflow as tf\n",
    "\n",
    "from datetime import datetime\n",
    "from sklearn.metrics import (\n",
    "    precision_recall_curve, average_precision_score)\n",
    "from interank import wikiutils\n",
    "from interank.models import WhitehillModel\n",
    "from interank.wikidata import WikiData\n",
    "\n",
    "%matplotlib inline"
   ]
  },
  {
   "cell_type": "code",
   "execution_count": 2,
   "metadata": {},
   "outputs": [],
   "source": [
    "os.environ[\"CUDA_DEVICE_ORDER\"] = \"PCI_BUS_ID\"\n",
    "os.environ[\"CUDA_VISIBLE_DEVICES\"] = \"0\""
   ]
  },
  {
   "cell_type": "markdown",
   "metadata": {},
   "source": [
    "## Loading the dataset"
   ]
  },
  {
   "cell_type": "code",
   "execution_count": 3,
   "metadata": {},
   "outputs": [
    {
     "name": "stdout",
     "output_type": "stream",
     "text": [
      "=========\n",
      "Training set: 7882291 edits\n",
      "Test set: 532087 edits\n",
      "Number of users: 1393027\n",
      "Number of articles: 541476\n",
      "=========\n",
      "CPU times: user 16.2 s, sys: 1.38 s, total: 17.5 s\n",
      "Wall time: 16.3 s\n"
     ]
    }
   ],
   "source": [
    "%%time\n",
    "dataset = WikiData(\"/data/datasets/trwiki\")\n",
    "# dataset.load_bots()\n",
    "\n",
    "train_data = dataset.get_train_data()\n",
    "test_data = dataset.get_test_data()\n",
    "\n",
    "print(\"=========\")\n",
    "print(\"Training set: {} edits\".format(len(train_data[0])))\n",
    "print(\"Test set: {} edits\".format(len(test_data[0])))\n",
    "print(\"Number of users: {}\".format(dataset.n_users))\n",
    "print(\"Number of articles: {}\".format(dataset.n_articles))\n",
    "print(\"=========\")"
   ]
  },
  {
   "cell_type": "markdown",
   "metadata": {},
   "source": [
    "## Setting up the model\n",
    "\n",
    "- batch size: $5000$\n",
    "- learning rate: $0.01$\n",
    "- decay rate: $0.7$\n",
    "- regularization coeff: $8.0$\n",
    "\n",
    "The model also includes a global bias, which is not regularized and has a distinct learning rate ($10^{-4}$, decay rate $0.7$)."
   ]
  },
  {
   "cell_type": "code",
   "execution_count": 4,
   "metadata": {},
   "outputs": [
    {
     "name": "stdout",
     "output_type": "stream",
     "text": [
      "Total number of batches: 1577\n"
     ]
    }
   ],
   "source": [
    "# Reset graph to run the notebook twice in a row without error.\n",
    "tf.reset_default_graph()\n",
    "\n",
    "# Use bias or not\n",
    "global_bias = True\n",
    "\n",
    "# Whitehill model\n",
    "model = WhitehillModel(n_users=dataset.n_users,\n",
    "                       n_articles=dataset.n_articles,\n",
    "                       global_bias=global_bias)\n",
    "\n",
    "# Setup the optimisation procedure\n",
    "batch_size = 5000\n",
    "n_batches = math.ceil(len(train_data[0]) / batch_size)\n",
    "print(\"Total number of batches: {}\".format(n_batches))\n",
    "\n",
    "# Define the cost\n",
    "reg_coef = 8.0\n",
    "# Setup train op.\n",
    "cost = (-model.log_likelihood\n",
    "        + (reg_coef/n_batches) * (model.l2_difficulty + model.l2_skill))\n",
    "\n",
    "if global_bias:\n",
    "    # SGD with decaying learning rate.\n",
    "    learning_rate = 0.01\n",
    "    batch_idx_params = tf.Variable(0, trainable=False)\n",
    "    learning_rate_params = tf.train.exponential_decay(\n",
    "        learning_rate=learning_rate,\n",
    "        global_step=(batch_idx_params * batch_size),\n",
    "        decay_steps=len(train_data[0]),\n",
    "        decay_rate=0.7,\n",
    "        staircase=True\n",
    "    )\n",
    "    batch_idx_bias = tf.Variable(0, trainable=False)\n",
    "    learning_rate_bias = tf.train.exponential_decay(\n",
    "        learning_rate=1e-4,\n",
    "        global_step=(batch_idx_bias * batch_size),\n",
    "        decay_steps=len(train_data[0]),\n",
    "        decay_rate=0.7,\n",
    "        staircase=True\n",
    "    )\n",
    "    train_params = tf.train.GradientDescentOptimizer(learning_rate_params).minimize(\n",
    "            cost, global_step=batch_idx_params,\n",
    "            var_list=[model.skill, model.difficulty])\n",
    "    train_bias = tf.train.GradientDescentOptimizer(learning_rate_bias).minimize(\n",
    "            cost, global_step=batch_idx_bias,\n",
    "            var_list=[model.global_bias])\n",
    "    train_op = tf.group(train_params, train_bias)\n",
    "\n",
    "else:  # Without bias\n",
    "    # SGD with decaying learning rate.\n",
    "    learning_rate = 0.1\n",
    "    global_step = tf.Variable(0, trainable=False)\n",
    "    learning_rate_params = tf.train.exponential_decay(\n",
    "        learning_rate=learning_rate,\n",
    "        global_step=global_step,\n",
    "        decay_steps=len(train_data[0]),\n",
    "        decay_rate=0.7,\n",
    "        staircase=True\n",
    "    )\n",
    "    train_op = tf.train.GradientDescentOptimizer(learning_rate_params).minimize(cost, global_step=global_step)\n",
    "\n",
    "# Summaries for Tensorboard\n",
    "auc_ph = tf.placeholder(tf.float32, name=\"auc\")\n",
    "tf.summary.scalar(\"avg_log_loss\", model.avg_log_loss)\n",
    "tf.summary.scalar(\"area_under_pr_curve\", auc_ph)\n",
    "merged = tf.summary.merge_all()\n",
    "\n",
    "logdir = '../trained-models/tmp'\n",
    "folder = \"trwiki-basic-regularized_batchsize={}_lr={}_date={}\".format(\n",
    "        batch_size, learning_rate, datetime.now().strftime(\"%Y-%m-%d-%H-%M-%S\"))\n",
    "writer = {\n",
    "    \"train\": tf.summary.FileWriter(os.path.join(logdir, folder, \"train\")),\n",
    "    \"test\": tf.summary.FileWriter(os.path.join(logdir, folder, \"test\")),\n",
    "}"
   ]
  },
  {
   "cell_type": "code",
   "execution_count": 5,
   "metadata": {},
   "outputs": [
    {
     "name": "stdout",
     "output_type": "stream",
     "text": [
      "### step 0\n",
      "train set: avg. log-loss = 0.786227, AUC = 0.220\n",
      "test set: avg. log-loss = 0.594472, AUC = 0.168\n"
     ]
    }
   ],
   "source": [
    "step = 0\n",
    "\n",
    "feed = {\n",
    "    \"train\": {\n",
    "        model.user_id: train_data[0],\n",
    "        model.article_id: train_data[1],\n",
    "        model.quality: train_data[2],\n",
    "    },\n",
    "    \"test\": {\n",
    "        model.user_id: test_data[0],\n",
    "        model.article_id: test_data[1],\n",
    "        model.quality: test_data[2],\n",
    "    }\n",
    "}\n",
    "\n",
    "def evaluate_model(step, bad_edit_threshold=0.5):\n",
    "    print(\"### step {}\".format(step))\n",
    "    for which in (\"train\", \"test\"):\n",
    "        avg_log_loss, probs = session.run(\n",
    "            [model.avg_log_loss, model.probability], feed_dict=feed[which])\n",
    "        labels = (feed[which][model.quality] < bad_edit_threshold).astype(int)\n",
    "        auc = average_precision_score(labels, 1 - probs)\n",
    "        summary = session.run(merged, feed_dict={**feed[which], auc_ph: auc})\n",
    "        writer[which].add_summary(summary, global_step=step)\n",
    "        writer[which].flush()\n",
    "        print(\"{} set: avg. log-loss = {:.6f}, AUC = {:.3f}\".format(\n",
    "                which, avg_log_loss, auc))\n",
    "\n",
    "# Initialise Tensorflow's variables\n",
    "session = tf.Session()\n",
    "session.run(tf.global_variables_initializer())\n",
    "\n",
    "# Evalute \"empty\" model.\n",
    "evaluate_model(step=step)"
   ]
  },
  {
   "cell_type": "markdown",
   "metadata": {},
   "source": [
    "## Training the model"
   ]
  },
  {
   "cell_type": "code",
   "execution_count": 6,
   "metadata": {},
   "outputs": [
    {
     "name": "stdout",
     "output_type": "stream",
     "text": [
      "### step 1577\n",
      "train set: avg. log-loss = 0.513375, AUC = 0.555\n",
      "test set: avg. log-loss = 0.434457, AUC = 0.479\n",
      "### step 3154\n",
      "train set: avg. log-loss = 0.509732, AUC = 0.575\n",
      "test set: avg. log-loss = 0.432548, AUC = 0.480\n",
      "### step 4731\n",
      "train set: avg. log-loss = 0.508069, AUC = 0.588\n",
      "test set: avg. log-loss = 0.435694, AUC = 0.477\n",
      "### step 6308\n",
      "train set: avg. log-loss = 0.507127, AUC = 0.595\n",
      "test set: avg. log-loss = 0.434739, AUC = 0.476\n",
      "### step 7885\n",
      "train set: avg. log-loss = 0.506628, AUC = 0.597\n",
      "test set: avg. log-loss = 0.435812, AUC = 0.474\n",
      "### step 9462\n",
      "train set: avg. log-loss = 0.506292, AUC = 0.597\n",
      "test set: avg. log-loss = 0.434166, AUC = 0.473\n",
      "### step 11039\n",
      "train set: avg. log-loss = 0.506068, AUC = 0.600\n",
      "test set: avg. log-loss = 0.434015, AUC = 0.473\n",
      "### step 12616\n",
      "train set: avg. log-loss = 0.505933, AUC = 0.599\n",
      "test set: avg. log-loss = 0.435477, AUC = 0.472\n",
      "### step 14193\n",
      "train set: avg. log-loss = 0.505840, AUC = 0.603\n",
      "test set: avg. log-loss = 0.434564, AUC = 0.472\n",
      "### step 15770\n",
      "train set: avg. log-loss = 0.505784, AUC = 0.602\n",
      "test set: avg. log-loss = 0.435322, AUC = 0.472\n",
      "### step 17347\n",
      "train set: avg. log-loss = 0.505736, AUC = 0.603\n",
      "test set: avg. log-loss = 0.434971, AUC = 0.472\n",
      "### step 18924\n",
      "train set: avg. log-loss = 0.505706, AUC = 0.602\n",
      "test set: avg. log-loss = 0.435216, AUC = 0.471\n",
      "### step 20501\n",
      "train set: avg. log-loss = 0.505684, AUC = 0.602\n",
      "test set: avg. log-loss = 0.435162, AUC = 0.471\n",
      "### step 22078\n",
      "train set: avg. log-loss = 0.505670, AUC = 0.602\n",
      "test set: avg. log-loss = 0.434883, AUC = 0.471\n",
      "### step 23655\n",
      "train set: avg. log-loss = 0.505664, AUC = 0.603\n",
      "test set: avg. log-loss = 0.434841, AUC = 0.471\n",
      "### step 25232\n",
      "train set: avg. log-loss = 0.505655, AUC = 0.602\n",
      "test set: avg. log-loss = 0.434954, AUC = 0.471\n",
      "### step 26809\n",
      "train set: avg. log-loss = 0.505649, AUC = 0.603\n",
      "test set: avg. log-loss = 0.434866, AUC = 0.471\n",
      "### step 28386\n",
      "train set: avg. log-loss = 0.505652, AUC = 0.603\n",
      "test set: avg. log-loss = 0.434941, AUC = 0.471\n",
      "### step 29963\n",
      "train set: avg. log-loss = 0.505649, AUC = 0.603\n",
      "test set: avg. log-loss = 0.434889, AUC = 0.471\n",
      "### step 31540\n",
      "train set: avg. log-loss = 0.505647, AUC = 0.603\n",
      "test set: avg. log-loss = 0.434905, AUC = 0.471\n",
      "### step 33117\n",
      "train set: avg. log-loss = 0.505651, AUC = 0.603\n",
      "test set: avg. log-loss = 0.434904, AUC = 0.471\n",
      "### step 34694\n",
      "train set: avg. log-loss = 0.505649, AUC = 0.603\n",
      "test set: avg. log-loss = 0.434892, AUC = 0.471\n",
      "### step 36271\n",
      "train set: avg. log-loss = 0.505648, AUC = 0.603\n",
      "test set: avg. log-loss = 0.434884, AUC = 0.471\n",
      "### step 37848\n",
      "train set: avg. log-loss = 0.505647, AUC = 0.603\n",
      "test set: avg. log-loss = 0.434884, AUC = 0.471\n",
      "### step 39425\n",
      "train set: avg. log-loss = 0.505646, AUC = 0.603\n",
      "test set: avg. log-loss = 0.434880, AUC = 0.471\n",
      "### step 41002\n",
      "train set: avg. log-loss = 0.505645, AUC = 0.603\n",
      "test set: avg. log-loss = 0.434875, AUC = 0.471\n",
      "### step 42579\n",
      "train set: avg. log-loss = 0.505645, AUC = 0.603\n",
      "test set: avg. log-loss = 0.434864, AUC = 0.471\n",
      "### step 44156\n",
      "train set: avg. log-loss = 0.505645, AUC = 0.603\n",
      "test set: avg. log-loss = 0.434873, AUC = 0.471\n",
      "### step 45733\n",
      "train set: avg. log-loss = 0.505645, AUC = 0.603\n",
      "test set: avg. log-loss = 0.434892, AUC = 0.471\n",
      "### step 47310\n",
      "train set: avg. log-loss = 0.505645, AUC = 0.603\n",
      "test set: avg. log-loss = 0.434849, AUC = 0.471\n",
      "CPU times: user 10min 51s, sys: 3min 52s, total: 14min 43s\n",
      "Wall time: 4min 8s\n"
     ]
    }
   ],
   "source": [
    "%%time\n",
    "epochs = 30\n",
    "\n",
    "with session.as_default():\n",
    "    for i in range(epochs):\n",
    "        for batch in WikiData.minibatches(train_data, batch_size):\n",
    "            step += 1\n",
    "            # Train the model on a batch.\n",
    "            feed_dict = {\n",
    "                model.user_id: batch[0],\n",
    "                model.article_id: batch[1],\n",
    "                model.quality: batch[2],\n",
    "            }\n",
    "            _ = session.run(train_op, feed_dict=feed_dict)\n",
    "\n",
    "        evaluate_model(step=step)\n",
    "#         print(\"global bias: {:.3f}\".format(model.global_bias.eval()))"
   ]
  },
  {
   "cell_type": "markdown",
   "metadata": {},
   "source": [
    "## Qualitative results"
   ]
  },
  {
   "cell_type": "code",
   "execution_count": 7,
   "metadata": {},
   "outputs": [],
   "source": [
    "with session.as_default():\n",
    "    skills = model.skill.eval()\n",
    "    difficulties = model.difficulty.eval()\n",
    "articles = dataset.get_articles()\n",
    "users = dataset.get_users()"
   ]
  },
  {
   "cell_type": "code",
   "execution_count": 8,
   "metadata": {},
   "outputs": [
    {
     "name": "stdout",
     "output_type": "stream",
     "text": [
      "### 5 most difficult articles:\n",
      " 1 +0.910 Vladimir Lenin bibliyografyasÄ± (1133 edits, 54 users)\n",
      "    https://tr.wikipedia.org/wiki/Vladimir%20Lenin%20bibliyografyas%C3%84%C2%B1\n",
      " 2 +0.803 Mehmet GÃ¼leryÃ¼z (445 edits, 38 users)\n",
      "    https://tr.wikipedia.org/wiki/Mehmet%20G%C3%83%C2%BClery%C3%83%C2%BCz\n",
      " 3 +0.788 The Texas Chainsaw Massacre karakterleri listesi (344 edits, 56 users)\n",
      "    https://tr.wikipedia.org/wiki/The%20Texas%20Chainsaw%20Massacre%20karakterleri%20listesi\n",
      " 4 +0.784 Buffy the Vampire Slayer yan karakterleri listesi (174 edits, 37 users)\n",
      "    https://tr.wikipedia.org/wiki/Buffy%20the%20Vampire%20Slayer%20yan%20karakterleri%20listesi\n",
      " 5 +0.772 ZÃ¼mrÃ¼dÃ¼anka YoldaÅlÄ±ÄÄ± (1055 edits, 460 users)\n",
      "    https://tr.wikipedia.org/wiki/Z%C3%83%C2%BCmr%C3%83%C2%BCd%C3%83%C2%BCanka%20Yolda%C3%85%C2%9Fl%C3%84%C2%B1%C3%84%C2%9F%C3%84%C2%B1\n",
      "\n",
      "### 5 least difficult articles:\n",
      " 1 +0.204 Augusto De Luca (148 edits, 26 users)\n",
      "    https://tr.wikipedia.org/wiki/Augusto%20De%20Luca\n",
      " 2 +0.239 Anime karakterleri listesi (324 edits, 164 users)\n",
      "    https://tr.wikipedia.org/wiki/Anime%20karakterleri%20listesi\n",
      " 3 +0.239 Nha Trang (105 edits, 28 users)\n",
      "    https://tr.wikipedia.org/wiki/Nha%20Trang\n",
      " 4 +0.241 ZichyÃºjfalu (222 edits, 22 users)\n",
      "    https://tr.wikipedia.org/wiki/Zichy%C3%83%C2%BAjfalu\n",
      " 5 +0.248 UniversitÃ  degli Studi NiccolÃ² Cusano (113 edits, 33 users)\n",
      "    https://tr.wikipedia.org/wiki/Universit%C3%83%C2%A0%20degli%20Studi%20Niccol%C3%83%C2%B2%20Cusano\n"
     ]
    }
   ],
   "source": [
    "wikiutils.print_articles_summary(1 / np.exp(difficulties), articles, n=5)"
   ]
  },
  {
   "cell_type": "code",
   "execution_count": 9,
   "metadata": {},
   "outputs": [
    {
     "name": "stdout",
     "output_type": "stream",
     "text": [
      "### 5 most skilled users:\n",
      " 1 +2.187 Rotlink (790 edits, 723 articles)\n",
      "    https://tr.wikipedia.org/wiki/User:Rotlink\n",
      " 2 +2.091 MerlLinkBot (1085 edits, 1055 articles)\n",
      "    https://tr.wikipedia.org/wiki/User:MerlLinkBot\n",
      " 3 +2.059 Fabian RRRR (272 edits, 258 articles)\n",
      "    https://tr.wikipedia.org/wiki/User:Fabian%20RRRR\n",
      " 4 +2.008 Japan Football (6828 edits, 5217 articles)\n",
      "    https://tr.wikipedia.org/wiki/User:Japan%20Football\n",
      " 5 +2.001 KumulBot (159803 edits, 89678 articles)\n",
      "    https://tr.wikipedia.org/wiki/User:KumulBot\n",
      "\n",
      "### 5 least skilled users:\n",
      " 1 -0.371 - (154 edits, 152 articles)\n",
      "    https://tr.wikipedia.org/wiki/User:-\n",
      " 2 -0.370 - (221 edits, 221 articles)\n",
      "    https://tr.wikipedia.org/wiki/User:-\n",
      " 3 -0.307 - (218 edits, 107 articles)\n",
      "    https://tr.wikipedia.org/wiki/User:-\n",
      " 4 -0.193 - (73 edits, 66 articles)\n",
      "    https://tr.wikipedia.org/wiki/User:-\n",
      " 5 -0.175 - (83 edits, 72 articles)\n",
      "    https://tr.wikipedia.org/wiki/User:-\n"
     ]
    }
   ],
   "source": [
    "wikiutils.print_users_summary(skills, users, n=5)"
   ]
  },
  {
   "cell_type": "code",
   "execution_count": 10,
   "metadata": {},
   "outputs": [
    {
     "data": {
      "text/plain": [
       "Text(0.5,1,'Histogram of article difficulties')"
      ]
     },
     "execution_count": 10,
     "metadata": {},
     "output_type": "execute_result"
    },
    {
     "data": {
      "image/png": "[encoded data removed]",
      "text/plain": [
       "<matplotlib.figure.Figure at 0x7fa420890668>"
      ]
     },
     "metadata": {},
     "output_type": "display_data"
    }
   ],
   "source": [
    "fig, (ax1, ax2) = plt.subplots(ncols=2, figsize=(16, 5), sharex=True)\n",
    "\n",
    "ax1.hist(skills, bins=np.linspace(-2, 2, num=50))\n",
    "ax1.set_title(\"Histogram of user skills\")\n",
    "\n",
    "ax2.hist(difficulties, bins=np.linspace(-2, 2, num=50))\n",
    "ax2.set_title(\"Histogram of article difficulties\")"
   ]
  },
  {
   "cell_type": "code",
   "execution_count": 11,
   "metadata": {},
   "outputs": [],
   "source": [
    "with session.as_default():\n",
    "    probs = model.probability.eval(feed_dict=feed[\"test\"])"
   ]
  },
  {
   "cell_type": "code",
   "execution_count": 12,
   "metadata": {},
   "outputs": [
    {
     "data": {
      "text/plain": [
       "Text(0.5,1,'Histogram of model estimates')"
      ]
     },
     "execution_count": 12,
     "metadata": {},
     "output_type": "execute_result"
    },
    {
     "data": {
      "image/png": "[encoded data removed]",
      "text/plain": [
       "<matplotlib.figure.Figure at 0x7fa41e7d4ef0>"
      ]
     },
     "metadata": {},
     "output_type": "display_data"
    }
   ],
   "source": [
    "fig, (ax1, ax2) = plt.subplots(ncols=2, figsize=(16, 5), sharex=True)\n",
    "\n",
    "ax1.hist(test_data[2], bins=np.linspace(0, 1, num=40))\n",
    "ax1.set_title(\"Histogram of true probabilities\")\n",
    "\n",
    "ax2.hist(probs, bins=np.linspace(0, 1, num=40))\n",
    "ax2.set_title(\"Histogram of model estimates\")"
   ]
  },
  {
   "cell_type": "markdown",
   "metadata": {},
   "source": [
    "## Quantitative results"
   ]
  },
  {
   "cell_type": "code",
   "execution_count": 13,
   "metadata": {},
   "outputs": [
    {
     "name": "stdout",
     "output_type": "stream",
     "text": [
      "proportion of positive labels: 0.168\n"
     ]
    }
   ],
   "source": [
    "labels = (test_data[2] < 0.5).astype(int)\n",
    "precision, recall, _ = precision_recall_curve(labels, 1 - probs)\n",
    "auc = average_precision_score(labels, 1 - probs)\n",
    "\n",
    "print(\"proportion of positive labels: {:.3f}\".format(sum(labels) / len(labels)))"
   ]
  },
  {
   "cell_type": "code",
   "execution_count": 14,
   "metadata": {},
   "outputs": [
    {
     "data": {
      "text/plain": [
       "Text(0.5,1,'Precision-recall curve (AUC: 0.471)')"
      ]
     },
     "execution_count": 14,
     "metadata": {},
     "output_type": "execute_result"
    },
    {
     "data": {
      "image/png": "[encoded data removed]",
      "text/plain": [
       "<matplotlib.figure.Figure at 0x7fa41e648f28>"
      ]
     },
     "metadata": {},
     "output_type": "display_data"
    }
   ],
   "source": [
    "fig, ax = plt.subplots(figsize=(7.0, 5.0))\n",
    "ax.plot(recall, precision)\n",
    "ax.set_xlim(xmin=0.0, xmax=1.0)\n",
    "ax.set_ylim(ymin=0.0, ymax=1.0)\n",
    "ax.set_ylabel(\"precision\")\n",
    "ax.set_xlabel(\"recall\")\n",
    "ax.set_title(\"Precision-recall curve (AUC: {:.3})\".format(auc))"
   ]
  },
  {
   "cell_type": "markdown",
   "metadata": {},
   "source": [
    "## Save data for plotting, etc."
   ]
  },
  {
   "cell_type": "code",
   "execution_count": 15,
   "metadata": {},
   "outputs": [
    {
     "data": {
      "text/plain": [
       "'../trained-models/trwiki/whitehill.ckpt'"
      ]
     },
     "execution_count": 15,
     "metadata": {},
     "output_type": "execute_result"
    }
   ],
   "source": [
    "# Save TensorFlow model\n",
    "saver = tf.train.Saver()\n",
    "saver.save(session, \"../trained-models/trwiki/whitehill.ckpt\")"
   ]
  },
  {
   "cell_type": "code",
   "execution_count": 16,
   "metadata": {},
   "outputs": [],
   "source": [
    "data = {\n",
    "    \"y_true\": test_data[2],\n",
    "    \"y_pred\": probs,\n",
    "}\n",
    "with open(\"../data/trwiki-whitehill-pred.pickle\", \"wb\") as f:\n",
    "    pickle.dump(data, f)"
   ]
  }
 ],
 "metadata": {
  "kernelspec": {
   "display_name": "Python 3",
   "language": "python",
   "name": "python3"
  },
  "language_info": {
   "codemirror_mode": {
    "name": "ipython",
    "version": 3
   },
   "file_extension": ".py",
   "mimetype": "text/x-python",
   "name": "python",
   "nbconvert_exporter": "python",
   "pygments_lexer": "ipython3",
   "version": "3.6.3"
  }
 },
 "nbformat": 4,
 "nbformat_minor": 2
}
