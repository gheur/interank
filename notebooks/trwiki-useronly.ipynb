{
 "cells": [
  {
   "cell_type": "markdown",
   "metadata": {},
   "source": [
    "# Turkish Wikipedia, baseline model with user skill _only_\n",
    "\n",
    "- dataset: `trwiki`\n",
    "- model: _only user skil (article difficulties set to $0$)_\n",
    "- optimizer: _SGD with decaying learning rate_\n",
    "- regularization: $\\ell_2$"
   ]
  },
  {
   "cell_type": "code",
   "execution_count": 1,
   "metadata": {},
   "outputs": [],
   "source": [
    "import math\n",
    "import matplotlib.pyplot as plt\n",
    "import numpy as np\n",
    "import os\n",
    "import pickle\n",
    "import tensorflow as tf\n",
    "\n",
    "from datetime import datetime\n",
    "from sklearn.metrics import (\n",
    "    precision_recall_curve, average_precision_score)\n",
    "from interank import wikiutils\n",
    "from interank.models import BasicModel\n",
    "from interank.wikidata import WikiData\n",
    "\n",
    "%matplotlib inline"
   ]
  },
  {
   "cell_type": "code",
   "execution_count": 2,
   "metadata": {},
   "outputs": [],
   "source": [
    "os.environ[\"CUDA_DEVICE_ORDER\"] = \"PCI_BUS_ID\"\n",
    "os.environ[\"CUDA_VISIBLE_DEVICES\"] = \"0\""
   ]
  },
  {
   "cell_type": "markdown",
   "metadata": {},
   "source": [
    "## Loading the dataset"
   ]
  },
  {
   "cell_type": "code",
   "execution_count": 3,
   "metadata": {},
   "outputs": [
    {
     "name": "stdout",
     "output_type": "stream",
     "text": [
      "=========\n",
      "Training set: 7882291 edits\n",
      "Test set: 532087 edits\n",
      "Number of users: 1393027\n",
      "Number of articles: 541476\n",
      "=========\n",
      "CPU times: user 16.2 s, sys: 1.09 s, total: 17.3 s\n",
      "Wall time: 16.8 s\n"
     ]
    }
   ],
   "source": [
    "%%time\n",
    "dataset = WikiData(\"/data/datasets/trwiki\")\n",
    "# dataset.load_bots()\n",
    "\n",
    "train_data = dataset.get_train_data()\n",
    "test_data = dataset.get_test_data()\n",
    "\n",
    "print(\"=========\")\n",
    "print(\"Training set: {} edits\".format(len(train_data[0])))\n",
    "print(\"Test set: {} edits\".format(len(test_data[0])))\n",
    "print(\"Number of users: {}\".format(dataset.n_users))\n",
    "print(\"Number of articles: {}\".format(dataset.n_articles))\n",
    "print(\"=========\")"
   ]
  },
  {
   "cell_type": "markdown",
   "metadata": {},
   "source": [
    "## Setting up the model\n",
    "\n",
    "- batch size: $5000$\n",
    "- learning rate: $0.1$\n",
    "- decay rate: $0.7$\n",
    "- regularization coeff: $2.0$\n",
    "\n",
    "The model also includes a global bias, which is not regularized and has a distinct learning rate ($10^{-4}$, decay rate $0.7$)."
   ]
  },
  {
   "cell_type": "code",
   "execution_count": 4,
   "metadata": {},
   "outputs": [],
   "source": [
    "model = BasicModel(\n",
    "    n_users=dataset.n_users, n_articles=dataset.n_articles, global_bias=True)"
   ]
  },
  {
   "cell_type": "code",
   "execution_count": 5,
   "metadata": {},
   "outputs": [
    {
     "name": "stdout",
     "output_type": "stream",
     "text": [
      "Total number of batches: 1577\n"
     ]
    }
   ],
   "source": [
    "# Reset graph to run the notebook twice in a row without error.\n",
    "tf.reset_default_graph()\n",
    "\n",
    "model = BasicModel(\n",
    "    n_users=dataset.n_users, n_articles=dataset.n_articles, global_bias=True)\n",
    "\n",
    "# Setup the optimisation procedure\n",
    "batch_size = 5000\n",
    "n_batches = math.ceil(len(train_data[0]) / batch_size)\n",
    "print(\"Total number of batches: {}\".format(n_batches))\n",
    "\n",
    "# Setup train op.\n",
    "# Setup train op.\n",
    "cost = (-model.log_likelihood\n",
    "        + (2.0/n_batches) * (model.l2_difficulty + model.l2_skill))\n",
    "\n",
    "# SGD with decaying learning rate.\n",
    "learning_rate = 0.1\n",
    "batch_idx_params = tf.Variable(0, trainable=False)\n",
    "learning_rate_params = tf.train.exponential_decay(\n",
    "    learning_rate=learning_rate,\n",
    "    global_step=(batch_idx_params * batch_size),\n",
    "    decay_steps=len(train_data[0]),\n",
    "    decay_rate=0.7,\n",
    "    staircase=True\n",
    ")\n",
    "batch_idx_bias = tf.Variable(0, trainable=False)\n",
    "learning_rate_bias = tf.train.exponential_decay(\n",
    "    learning_rate=1e-4,\n",
    "    global_step=(batch_idx_bias * batch_size),\n",
    "    decay_steps=len(train_data[0]),\n",
    "    decay_rate=0.7,\n",
    "    staircase=True\n",
    ")\n",
    "train_params = tf.train.GradientDescentOptimizer(learning_rate_params).minimize(\n",
    "        cost, global_step=batch_idx_params,\n",
    "        var_list=[model.skill])\n",
    "train_bias = tf.train.GradientDescentOptimizer(learning_rate_bias).minimize(\n",
    "        cost, global_step=batch_idx_bias,\n",
    "        var_list=[model.global_bias])\n",
    "train_op = tf.group(train_params, train_bias)"
   ]
  },
  {
   "cell_type": "code",
   "execution_count": 6,
   "metadata": {},
   "outputs": [
    {
     "name": "stdout",
     "output_type": "stream",
     "text": [
      "### step 0\n",
      "train set: avg. log-loss = 0.693147, AUC = 0.220\n",
      "test set: avg. log-loss = 0.693149, AUC = 0.168\n"
     ]
    }
   ],
   "source": [
    "step = 0\n",
    "\n",
    "feed = {\n",
    "    \"train\": {\n",
    "        model.user_id: train_data[0],\n",
    "        model.article_id: train_data[1],\n",
    "        model.quality: train_data[2],\n",
    "    },\n",
    "    \"test\": {\n",
    "        model.user_id: test_data[0],\n",
    "        model.article_id: test_data[1],\n",
    "        model.quality: test_data[2],\n",
    "    }\n",
    "}\n",
    "\n",
    "def evaluate_model(step, bad_edit_threshold=0.5):\n",
    "    print(\"### step {}\".format(step))\n",
    "    for which in (\"train\", \"test\"):\n",
    "        avg_log_loss, probs = session.run(\n",
    "            [model.avg_log_loss, model.probability], feed_dict=feed[which])\n",
    "        labels = (feed[which][model.quality] < bad_edit_threshold).astype(int)\n",
    "        auc = average_precision_score(labels, 1 - probs)\n",
    "        print(\"{} set: avg. log-loss = {:.6f}, AUC = {:.3f}\".format(\n",
    "                which, avg_log_loss, auc))\n",
    "\n",
    "# Initialise Tensorflow's variables\n",
    "session = tf.Session()\n",
    "session.run(tf.global_variables_initializer())\n",
    "\n",
    "# Evalute \"empty\" model.\n",
    "evaluate_model(step=step)"
   ]
  },
  {
   "cell_type": "markdown",
   "metadata": {},
   "source": [
    "## Training the model"
   ]
  },
  {
   "cell_type": "code",
   "execution_count": 7,
   "metadata": {},
   "outputs": [
    {
     "name": "stdout",
     "output_type": "stream",
     "text": [
      "### step 1577\n",
      "train set: avg. log-loss = 0.519332, AUC = 0.598\n",
      "test set: avg. log-loss = 0.440943, AUC = 0.406\n",
      "global bias: 0.172\n",
      "### step 3154\n",
      "train set: avg. log-loss = 0.514948, AUC = 0.623\n",
      "test set: avg. log-loss = 0.434809, AUC = 0.410\n",
      "global bias: 0.159\n",
      "### step 4731\n",
      "train set: avg. log-loss = 0.513049, AUC = 0.634\n",
      "test set: avg. log-loss = 0.438078, AUC = 0.410\n",
      "global bias: 0.151\n",
      "### step 6308\n",
      "train set: avg. log-loss = 0.511857, AUC = 0.639\n",
      "test set: avg. log-loss = 0.436276, AUC = 0.410\n",
      "global bias: 0.148\n",
      "### step 7885\n",
      "train set: avg. log-loss = 0.511175, AUC = 0.632\n",
      "test set: avg. log-loss = 0.438187, AUC = 0.409\n",
      "global bias: 0.151\n",
      "### step 9462\n",
      "train set: avg. log-loss = 0.510706, AUC = 0.627\n",
      "test set: avg. log-loss = 0.435700, AUC = 0.411\n",
      "global bias: 0.148\n",
      "### step 11039\n",
      "train set: avg. log-loss = 0.510392, AUC = 0.636\n",
      "test set: avg. log-loss = 0.435432, AUC = 0.410\n",
      "global bias: 0.146\n",
      "### step 12616\n",
      "train set: avg. log-loss = 0.510204, AUC = 0.636\n",
      "test set: avg. log-loss = 0.437651, AUC = 0.410\n",
      "global bias: 0.147\n",
      "### step 14193\n",
      "train set: avg. log-loss = 0.510047, AUC = 0.640\n",
      "test set: avg. log-loss = 0.435757, AUC = 0.410\n",
      "global bias: 0.147\n",
      "### step 15770\n",
      "train set: avg. log-loss = 0.509970, AUC = 0.634\n",
      "test set: avg. log-loss = 0.437075, AUC = 0.410\n",
      "global bias: 0.145\n",
      "### step 17347\n",
      "train set: avg. log-loss = 0.509899, AUC = 0.637\n",
      "test set: avg. log-loss = 0.436193, AUC = 0.410\n",
      "global bias: 0.146\n",
      "### step 18924\n",
      "train set: avg. log-loss = 0.509851, AUC = 0.641\n",
      "test set: avg. log-loss = 0.436311, AUC = 0.410\n",
      "global bias: 0.145\n",
      "### step 20501\n",
      "train set: avg. log-loss = 0.509820, AUC = 0.637\n",
      "test set: avg. log-loss = 0.436484, AUC = 0.410\n",
      "global bias: 0.145\n",
      "### step 22078\n",
      "train set: avg. log-loss = 0.509797, AUC = 0.639\n",
      "test set: avg. log-loss = 0.436006, AUC = 0.410\n",
      "global bias: 0.145\n",
      "### step 23655\n",
      "train set: avg. log-loss = 0.509783, AUC = 0.637\n",
      "test set: avg. log-loss = 0.436137, AUC = 0.410\n",
      "global bias: 0.145\n",
      "CPU times: user 4min 55s, sys: 2min 14s, total: 7min 9s\n",
      "Wall time: 1min 45s\n"
     ]
    }
   ],
   "source": [
    "%%time\n",
    "epochs = 15\n",
    "\n",
    "with session.as_default():\n",
    "    for i in range(epochs):\n",
    "        for batch in WikiData.minibatches(train_data, batch_size):\n",
    "            step += 1\n",
    "            # Train the model on a batch.\n",
    "            feed_dict = {\n",
    "                model.user_id: batch[0],\n",
    "                model.article_id: batch[1],\n",
    "                model.quality: batch[2],\n",
    "            }\n",
    "            _ = session.run(train_op, feed_dict=feed_dict)\n",
    "\n",
    "        evaluate_model(step=step)\n",
    "        print(\"global bias: {:.3f}\".format(model.global_bias.eval()))"
   ]
  },
  {
   "cell_type": "markdown",
   "metadata": {},
   "source": [
    "## Qualitative results"
   ]
  },
  {
   "cell_type": "code",
   "execution_count": 8,
   "metadata": {},
   "outputs": [],
   "source": [
    "with session.as_default():\n",
    "    skills = model.skill.eval()\n",
    "    difficulties = model.difficulty.eval()\n",
    "articles = dataset.get_articles()\n",
    "users = dataset.get_users()"
   ]
  },
  {
   "cell_type": "code",
   "execution_count": 9,
   "metadata": {},
   "outputs": [
    {
     "name": "stdout",
     "output_type": "stream",
     "text": [
      "### 2 most difficult articles:\n",
      " 1 +0.000 Daniel Saric (1 edits, 1 users)\n",
      "    https://tr.wikipedia.org/wiki/Daniel%20Saric\n",
      " 2 +0.000 Oskarshamn (37 edits, 24 users)\n",
      "    https://tr.wikipedia.org/wiki/Oskarshamn\n",
      "\n",
      "### 2 least difficult articles:\n",
      " 1 +0.000 Cengiz Han (1168 edits, 524 users)\n",
      "    https://tr.wikipedia.org/wiki/Cengiz%20Han\n",
      " 2 +0.000 Frontinellina frutetorum (9 edits, 6 users)\n",
      "    https://tr.wikipedia.org/wiki/Frontinellina%20frutetorum\n"
     ]
    }
   ],
   "source": [
    "wikiutils.print_articles_summary(difficulties, articles, n=2)"
   ]
  },
  {
   "cell_type": "code",
   "execution_count": 10,
   "metadata": {},
   "outputs": [
    {
     "name": "stdout",
     "output_type": "stream",
     "text": [
      "### 5 most skilled users:\n",
      " 1 +3.158 Rotlink (790 edits, 723 articles)\n",
      "    https://tr.wikipedia.org/wiki/User:Rotlink\n",
      " 2 +2.981 Fabian RRRR (272 edits, 258 articles)\n",
      "    https://tr.wikipedia.org/wiki/User:Fabian%20RRRR\n",
      " 3 +2.958 - (179 edits, 176 articles)\n",
      "    https://tr.wikipedia.org/wiki/User:-\n",
      " 4 +2.957 MerlLinkBot (1085 edits, 1055 articles)\n",
      "    https://tr.wikipedia.org/wiki/User:MerlLinkBot\n",
      " 5 +2.954 - (194 edits, 184 articles)\n",
      "    https://tr.wikipedia.org/wiki/User:-\n",
      "\n",
      "### 5 least skilled users:\n",
      " 1 -2.542 - (154 edits, 152 articles)\n",
      "    https://tr.wikipedia.org/wiki/User:-\n",
      " 2 -2.495 - (218 edits, 107 articles)\n",
      "    https://tr.wikipedia.org/wiki/User:-\n",
      " 3 -2.474 - (221 edits, 221 articles)\n",
      "    https://tr.wikipedia.org/wiki/User:-\n",
      " 4 -2.267 - (73 edits, 66 articles)\n",
      "    https://tr.wikipedia.org/wiki/User:-\n",
      " 5 -2.195 Tækebeg (83 edits, 83 articles)\n",
      "    https://tr.wikipedia.org/wiki/User:T%C3%A6kebeg\n"
     ]
    }
   ],
   "source": [
    "wikiutils.print_users_summary(skills, users, n=5)"
   ]
  },
  {
   "cell_type": "code",
   "execution_count": 11,
   "metadata": {},
   "outputs": [
    {
     "data": {
      "text/plain": [
       "<matplotlib.text.Text at 0x7fe98de015c0>"
      ]
     },
     "execution_count": 11,
     "metadata": {},
     "output_type": "execute_result"
    },
    {
     "data": {
      "image/png": "[encoded data removed]",
      "text/plain": [
       "<matplotlib.figure.Figure at 0x7fe98feec4e0>"
      ]
     },
     "metadata": {},
     "output_type": "display_data"
    }
   ],
   "source": [
    "fig, (ax1, ax2) = plt.subplots(ncols=2, figsize=(16, 5), sharex=True)\n",
    "\n",
    "ax1.hist(skills, bins=np.linspace(-2, 2, num=50))\n",
    "ax1.set_title(\"Histogram of user skills\")\n",
    "\n",
    "ax2.hist(difficulties, bins=np.linspace(-2, 2, num=50))\n",
    "ax2.set_title(\"Histogram of article difficulties\")"
   ]
  },
  {
   "cell_type": "code",
   "execution_count": 12,
   "metadata": {},
   "outputs": [],
   "source": [
    "with session.as_default():\n",
    "    probs = model.probability.eval(feed_dict=feed[\"test\"])"
   ]
  },
  {
   "cell_type": "code",
   "execution_count": 13,
   "metadata": {},
   "outputs": [
    {
     "data": {
      "text/plain": [
       "<matplotlib.text.Text at 0x7fe98dbced68>"
      ]
     },
     "execution_count": 13,
     "metadata": {},
     "output_type": "execute_result"
    },
    {
     "data": {
      "image/png": "[encoded data removed]",
      "text/plain": [
       "<matplotlib.figure.Figure at 0x7fe98dca12b0>"
      ]
     },
     "metadata": {},
     "output_type": "display_data"
    }
   ],
   "source": [
    "fig, (ax1, ax2) = plt.subplots(ncols=2, figsize=(16, 5), sharex=True)\n",
    "\n",
    "ax1.hist(test_data[2], bins=np.linspace(0, 1, num=40))\n",
    "ax1.set_title(\"Histogram of true probabilities\")\n",
    "\n",
    "ax2.hist(probs, bins=np.linspace(0, 1, num=40))\n",
    "ax2.set_title(\"Histogram of model estimates\")"
   ]
  },
  {
   "cell_type": "markdown",
   "metadata": {},
   "source": [
    "## Quantitative results"
   ]
  },
  {
   "cell_type": "code",
   "execution_count": 14,
   "metadata": {},
   "outputs": [
    {
     "name": "stdout",
     "output_type": "stream",
     "text": [
      "proportion of positive labels: 0.168\n"
     ]
    }
   ],
   "source": [
    "labels = (test_data[2] < 0.5).astype(int)\n",
    "precision, recall, _ = precision_recall_curve(labels, 1 - probs)\n",
    "auc = average_precision_score(labels, 1 - probs)\n",
    "\n",
    "print(\"proportion of positive labels: {:.3f}\".format(sum(labels) / len(labels)))"
   ]
  },
  {
   "cell_type": "code",
   "execution_count": 15,
   "metadata": {},
   "outputs": [
    {
     "data": {
      "text/plain": [
       "<matplotlib.text.Text at 0x7fe98da72a20>"
      ]
     },
     "execution_count": 15,
     "metadata": {},
     "output_type": "execute_result"
    },
    {
     "data": {
      "image/png": "[encoded data removed]",
      "text/plain": [
       "<matplotlib.figure.Figure at 0x7fe98da44588>"
      ]
     },
     "metadata": {},
     "output_type": "display_data"
    }
   ],
   "source": [
    "fig, ax = plt.subplots(figsize=(7.0, 5.0))\n",
    "ax.plot(recall, precision)\n",
    "ax.set_xlim(xmin=0.0, xmax=1.0)\n",
    "ax.set_ylim(ymin=0.0, ymax=1.0)\n",
    "ax.set_ylabel(\"precision\")\n",
    "ax.set_xlabel(\"recall\")\n",
    "ax.set_title(\"Precision-recall curve (AUC: {:.3})\".format(auc))"
   ]
  },
  {
   "cell_type": "markdown",
   "metadata": {},
   "source": [
    "## Save data for plotting, etc."
   ]
  },
  {
   "cell_type": "code",
   "execution_count": 16,
   "metadata": {},
   "outputs": [],
   "source": [
    "data = {\n",
    "    \"y_true\": test_data[2],\n",
    "    \"y_pred\": probs,\n",
    "}\n",
    "with open(\"../data/trwiki-useronly-pred.pickle\", \"wb\") as f:\n",
    "    pickle.dump(data, f)"
   ]
  }
 ],
 "metadata": {
  "kernelspec": {
   "display_name": "Python 3",
   "language": "python",
   "name": "python3"
  },
  "language_info": {
   "codemirror_mode": {
    "name": "ipython",
    "version": 3
   },
   "file_extension": ".py",
   "mimetype": "text/x-python",
   "name": "python",
   "nbconvert_exporter": "python",
   "pygments_lexer": "ipython3",
   "version": "3.6.3"
  }
 },
 "nbformat": 4,
 "nbformat_minor": 2
}
