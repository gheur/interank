{
 "cells": [
  {
   "cell_type": "markdown",
   "metadata": {},
   "source": [
    "# French Wikipedia, baseline model with user skill _only_\n",
    "\n",
    "- dataset: `frwiki`\n",
    "- model: _only user skil (article difficulties set to $0$)_\n",
    "- optimizer: _SGD with decaying learning rate_\n",
    "- regularization: $\\ell_2$"
   ]
  },
  {
   "cell_type": "code",
   "execution_count": 1,
   "metadata": {},
   "outputs": [],
   "source": [
    "import math\n",
    "import matplotlib.pyplot as plt\n",
    "import numpy as np\n",
    "import os\n",
    "import pickle\n",
    "import tensorflow as tf\n",
    "\n",
    "from datetime import datetime\n",
    "from sklearn.metrics import (\n",
    "    precision_recall_curve, average_precision_score)\n",
    "from interank import wikiutils\n",
    "from interank.models import BasicModel\n",
    "from interank.wikidata import WikiData\n",
    "\n",
    "%matplotlib inline"
   ]
  },
  {
   "cell_type": "code",
   "execution_count": 2,
   "metadata": {},
   "outputs": [],
   "source": [
    "os.environ[\"CUDA_DEVICE_ORDER\"] = \"PCI_BUS_ID\"\n",
    "os.environ[\"CUDA_VISIBLE_DEVICES\"] = \"0\""
   ]
  },
  {
   "cell_type": "markdown",
   "metadata": {},
   "source": [
    "## Loading the dataset"
   ]
  },
  {
   "cell_type": "code",
   "execution_count": 3,
   "metadata": {},
   "outputs": [
    {
     "name": "stdout",
     "output_type": "stream",
     "text": [
      "=========\n",
      "Training set: 57984080 edits\n",
      "Test set: 4512971 edits\n",
      "Number of users: 5574732\n",
      "Number of articles: 3371084\n",
      "=========\n",
      "CPU times: user 1min 55s, sys: 9.62 s, total: 2min 5s\n",
      "Wall time: 2min 1s\n"
     ]
    }
   ],
   "source": [
    "%%time\n",
    "dataset = WikiData(\"/data/datasets/frwiki\")\n",
    "# dataset.load_bots()\n",
    "\n",
    "train_data = dataset.get_train_data()\n",
    "test_data = dataset.get_test_data()\n",
    "\n",
    "print(\"=========\")\n",
    "print(\"Training set: {} edits\".format(len(train_data[0])))\n",
    "print(\"Test set: {} edits\".format(len(test_data[0])))\n",
    "print(\"Number of users: {}\".format(dataset.n_users))\n",
    "print(\"Number of articles: {}\".format(dataset.n_articles))\n",
    "print(\"=========\")"
   ]
  },
  {
   "cell_type": "markdown",
   "metadata": {},
   "source": [
    "## Setting up the model\n",
    "\n",
    "- batch size: $5000$\n",
    "- learning rate: $0.1$\n",
    "- decay rate: $0.7$\n",
    "- regularization coeff: $2.0$\n",
    "\n",
    "The model also includes a global bias, which is not regularized and has a distinct learning rate ($10^{-4}$, decay rate $0.7$)."
   ]
  },
  {
   "cell_type": "code",
   "execution_count": 4,
   "metadata": {},
   "outputs": [],
   "source": [
    "model = BasicModel(\n",
    "    n_users=dataset.n_users, n_articles=dataset.n_articles, global_bias=True)"
   ]
  },
  {
   "cell_type": "code",
   "execution_count": 5,
   "metadata": {},
   "outputs": [
    {
     "name": "stdout",
     "output_type": "stream",
     "text": [
      "Total number of batches: 11597\n"
     ]
    }
   ],
   "source": [
    "# Reset graph to run the notebook twice in a row without error.\n",
    "tf.reset_default_graph()\n",
    "\n",
    "model = BasicModel(\n",
    "    n_users=dataset.n_users, n_articles=dataset.n_articles, global_bias=True)\n",
    "\n",
    "# Setup the optimisation procedure\n",
    "batch_size = 5000\n",
    "n_batches = math.ceil(len(train_data[0]) / batch_size)\n",
    "print(\"Total number of batches: {}\".format(n_batches))\n",
    "\n",
    "# Setup train op.\n",
    "# Setup train op.\n",
    "cost = (-model.log_likelihood\n",
    "        + (2.0/n_batches) * (model.l2_difficulty + model.l2_skill))\n",
    "\n",
    "# SGD with decaying learning rate.\n",
    "learning_rate = 0.1\n",
    "batch_idx_params = tf.Variable(0, trainable=False)\n",
    "learning_rate_params = tf.train.exponential_decay(\n",
    "    learning_rate=learning_rate,\n",
    "    global_step=(batch_idx_params * batch_size),\n",
    "    decay_steps=len(train_data[0]),\n",
    "    decay_rate=0.7,\n",
    "    staircase=True\n",
    ")\n",
    "batch_idx_bias = tf.Variable(0, trainable=False)\n",
    "learning_rate_bias = tf.train.exponential_decay(\n",
    "    learning_rate=1e-4,\n",
    "    global_step=(batch_idx_bias * batch_size),\n",
    "    decay_steps=len(train_data[0]),\n",
    "    decay_rate=0.7,\n",
    "    staircase=True\n",
    ")\n",
    "train_params = tf.train.GradientDescentOptimizer(learning_rate_params).minimize(\n",
    "        cost, global_step=batch_idx_params,\n",
    "        var_list=[model.skill])\n",
    "train_bias = tf.train.GradientDescentOptimizer(learning_rate_bias).minimize(\n",
    "        cost, global_step=batch_idx_bias,\n",
    "        var_list=[model.global_bias])\n",
    "train_op = tf.group(train_params, train_bias)"
   ]
  },
  {
   "cell_type": "code",
   "execution_count": 6,
   "metadata": {},
   "outputs": [
    {
     "name": "stdout",
     "output_type": "stream",
     "text": [
      "### step 0\n",
      "train set: avg. log-loss = 0.693046, AUC = 0.126\n",
      "test set: avg. log-loss = 0.693150, AUC = 0.131\n"
     ]
    }
   ],
   "source": [
    "step = 0\n",
    "\n",
    "feed = {\n",
    "    \"train\": {\n",
    "        model.user_id: train_data[0],\n",
    "        model.article_id: train_data[1],\n",
    "        model.quality: train_data[2],\n",
    "    },\n",
    "    \"test\": {\n",
    "        model.user_id: test_data[0],\n",
    "        model.article_id: test_data[1],\n",
    "        model.quality: test_data[2],\n",
    "    }\n",
    "}\n",
    "\n",
    "def evaluate_model(step, bad_edit_threshold=0.5):\n",
    "    print(\"### step {}\".format(step))\n",
    "    for which in (\"train\", \"test\"):\n",
    "        avg_log_loss, probs = session.run(\n",
    "            [model.avg_log_loss, model.probability], feed_dict=feed[which])\n",
    "        labels = (feed[which][model.quality] < bad_edit_threshold).astype(int)\n",
    "        auc = average_precision_score(labels, 1 - probs)\n",
    "        print(\"{} set: avg. log-loss = {:.6f}, AUC = {:.3f}\".format(\n",
    "                which, avg_log_loss, auc))\n",
    "\n",
    "# Initialise Tensorflow's variables\n",
    "session = tf.Session()\n",
    "session.run(tf.global_variables_initializer())\n",
    "\n",
    "# Evalute \"empty\" model.\n",
    "evaluate_model(step=step)"
   ]
  },
  {
   "cell_type": "markdown",
   "metadata": {},
   "source": [
    "## Training the model"
   ]
  },
  {
   "cell_type": "code",
   "execution_count": 7,
   "metadata": {},
   "outputs": [
    {
     "name": "stdout",
     "output_type": "stream",
     "text": [
      "### step 11597\n",
      "train set: avg. log-loss = 0.420414, AUC = 0.433\n",
      "test set: avg. log-loss = 0.411253, AUC = 0.308\n",
      "global bias: 0.802\n",
      "### step 23194\n",
      "train set: avg. log-loss = 0.417435, AUC = 0.446\n",
      "test set: avg. log-loss = 0.409931, AUC = 0.310\n",
      "global bias: 0.787\n",
      "### step 34791\n",
      "train set: avg. log-loss = 0.415864, AUC = 0.457\n",
      "test set: avg. log-loss = 0.409697, AUC = 0.311\n",
      "global bias: 0.776\n",
      "### step 46388\n",
      "train set: avg. log-loss = 0.414970, AUC = 0.480\n",
      "test set: avg. log-loss = 0.409337, AUC = 0.312\n",
      "global bias: 0.773\n",
      "### step 57985\n",
      "train set: avg. log-loss = 0.414358, AUC = 0.479\n",
      "test set: avg. log-loss = 0.409061, AUC = 0.312\n",
      "global bias: 0.771\n",
      "### step 69582\n",
      "train set: avg. log-loss = 0.414003, AUC = 0.471\n",
      "test set: avg. log-loss = 0.408943, AUC = 0.312\n",
      "global bias: 0.771\n",
      "### step 81179\n",
      "train set: avg. log-loss = 0.413770, AUC = 0.480\n",
      "test set: avg. log-loss = 0.408930, AUC = 0.312\n",
      "global bias: 0.769\n",
      "### step 92776\n",
      "train set: avg. log-loss = 0.413620, AUC = 0.470\n",
      "test set: avg. log-loss = 0.408827, AUC = 0.312\n",
      "global bias: 0.769\n",
      "### step 104373\n",
      "train set: avg. log-loss = 0.413500, AUC = 0.474\n",
      "test set: avg. log-loss = 0.408789, AUC = 0.313\n",
      "global bias: 0.772\n",
      "### step 115970\n",
      "train set: avg. log-loss = 0.413426, AUC = 0.473\n",
      "test set: avg. log-loss = 0.408808, AUC = 0.313\n",
      "global bias: 0.771\n",
      "### step 127567\n",
      "train set: avg. log-loss = 0.413374, AUC = 0.473\n",
      "test set: avg. log-loss = 0.408776, AUC = 0.313\n",
      "global bias: 0.770\n",
      "### step 139164\n",
      "train set: avg. log-loss = 0.413335, AUC = 0.474\n",
      "test set: avg. log-loss = 0.408761, AUC = 0.313\n",
      "global bias: 0.771\n",
      "### step 150761\n",
      "train set: avg. log-loss = 0.413309, AUC = 0.474\n",
      "test set: avg. log-loss = 0.408770, AUC = 0.313\n",
      "global bias: 0.771\n",
      "### step 162358\n",
      "train set: avg. log-loss = 0.413296, AUC = 0.474\n",
      "test set: avg. log-loss = 0.408776, AUC = 0.313\n",
      "global bias: 0.771\n",
      "### step 173955\n",
      "train set: avg. log-loss = 0.413284, AUC = 0.475\n",
      "test set: avg. log-loss = 0.408764, AUC = 0.313\n",
      "global bias: 0.770\n",
      "CPU times: user 1h 44min 27s, sys: 17min 50s, total: 2h 2min 17s\n",
      "Wall time: 35min 8s\n"
     ]
    }
   ],
   "source": [
    "%%time\n",
    "epochs = 15\n",
    "\n",
    "with session.as_default():\n",
    "    for i in range(epochs):\n",
    "        for batch in WikiData.minibatches(train_data, batch_size):\n",
    "            step += 1\n",
    "            # Train the model on a batch.\n",
    "            feed_dict = {\n",
    "                model.user_id: batch[0],\n",
    "                model.article_id: batch[1],\n",
    "                model.quality: batch[2],\n",
    "            }\n",
    "            _ = session.run(train_op, feed_dict=feed_dict)\n",
    "\n",
    "        evaluate_model(step=step)\n",
    "        print(\"global bias: {:.3f}\".format(model.global_bias.eval()))"
   ]
  },
  {
   "cell_type": "markdown",
   "metadata": {},
   "source": [
    "## Qualitative results"
   ]
  },
  {
   "cell_type": "code",
   "execution_count": 8,
   "metadata": {},
   "outputs": [],
   "source": [
    "with session.as_default():\n",
    "    skills = model.skill.eval()\n",
    "    difficulties = model.difficulty.eval()\n",
    "articles = dataset.get_articles()\n",
    "users = dataset.get_users()"
   ]
  },
  {
   "cell_type": "code",
   "execution_count": 9,
   "metadata": {},
   "outputs": [
    {
     "name": "stdout",
     "output_type": "stream",
     "text": [
      "### 2 most difficult articles:\n",
      " 1 +0.000 Algèbre générale (160 edits, 97 users)\n",
      "    https://tr.wikipedia.org/wiki/Alg%C3%A8bre%20g%C3%A9n%C3%A9rale\n",
      " 2 +0.000 Tardigravettien (1 edits, 1 users)\n",
      "    https://tr.wikipedia.org/wiki/Tardigravettien\n",
      "\n",
      "### 2 least difficult articles:\n",
      " 1 +0.000 Aixtal (1 edits, 1 users)\n",
      "    https://tr.wikipedia.org/wiki/Aixtal\n",
      " 2 +0.000 Olivier Leborgne (comédien) (27 edits, 19 users)\n",
      "    https://tr.wikipedia.org/wiki/Olivier%20Leborgne%20%28com%C3%A9dien%29\n"
     ]
    }
   ],
   "source": [
    "wikiutils.print_articles_summary(difficulties, articles, n=2)"
   ]
  },
  {
   "cell_type": "code",
   "execution_count": 10,
   "metadata": {},
   "outputs": [
    {
     "name": "stdout",
     "output_type": "stream",
     "text": [
      "### 5 most skilled users:\n",
      " 1 +3.219 Iggy (1500 edits, 1409 articles)\n",
      "    https://tr.wikipedia.org/wiki/User:Iggy\n",
      " 2 +2.895 PimpBot (2601 edits, 2536 articles)\n",
      "    https://tr.wikipedia.org/wiki/User:PimpBot\n",
      " 3 +2.780 CactusBot (462 edits, 462 articles)\n",
      "    https://tr.wikipedia.org/wiki/User:CactusBot\n",
      " 4 +2.748 Japan Football (2219 edits, 1927 articles)\n",
      "    https://tr.wikipedia.org/wiki/User:Japan%20Football\n",
      " 5 +2.744 Tikky19 (7546 edits, 2186 articles)\n",
      "    https://tr.wikipedia.org/wiki/User:Tikky19\n",
      "\n",
      "### 5 least skilled users:\n",
      " 1 -3.030 Toto 351461 (124 edits, 117 articles)\n",
      "    https://tr.wikipedia.org/wiki/User:Toto%20351461\n",
      " 2 -2.831 - (113 edits, 112 articles)\n",
      "    https://tr.wikipedia.org/wiki/User:-\n",
      " 3 -2.756 Dfgt (59 edits, 57 articles)\n",
      "    https://tr.wikipedia.org/wiki/User:Dfgt\n",
      " 4 -2.732 - (83 edits, 78 articles)\n",
      "    https://tr.wikipedia.org/wiki/User:-\n",
      " 5 -2.725 - (136 edits, 131 articles)\n",
      "    https://tr.wikipedia.org/wiki/User:-\n"
     ]
    }
   ],
   "source": [
    "wikiutils.print_users_summary(skills, users, n=5)"
   ]
  },
  {
   "cell_type": "code",
   "execution_count": 11,
   "metadata": {},
   "outputs": [
    {
     "data": {
      "text/plain": [
       "<matplotlib.text.Text at 0x7f6af0fc7908>"
      ]
     },
     "execution_count": 11,
     "metadata": {},
     "output_type": "execute_result"
    },
    {
     "data": {
      "image/png": "[encoded data removed]",
      "text/plain": [
       "<matplotlib.figure.Figure at 0x7f6af3028be0>"
      ]
     },
     "metadata": {},
     "output_type": "display_data"
    }
   ],
   "source": [
    "fig, (ax1, ax2) = plt.subplots(ncols=2, figsize=(16, 5), sharex=True)\n",
    "\n",
    "ax1.hist(skills, bins=np.linspace(-2, 2, num=50))\n",
    "ax1.set_title(\"Histogram of user skills\")\n",
    "\n",
    "ax2.hist(difficulties, bins=np.linspace(-2, 2, num=50))\n",
    "ax2.set_title(\"Histogram of article difficulties\")"
   ]
  },
  {
   "cell_type": "code",
   "execution_count": 12,
   "metadata": {},
   "outputs": [],
   "source": [
    "with session.as_default():\n",
    "    probs = model.probability.eval(feed_dict=feed[\"test\"])"
   ]
  },
  {
   "cell_type": "code",
   "execution_count": 13,
   "metadata": {},
   "outputs": [
    {
     "data": {
      "text/plain": [
       "<matplotlib.text.Text at 0x7f6af0d42198>"
      ]
     },
     "execution_count": 13,
     "metadata": {},
     "output_type": "execute_result"
    },
    {
     "data": {
      "image/png": "[encoded data removed]",
      "text/plain": [
       "<matplotlib.figure.Figure at 0x7f6af0f11f60>"
      ]
     },
     "metadata": {},
     "output_type": "display_data"
    }
   ],
   "source": [
    "fig, (ax1, ax2) = plt.subplots(ncols=2, figsize=(16, 5), sharex=True)\n",
    "\n",
    "ax1.hist(test_data[2], bins=np.linspace(0, 1, num=40))\n",
    "ax1.set_title(\"Histogram of true probabilities\")\n",
    "\n",
    "ax2.hist(probs, bins=np.linspace(0, 1, num=40))\n",
    "ax2.set_title(\"Histogram of model estimates\")"
   ]
  },
  {
   "cell_type": "markdown",
   "metadata": {},
   "source": [
    "## Quantitative results"
   ]
  },
  {
   "cell_type": "code",
   "execution_count": 14,
   "metadata": {},
   "outputs": [
    {
     "name": "stdout",
     "output_type": "stream",
     "text": [
      "proportion of positive labels: 0.131\n"
     ]
    }
   ],
   "source": [
    "labels = (test_data[2] < 0.5).astype(int)\n",
    "precision, recall, _ = precision_recall_curve(labels, 1 - probs)\n",
    "auc = average_precision_score(labels, 1 - probs)\n",
    "\n",
    "print(\"proportion of positive labels: {:.3f}\".format(sum(labels) / len(labels)))"
   ]
  },
  {
   "cell_type": "code",
   "execution_count": 15,
   "metadata": {},
   "outputs": [
    {
     "data": {
      "text/plain": [
       "<matplotlib.text.Text at 0x7f6af0bcb828>"
      ]
     },
     "execution_count": 15,
     "metadata": {},
     "output_type": "execute_result"
    },
    {
     "data": {
      "image/png": "[encoded data removed]",
      "text/plain": [
       "<matplotlib.figure.Figure at 0x7f6af0bfecf8>"
      ]
     },
     "metadata": {},
     "output_type": "display_data"
    }
   ],
   "source": [
    "fig, ax = plt.subplots(figsize=(7.0, 5.0))\n",
    "ax.plot(recall, precision)\n",
    "ax.set_xlim(xmin=0.0, xmax=1.0)\n",
    "ax.set_ylim(ymin=0.0, ymax=1.0)\n",
    "ax.set_ylabel(\"precision\")\n",
    "ax.set_xlabel(\"recall\")\n",
    "ax.set_title(\"Precision-recall curve (AUC: {:.3})\".format(auc))"
   ]
  },
  {
   "cell_type": "markdown",
   "metadata": {},
   "source": [
    "## Save data for plotting, etc."
   ]
  },
  {
   "cell_type": "code",
   "execution_count": 16,
   "metadata": {},
   "outputs": [],
   "source": [
    "data = {\n",
    "    \"y_true\": test_data[2],\n",
    "    \"y_pred\": probs,\n",
    "}\n",
    "with open(\"../data/frwiki-useronly-pred.pickle\", \"wb\") as f:\n",
    "    pickle.dump(data, f)"
   ]
  }
 ],
 "metadata": {
  "kernelspec": {
   "display_name": "Python 3",
   "language": "python",
   "name": "python3"
  },
  "language_info": {
   "codemirror_mode": {
    "name": "ipython",
    "version": 3
   },
   "file_extension": ".py",
   "mimetype": "text/x-python",
   "name": "python",
   "nbconvert_exporter": "python",
   "pygments_lexer": "ipython3",
   "version": "3.6.3"
  }
 },
 "nbformat": 4,
 "nbformat_minor": 2
}
