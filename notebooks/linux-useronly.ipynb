{
 "cells": [
  {
   "cell_type": "markdown",
   "metadata": {},
   "source": [
    "# Fitting the basic model on Linux dataset"
   ]
  },
  {
   "cell_type": "code",
   "execution_count": 1,
   "metadata": {},
   "outputs": [],
   "source": [
    "%load_ext autoreload\n",
    "%autoreload 2\n",
    "%matplotlib inline\n",
    "\n",
    "import tensorflow as tf\n",
    "import math\n",
    "import os\n",
    "import matplotlib.pyplot as plt\n",
    "import numpy as np\n",
    "\n",
    "from interank import linuxutils\n",
    "from interank.models import BasicModel\n",
    "from interank.linuxdata import LinuxData\n",
    "from datetime import datetime as dt\n",
    "from sklearn.metrics import precision_score, recall_score, precision_recall_curve, average_precision_score\n",
    "\n",
    "summaries_dir = '../trained-models/log-dir/'"
   ]
  },
  {
   "cell_type": "markdown",
   "metadata": {},
   "source": [
    "## Load dataset"
   ]
  },
  {
   "cell_type": "code",
   "execution_count": 2,
   "metadata": {},
   "outputs": [
    {
     "name": "stdout",
     "output_type": "stream",
     "text": [
      "Training set: 495536 edits\n",
      "Test set: 123883 edits\n",
      "Number of users: 9672\n",
      "Number of articles: 394\n",
      "––––––––––\n",
      "CPU times: user 1.32 s, sys: 52 ms, total: 1.37 s\n",
      "Wall time: 1.35 s\n"
     ]
    }
   ],
   "source": [
    "%%time\n",
    "dataset = LinuxData(\"/data/datasets/linux\")\n",
    "\n",
    "train = dataset.get_train_data()\n",
    "test = dataset.get_test_data()\n",
    "\n",
    "print(\"Training set: {} edits\".format(len(train[0])))\n",
    "print(\"Test set: {} edits\".format(len(test[0])))\n",
    "print(\"Number of users: {}\".format(dataset.n_users))\n",
    "print(\"Number of articles: {}\".format(dataset.n_subsystems))\n",
    "print(\"––––––––––\")"
   ]
  },
  {
   "cell_type": "markdown",
   "metadata": {},
   "source": [
    "## Tensorflow configuration"
   ]
  },
  {
   "cell_type": "code",
   "execution_count": 3,
   "metadata": {},
   "outputs": [],
   "source": [
    "os.environ[\"CUDA_DEVICE_ORDER\"] = \"PCI_BUS_ID\"\n",
    "os.environ[\"CUDA_VISIBLE_DEVICES\"] = \"0\""
   ]
  },
  {
   "cell_type": "code",
   "execution_count": 4,
   "metadata": {},
   "outputs": [],
   "source": [
    "# Reset graph to run the notebook twice in a row without error \n",
    "tf.reset_default_graph()\n",
    "\n",
    "# Number of latent factors for the MF term\n",
    "\n",
    "# Basic model\n",
    "model = BasicModel(n_users=dataset.n_users,\n",
    "                   n_articles=dataset.n_subsystems,\n",
    "                   global_bias=True)\n",
    "\n",
    "# Setup the optimisation procedure\n",
    "minibatch_size = 2000\n",
    "minibatch_size_tf = tf.Variable(minibatch_size, trainable=False)\n",
    "num_batches = math.ceil(len(train[0]) / minibatch_size)\n",
    "epochs = 50\n",
    "\n",
    "# Define the cost\n",
    "reg_coeff = 16\n",
    "cost = -model.log_likelihood + (reg_coeff / num_batches) * (model.l2_skill + model.l2_difficulty)\n",
    "\n",
    "# Setup optimiser\n",
    "learning_rate = 0.1\n",
    "\n",
    "# Decaying learning rate\n",
    "# decay_rate = 0.9\n",
    "# global_step = 0\n",
    "# Decaying learning rate\n",
    "# batch_idx = tf.Variable(0, trainable=False)\n",
    "# learning_rate_tf = tf.train.exponential_decay(\n",
    "#     learning_rate=learning_rate,\n",
    "#     global_step=(batch_idx * minibatch_size),\n",
    "#     decay_steps=len(train[0]),\n",
    "#     decay_rate=decay_rate,\n",
    "#     staircase=True\n",
    "# )\n",
    "# train_step = tf.train.GradientDescentOptimizer(learning_rate_tf).minimize(cost, global_step=batch_idx)\n",
    "\n",
    "# Adagrad\n",
    "learning_rate_tf = tf.Variable(learning_rate, dtype=tf.float32)\n",
    "train_step = tf.train.AdagradOptimizer(learning_rate_tf).minimize(cost, var_list=[model.skill, model.global_bias])\n",
    "\n",
    "# Summaries for Tensorboard\n",
    "auc_ph = tf.placeholder(tf.float32, name=\"auc\")\n",
    "tf.summary.scalar(\"avg_log_loss\", model.avg_log_loss)\n",
    "tf.summary.scalar(\"area_under_pr_curve\", auc_ph)\n",
    "tf.summary.scalar(\"learning_rate\", learning_rate_tf)\n",
    "merged = tf.summary.merge_all()\n",
    "    \n",
    "log = 'tuned/optimization_{}_epochs_{}_minibatchsize_{}__learningrate_{}_date_{}'.format(\n",
    "    'Adagrad',\n",
    "    epochs,\n",
    "    minibatch_size,\n",
    "    learning_rate,\n",
    "    dt.now().strftime('%Y-%m-%d-%H-%M-%S')\n",
    ")\n",
    "train_writer = tf.summary.FileWriter(summaries_dir + '/' + log + '/train')\n",
    "test_writer = tf.summary.FileWriter(summaries_dir + '/' + log + '/test')"
   ]
  },
  {
   "cell_type": "markdown",
   "metadata": {},
   "source": [
    "## Train the model"
   ]
  },
  {
   "cell_type": "code",
   "execution_count": 5,
   "metadata": {},
   "outputs": [
    {
     "name": "stdout",
     "output_type": "stream",
     "text": [
      "Total number of batches: 248\n",
      "Epoch 0 - avg. log-loss = 0.693147, AUC = 0.333, bias = 0.0\n",
      "Epoch 01 - avg. log-loss = 0.602032, AUC = 0.487, bias = -0.5211648941040039\n",
      "Epoch 02 - avg. log-loss = 0.601663, AUC = 0.488, bias = -0.5088211894035339\n",
      "Epoch 03 - avg. log-loss = 0.601617, AUC = 0.490, bias = -0.5062441825866699\n",
      "Epoch 04 - avg. log-loss = 0.601154, AUC = 0.491, bias = -0.5168620347976685\n",
      "Epoch 05 - avg. log-loss = 0.601359, AUC = 0.491, bias = -0.5092154741287231\n",
      "Epoch 06 - avg. log-loss = 0.600920, AUC = 0.491, bias = -0.5194652080535889\n",
      "Epoch 07 - avg. log-loss = 0.600714, AUC = 0.492, bias = -0.5261322855949402\n",
      "Epoch 08 - avg. log-loss = 0.601083, AUC = 0.491, bias = -0.5186739563941956\n",
      "Epoch 09 - avg. log-loss = 0.601108, AUC = 0.491, bias = -0.521034300327301\n",
      "Epoch 10 - avg. log-loss = 0.600970, AUC = 0.491, bias = -0.5240703225135803\n",
      "Epoch 11 - avg. log-loss = 0.600766, AUC = 0.491, bias = -0.529245138168335\n",
      "Epoch 12 - avg. log-loss = 0.601001, AUC = 0.491, bias = -0.5238222479820251\n",
      "Epoch 13 - avg. log-loss = 0.600999, AUC = 0.491, bias = -0.5237917900085449\n",
      "Epoch 14 - avg. log-loss = 0.600984, AUC = 0.491, bias = -0.5247839689254761\n",
      "Epoch 15 - avg. log-loss = 0.600940, AUC = 0.491, bias = -0.5270284414291382\n",
      "Epoch 16 - avg. log-loss = 0.601164, AUC = 0.491, bias = -0.5212504267692566\n",
      "Epoch 17 - avg. log-loss = 0.600587, AUC = 0.491, bias = -0.5355233550071716\n",
      "Epoch 18 - avg. log-loss = 0.600974, AUC = 0.491, bias = -0.5256120562553406\n",
      "Epoch 19 - avg. log-loss = 0.600942, AUC = 0.491, bias = -0.5270168781280518\n",
      "Epoch 20 - avg. log-loss = 0.600912, AUC = 0.491, bias = -0.5274195671081543\n",
      "Epoch 21 - avg. log-loss = 0.600669, AUC = 0.491, bias = -0.5337033867835999\n",
      "Epoch 22 - avg. log-loss = 0.600656, AUC = 0.491, bias = -0.534037709236145\n",
      "Epoch 23 - avg. log-loss = 0.600752, AUC = 0.491, bias = -0.5320951342582703\n",
      "Epoch 24 - avg. log-loss = 0.600886, AUC = 0.491, bias = -0.5293805599212646\n",
      "Epoch 25 - avg. log-loss = 0.600917, AUC = 0.491, bias = -0.5286790132522583\n",
      "Epoch 26 - avg. log-loss = 0.600952, AUC = 0.491, bias = -0.5278875827789307\n",
      "Epoch 27 - avg. log-loss = 0.600703, AUC = 0.491, bias = -0.5343881845474243\n",
      "Epoch 28 - avg. log-loss = 0.600870, AUC = 0.491, bias = -0.5298539996147156\n",
      "Epoch 29 - avg. log-loss = 0.600792, AUC = 0.491, bias = -0.5322169661521912\n",
      "Epoch 30 - avg. log-loss = 0.601129, AUC = 0.491, bias = -0.5237669944763184\n",
      "Epoch 31 - avg. log-loss = 0.600858, AUC = 0.491, bias = -0.5304406881332397\n",
      "Epoch 32 - avg. log-loss = 0.600733, AUC = 0.491, bias = -0.5334994792938232\n",
      "Epoch 33 - avg. log-loss = 0.600611, AUC = 0.492, bias = -0.5364033579826355\n",
      "Epoch 34 - avg. log-loss = 0.600762, AUC = 0.491, bias = -0.5326892733573914\n",
      "Epoch 35 - avg. log-loss = 0.600916, AUC = 0.491, bias = -0.5287545323371887\n",
      "Epoch 36 - avg. log-loss = 0.601071, AUC = 0.491, bias = -0.5254942774772644\n",
      "Epoch 37 - avg. log-loss = 0.600996, AUC = 0.491, bias = -0.5269625782966614\n",
      "Epoch 38 - avg. log-loss = 0.600603, AUC = 0.491, bias = -0.5369570851325989\n",
      "Epoch 39 - avg. log-loss = 0.600883, AUC = 0.491, bias = -0.5297916531562805\n",
      "Epoch 40 - avg. log-loss = 0.600975, AUC = 0.492, bias = -0.5277458429336548\n",
      "Epoch 41 - avg. log-loss = 0.600734, AUC = 0.491, bias = -0.534335732460022\n",
      "Epoch 42 - avg. log-loss = 0.600817, AUC = 0.491, bias = -0.5319120287895203\n",
      "Epoch 43 - avg. log-loss = 0.601213, AUC = 0.492, bias = -0.5219173431396484\n",
      "Epoch 44 - avg. log-loss = 0.600777, AUC = 0.492, bias = -0.5325351357460022\n",
      "Epoch 45 - avg. log-loss = 0.600906, AUC = 0.492, bias = -0.5295602679252625\n",
      "Epoch 46 - avg. log-loss = 0.600788, AUC = 0.492, bias = -0.5325750708580017\n",
      "Epoch 47 - avg. log-loss = 0.600699, AUC = 0.492, bias = -0.535001277923584\n",
      "Epoch 48 - avg. log-loss = 0.600844, AUC = 0.491, bias = -0.5313404202461243\n",
      "Epoch 49 - avg. log-loss = 0.600519, AUC = 0.491, bias = -0.540107786655426\n",
      "Epoch 50 - avg. log-loss = 0.600700, AUC = 0.491, bias = -0.5349688529968262\n",
      "CPU times: user 1min 31s, sys: 9.93 s, total: 1min 40s\n",
      "Wall time: 52.9 s\n"
     ]
    }
   ],
   "source": [
    "%%time\n",
    "feed_test = {\n",
    "    model.user_id: test[0],\n",
    "    model.article_id: test[1],\n",
    "    model.quality: test[2],\n",
    "}\n",
    "\n",
    "# Keep track of likelihood\n",
    "test_likelihood = [-np.inf]\n",
    "\n",
    "print('Total number of batches: {}'.format(num_batches))\n",
    "\n",
    "def evaluate(session, step):\n",
    "    avg_log_loss, probs, bias = session.run(\n",
    "            [model.avg_log_loss, model.probability, model.global_bias], feed_dict=feed_test)\n",
    "    \n",
    "    labels = feed_test[model.quality].astype(int)\n",
    "    auc = average_precision_score(labels, probs)\n",
    "    \n",
    "    summary = session.run(merged, feed_dict={**feed_test, auc_ph: auc})\n",
    "    \n",
    "    test_writer.add_summary(summary, global_step=step)\n",
    "    test_writer.flush()\n",
    "    \n",
    "    return avg_log_loss, auc, bias\n",
    "    \n",
    "\n",
    "# Initialise Tensorflow's variables\n",
    "session = tf.Session()\n",
    "session.run(tf.global_variables_initializer())\n",
    "\n",
    "with session.as_default():\n",
    "    step = 0\n",
    "\n",
    "    avg_log_loss, auc, bias = evaluate(session, step)\n",
    "    print('Epoch 0 - avg. log-loss = {:.6f}, AUC = {:.3f}, bias = {}'\n",
    "          .format(avg_log_loss, auc, bias))\n",
    "\n",
    "    for i in range(epochs):\n",
    "        # Train the model on minibatch\n",
    "        for j, minibatch in enumerate(LinuxData.minibatches(train, minibatch_size)):\n",
    "            step += 1\n",
    "            feed_dict = {\n",
    "                model.user_id: minibatch[0],\n",
    "                model.article_id: minibatch[1],\n",
    "                model.quality: minibatch[2],\n",
    "            }\n",
    "            _ = session.run([train_step], feed_dict=feed_dict)\n",
    "\n",
    "        avg_log_loss, auc, bias = evaluate(session, step)\n",
    "        print('Epoch {:02d} - avg. log-loss = {:.6f}, AUC = {:.3f}, bias = {}'\n",
    "              .format(i + 1, avg_log_loss, auc, bias))"
   ]
  },
  {
   "cell_type": "markdown",
   "metadata": {},
   "source": [
    "## Evaluate"
   ]
  },
  {
   "cell_type": "code",
   "execution_count": 6,
   "metadata": {},
   "outputs": [],
   "source": [
    "with session.as_default():\n",
    "    probs = session.run(\n",
    "            [model.probability], feed_dict=feed_test)"
   ]
  },
  {
   "cell_type": "markdown",
   "metadata": {},
   "source": [
    "### Precision-recall curve"
   ]
  },
  {
   "cell_type": "code",
   "execution_count": 7,
   "metadata": {},
   "outputs": [
    {
     "data": {
      "image/png": "[encoded data removed]",
      "text/plain": [
       "<matplotlib.figure.Figure at 0x7fac5a0cdef0>"
      ]
     },
     "metadata": {},
     "output_type": "display_data"
    }
   ],
   "source": [
    "target = np.array([np.float32(t) for t in test[2]]).squeeze()\n",
    "predictions = np.array(probs).squeeze()\n",
    "\n",
    "average_precision = average_precision_score(target, predictions)\n",
    "precision, recall, _ = precision_recall_curve(target, predictions)\n",
    "\n",
    "plt.plot(recall, precision)\n",
    "\n",
    "plt.grid()\n",
    "plt.xlabel('Recall')\n",
    "plt.ylabel('Precision')\n",
    "plt.title('2-class Precision-Recall curve: AUC={0:0.3f}'.format(\n",
    "          average_precision))\n",
    "plt.show()"
   ]
  },
  {
   "cell_type": "markdown",
   "metadata": {},
   "source": [
    "## Qualitative results"
   ]
  },
  {
   "cell_type": "code",
   "execution_count": 8,
   "metadata": {},
   "outputs": [],
   "source": [
    "with session.as_default():\n",
    "    skills = model.skill.eval()\n",
    "users = dataset.get_users()"
   ]
  },
  {
   "cell_type": "code",
   "execution_count": 9,
   "metadata": {},
   "outputs": [
    {
     "name": "stdout",
     "output_type": "stream",
     "text": [
      "### 10 most skilled users:\n",
      " 1 +2.007 mcarlson@broadcom.com from broadcom (573 patches, 4 subsystems)\n",
      "    rate: 87.6091%, main sub: drivers/net\n",
      " 2 +1.942 rvossen@broadcom.com from broadcom (316 patches, 2 subsystems)\n",
      "    rate: 90.1899%, main sub: drivers/staging\n",
      " 3 +1.896 mchan@broadcom.com from broadcom (609 patches, 10 subsystems)\n",
      "    rate: 84.2365%, main sub: drivers/net\n",
      " 4 +1.892 frankyl@broadcom.com from broadcom (479 patches, 4 subsystems)\n",
      "    rate: 89.1441%, main sub: drivers/staging\n",
      " 5 +1.859 andrew.vasquez@qlogic.com from qlogic (538 patches, 4 subsystems)\n",
      "    rate: 84.5725%, main sub: drivers/scsi\n",
      " 6 +1.642 m.sujith@gmail.com from atheros (622 patches, 5 subsystems)\n",
      "    rate: 79.4212%, main sub: drivers/net\n",
      " 7 +1.538 eilong@broadcom.com from broadcom (277 patches, 4 subsystems)\n",
      "    rate: 80.8664%, main sub: drivers/net\n",
      " 8 +1.530 james.smart@emulex.com from emulex (253 patches, 2 subsystems)\n",
      "    rate: 93.2806%, main sub: drivers/scsi\n",
      " 9 +1.527 reinette.chatre@intel.com from linux.intel (1117 patches, 8 subsystems)\n",
      "    rate: 75.2014%, main sub: drivers/net\n",
      "10 +1.506 bzolnier@gmail.com from elka.pw.edu (2576 patches, 48 subsystems)\n",
      "    rate: 73.5637%, main sub: drivers/ide\n",
      "\n",
      "### 10 least skilled users:\n",
      " 1 -2.856 greg@echidna.(none) from kroah (12539 patches, 174 subsystems)\n",
      "    rate: 2.8950%, main sub: drivers/usb\n",
      " 2 -1.886 orenl@cs.columbia.edu from cs.columbia (392 patches, 21 subsystems)\n",
      "    rate: 0.5102%, main sub: include/linux\n",
      " 3 -1.801 levinsasha928@gmail.com from gmail (966 patches, 45 subsystems)\n",
      "    rate: 6.7288%, main sub: tools\n",
      " 4 -1.749 ncunningham@crca.org.au from linuxmail (560 patches, 33 subsystems)\n",
      "    rate: 4.4643%, main sub: kernel\n",
      " 5 -1.650 vaurora@redhat.com from redhat (300 patches, 9 subsystems)\n",
      "    rate: 1.3333%, main sub: fs\n",
      " 6 -1.633 xiaohui.xin@intel.com from intel (254 patches, 4 subsystems)\n",
      "    rate: 0.0000%, main sub: net/core\n",
      " 7 -1.615 torvalds@linux-foundation.org from osdl (73545 patches, 322 subsystems)\n",
      "    rate: 10.0265%, main sub: mm\n",
      " 8 -1.499 w@1wt.eu from exosec (552 patches, 103 subsystems)\n",
      "    rate: 1.2681%, main sub: kernel\n",
      " 9 -1.426 compudj@krystal.dyndns.org from polymtl (1592 patches, 86 subsystems)\n",
      "    rate: 10.9296%, main sub: kernel\n",
      "10 -1.383 asias.hejun@gmail.com from gmail (267 patches, 2 subsystems)\n",
      "    rate: 0.3745%, main sub: tools\n"
     ]
    }
   ],
   "source": [
    "linuxutils.print_users_summary(skills, users, n=10)"
   ]
  },
  {
   "cell_type": "markdown",
   "metadata": {},
   "source": [
    "### Histograms of skills and difficulties"
   ]
  },
  {
   "cell_type": "code",
   "execution_count": 10,
   "metadata": {},
   "outputs": [
    {
     "data": {
      "text/plain": [
       "<matplotlib.text.Text at 0x7fac54579a20>"
      ]
     },
     "execution_count": 10,
     "metadata": {},
     "output_type": "execute_result"
    },
    {
     "data": {
      "image/png": "[encoded data removed]",
      "text/plain": [
       "<matplotlib.figure.Figure at 0x7fac545cfa58>"
      ]
     },
     "metadata": {},
     "output_type": "display_data"
    }
   ],
   "source": [
    "fig, ax1 = plt.subplots(ncols=1, figsize=(16, 5))\n",
    "\n",
    "ax1.hist(skills, bins=np.linspace(-2, 2, num=50))\n",
    "ax1.set_title(\"Histogram of user skills\")"
   ]
  },
  {
   "cell_type": "markdown",
   "metadata": {},
   "source": [
    "### Histograms of labels"
   ]
  },
  {
   "cell_type": "code",
   "execution_count": 11,
   "metadata": {},
   "outputs": [
    {
     "data": {
      "text/plain": [
       "<matplotlib.text.Text at 0x7fac541c1198>"
      ]
     },
     "execution_count": 11,
     "metadata": {},
     "output_type": "execute_result"
    },
    {
     "data": {
      "image/png": "[encoded data removed]",
      "text/plain": [
       "<matplotlib.figure.Figure at 0x7fac544cfb00>"
      ]
     },
     "metadata": {},
     "output_type": "display_data"
    }
   ],
   "source": [
    "fig, (ax1, ax2) = plt.subplots(ncols=2, figsize=(16, 5), sharex=True)\n",
    "\n",
    "ax1.hist(test[2], bins=np.linspace(0, 1, num=40))\n",
    "ax1.set_title(\"Histogram of true probabilities\")\n",
    "\n",
    "ax2.hist(probs, bins=np.linspace(0, 1, num=40))\n",
    "ax2.set_title(\"Histogram of model estimates\")"
   ]
  },
  {
   "cell_type": "code",
   "execution_count": 12,
   "metadata": {},
   "outputs": [],
   "source": [
    "saver = tf.train.Saver()\n",
    "saver.save(session, \"../trained-models/linux/useronly.ckpt\")\n",
    "\n",
    "with open('../data/linux-useronly-probs.txt', 'w') as f:\n",
    "    f.writelines(['{:.20f}\\n'.format(p) for p in probs[0]])"
   ]
  }
 ],
 "metadata": {
  "kernelspec": {
   "display_name": "Python 3",
   "language": "python",
   "name": "python3"
  },
  "language_info": {
   "codemirror_mode": {
    "name": "ipython",
    "version": 3
   },
   "file_extension": ".py",
   "mimetype": "text/x-python",
   "name": "python",
   "nbconvert_exporter": "python",
   "pygments_lexer": "ipython3",
   "version": "3.6.3"
  }
 },
 "nbformat": 4,
 "nbformat_minor": 2
}
