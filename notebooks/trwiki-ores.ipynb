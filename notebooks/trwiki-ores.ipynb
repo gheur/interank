{
 "cells": [
  {
   "cell_type": "markdown",
   "metadata": {},
   "source": [
    "# Turkish Wikipedia, ORES baseline\n",
    "\n",
    "- dataset: `trwiki`\n",
    "- models: _[ORES](https://ores.wikimedia.org/) damaging & reverted_\n",
    "\n",
    "This notebook computes statistics of the ORES predictors."
   ]
  },
  {
   "cell_type": "code",
   "execution_count": 1,
   "metadata": {},
   "outputs": [],
   "source": [
    "import json\n",
    "import numpy as np\n",
    "import matplotlib.pyplot as plt\n",
    "import pickle\n",
    "\n",
    "from sklearn.metrics import (\n",
    "    precision_recall_curve, average_precision_score)\n",
    "from interank.wikidata import WikiData\n",
    "\n",
    "%matplotlib inline"
   ]
  },
  {
   "cell_type": "markdown",
   "metadata": {},
   "source": [
    "## Processing the raw data"
   ]
  },
  {
   "cell_type": "code",
   "execution_count": 2,
   "metadata": {},
   "outputs": [],
   "source": [
    "dataset = WikiData(\"/data/datasets/trwiki\")\n",
    "raw = dataset.get_raw_test_data()"
   ]
  },
  {
   "cell_type": "code",
   "execution_count": 3,
   "metadata": {},
   "outputs": [],
   "source": [
    "revid2q = dict(zip(raw[0], (raw[4] + 1) / 2))"
   ]
  },
  {
   "cell_type": "code",
   "execution_count": 4,
   "metadata": {},
   "outputs": [
    {
     "name": "stdout",
     "output_type": "stream",
     "text": [
      "Number of edits: 527,281\n",
      "Number of errors: 4,806\n"
     ]
    }
   ],
   "source": [
    "y_pred_r = list()\n",
    "y_pred_d = list()\n",
    "labels = list()\n",
    "\n",
    "revids = set(raw[0])\n",
    "n_errors = 0\n",
    "with open(\"/data/datasets/trwiki/ores.txt\") as f:\n",
    "    for line in f:\n",
    "        scores = json.loads(line.strip())\n",
    "        for revid, obj in scores.items():\n",
    "            revid = int(revid)\n",
    "            if revid not in revids:\n",
    "                # The edit is actually not in the test set.\n",
    "                continue\n",
    "            if \"score\" not in obj[\"reverted\"]:\n",
    "                n_errors += 1\n",
    "                continue\n",
    "            y_pred_r.append(obj[\"reverted\"][\"score\"][\"probability\"][\"true\"])\n",
    "            y_pred_d.append(obj[\"damaging\"][\"score\"][\"probability\"][\"true\"])\n",
    "            labels.append(revid2q[revid])\n",
    "\n",
    "labels = np.array(labels)\n",
    "y_pred_r = np.array(y_pred_r)\n",
    "y_pred_d = np.array(y_pred_d)\n",
    "\n",
    "print(\"Number of edits: {:,}\".format(len(labels)))\n",
    "print(\"Number of errors: {:,}\".format(n_errors))"
   ]
  },
  {
   "cell_type": "markdown",
   "metadata": {},
   "source": [
    "## Precision-recall plot"
   ]
  },
  {
   "cell_type": "code",
   "execution_count": 5,
   "metadata": {},
   "outputs": [
    {
     "name": "stdout",
     "output_type": "stream",
     "text": [
      "proportion of positive labels: 0.165\n"
     ]
    }
   ],
   "source": [
    "y_true = (labels < 0.5).astype(int)\n",
    "print(\"proportion of positive labels: {:.3f}\".format(y_true.mean()))"
   ]
  },
  {
   "cell_type": "code",
   "execution_count": 6,
   "metadata": {},
   "outputs": [],
   "source": [
    "prec_r, rec_r, _ = precision_recall_curve(y_true, y_pred_r)\n",
    "auc_r = average_precision_score(y_true, y_pred_r)\n",
    "\n",
    "prec_d, rec_d, _ = precision_recall_curve(y_true, y_pred_d)\n",
    "auc_d = average_precision_score(y_true, y_pred_d)"
   ]
  },
  {
   "cell_type": "code",
   "execution_count": 7,
   "metadata": {},
   "outputs": [
    {
     "data": {
      "text/plain": [
       "<matplotlib.legend.Legend at 0x7f08da0aa630>"
      ]
     },
     "execution_count": 7,
     "metadata": {},
     "output_type": "execute_result"
    },
    {
     "data": {
      "image/png": "[encoded data removed]",
      "text/plain": [
       "<matplotlib.figure.Figure at 0x7f08ded50c50>"
      ]
     },
     "metadata": {},
     "output_type": "display_data"
    }
   ],
   "source": [
    "fig, ax = plt.subplots(figsize=(10.0, 7.0))\n",
    "ax.plot(rec_r, prec_r, label=\"reverted (AUC: {:.3f})\".format(auc_r))\n",
    "ax.plot(rec_d, prec_d, label=\"damaging (AUC: {:.3f})\".format(auc_d))\n",
    "ax.set_xlim(xmin=0.0, xmax=1.0)\n",
    "ax.set_ylim(ymin=0.0, ymax=1.0)\n",
    "ax.set_ylabel(\"precision\")\n",
    "ax.set_xlabel(\"recall\")\n",
    "ax.set_title(\"Precision-recall curves\")\n",
    "ax.legend()"
   ]
  },
  {
   "cell_type": "markdown",
   "metadata": {},
   "source": [
    "Compute the average log-loss"
   ]
  },
  {
   "cell_type": "code",
   "execution_count": 8,
   "metadata": {},
   "outputs": [],
   "source": [
    "def avg_log_loss(y_true, y_pred):\n",
    "    log_loss = - (y_true * np.log(y_pred)\n",
    "            + (1 - y_true) * np.log(1 - y_pred))\n",
    "    return log_loss.mean()"
   ]
  },
  {
   "cell_type": "code",
   "execution_count": 9,
   "metadata": {},
   "outputs": [
    {
     "name": "stdout",
     "output_type": "stream",
     "text": [
      "average log-loss: 0.4656\n"
     ]
    }
   ],
   "source": [
    "val = avg_log_loss(1 - labels, y_pred_r)\n",
    "print(\"average log-loss: {:.4f}\".format(val))"
   ]
  },
  {
   "cell_type": "markdown",
   "metadata": {},
   "source": [
    "## Save data for plotting, etc."
   ]
  },
  {
   "cell_type": "code",
   "execution_count": 10,
   "metadata": {},
   "outputs": [],
   "source": [
    "data_r = {\n",
    "    \"y_true\": labels,\n",
    "    \"y_pred\": y_pred_r,\n",
    "}\n",
    "with open(\"../data/trwiki-ores-reverted-pred.pickle\", \"wb\") as f:\n",
    "    pickle.dump(data_r, f)\n",
    "    \n",
    "data_d = {\n",
    "    \"y_true\": labels,\n",
    "    \"y_pred\": y_pred_d,\n",
    "}\n",
    "with open(\"../data/trwiki-ores-damaging-pred.pickle\", \"wb\") as f:\n",
    "    pickle.dump(data_d, f)"
   ]
  }
 ],
 "metadata": {
  "kernelspec": {
   "display_name": "Python 3",
   "language": "python",
   "name": "python3"
  },
  "language_info": {
   "codemirror_mode": {
    "name": "ipython",
    "version": 3
   },
   "file_extension": ".py",
   "mimetype": "text/x-python",
   "name": "python",
   "nbconvert_exporter": "python",
   "pygments_lexer": "ipython3",
   "version": "3.6.3"
  }
 },
 "nbformat": 4,
 "nbformat_minor": 2
}
