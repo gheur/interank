{
 "cells": [
  {
   "cell_type": "markdown",
   "metadata": {},
   "source": [
    "# Fitting the dot model on Linux dataset"
   ]
  },
  {
   "cell_type": "code",
   "execution_count": 1,
   "metadata": {},
   "outputs": [],
   "source": [
    "%load_ext autoreload\n",
    "%autoreload 2\n",
    "%matplotlib inline\n",
    "\n",
    "import tensorflow as tf\n",
    "import math\n",
    "import os\n",
    "import matplotlib.pyplot as plt\n",
    "import numpy as np\n",
    "\n",
    "from interank import linuxutils\n",
    "from interank.models import DotModel\n",
    "from interank.linuxdata import LinuxData\n",
    "from datetime import datetime as dt\n",
    "from sklearn.metrics import precision_score, recall_score, precision_recall_curve, average_precision_score\n",
    "\n",
    "summaries_dir = '../trained-models/log-dir/'"
   ]
  },
  {
   "cell_type": "markdown",
   "metadata": {},
   "source": [
    "## Load dataset"
   ]
  },
  {
   "cell_type": "code",
   "execution_count": 2,
   "metadata": {},
   "outputs": [
    {
     "name": "stdout",
     "output_type": "stream",
     "text": [
      "Training set: 495536 edits\n",
      "Test set: 123883 edits\n",
      "Number of users: 9672\n",
      "Number of articles: 394\n",
      "––––––––––\n",
      "CPU times: user 1.34 s, sys: 48 ms, total: 1.39 s\n",
      "Wall time: 1.36 s\n"
     ]
    }
   ],
   "source": [
    "%%time\n",
    "dataset = LinuxData(\"/data/datasets/linux\")\n",
    "\n",
    "train = dataset.get_train_data()\n",
    "test = dataset.get_test_data()\n",
    "\n",
    "print(\"Training set: {} edits\".format(len(train[0])))\n",
    "print(\"Test set: {} edits\".format(len(test[0])))\n",
    "print(\"Number of users: {}\".format(dataset.n_users))\n",
    "print(\"Number of articles: {}\".format(dataset.n_subsystems))\n",
    "print(\"––––––––––\")"
   ]
  },
  {
   "cell_type": "markdown",
   "metadata": {},
   "source": [
    "## Tensorflow configuration"
   ]
  },
  {
   "cell_type": "code",
   "execution_count": 3,
   "metadata": {},
   "outputs": [],
   "source": [
    "os.environ[\"CUDA_DEVICE_ORDER\"] = \"PCI_BUS_ID\"\n",
    "os.environ[\"CUDA_VISIBLE_DEVICES\"] = \"0\""
   ]
  },
  {
   "cell_type": "code",
   "execution_count": 4,
   "metadata": {},
   "outputs": [],
   "source": [
    "# Reset graph to run the notebook twice in a row without error \n",
    "tf.reset_default_graph()\n",
    "\n",
    "# Number of latent factors for the MF term\n",
    "\n",
    "# Basic model\n",
    "model = DotModel(n_users=dataset.n_users,\n",
    "                 n_articles=dataset.n_subsystems, \n",
    "                 n_dims=20, \n",
    "                 global_bias=True)\n",
    "\n",
    "# Setup the optimisation procedure\n",
    "minibatch_size = 2000\n",
    "minibatch_size_tf = tf.Variable(minibatch_size, trainable=False)\n",
    "num_batches = math.ceil(len(train[0]) / minibatch_size)\n",
    "epochs = 50\n",
    "\n",
    "# Define the cost\n",
    "reg_coeff1 = 8\n",
    "reg_coeff2 = 100\n",
    "cost = (-model.log_likelihood\n",
    "        + (reg_coeff1/num_batches) * (model.l2_difficulty + model.l2_skill)\n",
    "        + (reg_coeff2/num_batches) * (model.l2_vec_user + model.l2_vec_article))\n",
    "\n",
    "# Setup optimiser\n",
    "learning_rate = 0.1\n",
    "\n",
    "# Decaying learning rate\n",
    "# decay_rate = 0.9\n",
    "# global_step = 0\n",
    "# Decaying learning rate\n",
    "# batch_idx = tf.Variable(0, trainable=False)\n",
    "# learning_rate_tf = tf.train.exponential_decay(\n",
    "#     learning_rate=learning_rate,\n",
    "#     global_step=(batch_idx * minibatch_size),\n",
    "#     decay_steps=len(train[0]),\n",
    "#     decay_rate=decay_rate,\n",
    "#     staircase=True\n",
    "# )\n",
    "# train_step = tf.train.GradientDescentOptimizer(learning_rate_tf).minimize(cost, global_step=batch_idx)\n",
    "# Adagrad\n",
    "learning_rate_tf = tf.Variable(learning_rate, dtype=tf.float32)\n",
    "train_step = tf.train.AdagradOptimizer(learning_rate_tf).minimize(cost)\n",
    "\n",
    "# Summaries for Tensorboard\n",
    "auc_ph = tf.placeholder(tf.float32, name=\"auc\")\n",
    "tf.summary.scalar(\"avg_log_loss\", model.avg_log_loss)\n",
    "tf.summary.scalar(\"area_under_pr_curve\", auc_ph)\n",
    "tf.summary.scalar(\"learning_rate\", learning_rate_tf)\n",
    "merged = tf.summary.merge_all()\n",
    "    \n",
    "log = 'tuned/optimization_{}_epochs_{}_minibatchsize_{}__learningrate_{}_date_{}'.format(\n",
    "    'Adagrad',\n",
    "    epochs,\n",
    "    minibatch_size,\n",
    "    learning_rate,\n",
    "    dt.now().strftime('%Y-%m-%d-%H-%M-%S')\n",
    ")\n",
    "train_writer = tf.summary.FileWriter(summaries_dir + '/' + log + '/train')\n",
    "test_writer = tf.summary.FileWriter(summaries_dir + '/' + log + '/test')"
   ]
  },
  {
   "cell_type": "markdown",
   "metadata": {},
   "source": [
    "## Train the model"
   ]
  },
  {
   "cell_type": "code",
   "execution_count": 5,
   "metadata": {},
   "outputs": [
    {
     "name": "stdout",
     "output_type": "stream",
     "text": [
      "Total number of batches: 248\n",
      "Epoch 0 - avg. log-loss = 0.693147, AUC = 0.320, bias = 0.0\n",
      "Epoch 1 - avg. log-loss = 0.588546, AUC = 0.526, bias = -0.3828637897968292\n",
      "Epoch 2 - avg. log-loss = 0.588581, AUC = 0.528, bias = -0.38785168528556824\n",
      "Epoch 3 - avg. log-loss = 0.589221, AUC = 0.525, bias = -0.3868368864059448\n",
      "Epoch 4 - avg. log-loss = 0.588383, AUC = 0.528, bias = -0.40476852655410767\n",
      "Epoch 5 - avg. log-loss = 0.588590, AUC = 0.528, bias = -0.3993528187274933\n",
      "Epoch 6 - avg. log-loss = 0.588056, AUC = 0.528, bias = -0.41171717643737793\n",
      "Epoch 7 - avg. log-loss = 0.588163, AUC = 0.527, bias = -0.4202040433883667\n",
      "Epoch 8 - avg. log-loss = 0.588918, AUC = 0.525, bias = -0.41413697600364685\n",
      "Epoch 9 - avg. log-loss = 0.588963, AUC = 0.526, bias = -0.4178537130355835\n",
      "Epoch 10 - avg. log-loss = 0.588930, AUC = 0.526, bias = -0.42083674669265747\n",
      "Epoch 11 - avg. log-loss = 0.588360, AUC = 0.527, bias = -0.43011510372161865\n",
      "Epoch 12 - avg. log-loss = 0.588351, AUC = 0.528, bias = -0.42763200402259827\n",
      "Epoch 13 - avg. log-loss = 0.588448, AUC = 0.527, bias = -0.4282255470752716\n",
      "Epoch 14 - avg. log-loss = 0.588593, AUC = 0.526, bias = -0.4319241940975189\n",
      "Epoch 15 - avg. log-loss = 0.588578, AUC = 0.526, bias = -0.4344010055065155\n",
      "Epoch 16 - avg. log-loss = 0.588736, AUC = 0.527, bias = -0.4323025345802307\n",
      "Epoch 17 - avg. log-loss = 0.587828, AUC = 0.527, bias = -0.44599637389183044\n",
      "Epoch 18 - avg. log-loss = 0.588139, AUC = 0.528, bias = -0.4402202069759369\n",
      "Epoch 19 - avg. log-loss = 0.588464, AUC = 0.527, bias = -0.4407019317150116\n",
      "Epoch 20 - avg. log-loss = 0.588341, AUC = 0.527, bias = -0.4429667890071869\n",
      "Epoch 21 - avg. log-loss = 0.587995, AUC = 0.528, bias = -0.44993898272514343\n",
      "Epoch 22 - avg. log-loss = 0.587946, AUC = 0.527, bias = -0.45165982842445374\n",
      "Epoch 23 - avg. log-loss = 0.588056, AUC = 0.527, bias = -0.4521268904209137\n",
      "Epoch 24 - avg. log-loss = 0.588337, AUC = 0.528, bias = -0.4494229257106781\n",
      "Epoch 25 - avg. log-loss = 0.588349, AUC = 0.527, bias = -0.4496712386608124\n",
      "Epoch 26 - avg. log-loss = 0.588139, AUC = 0.528, bias = -0.45141473412513733\n",
      "Epoch 27 - avg. log-loss = 0.587829, AUC = 0.528, bias = -0.4586752951145172\n",
      "Epoch 28 - avg. log-loss = 0.588114, AUC = 0.528, bias = -0.45459264516830444\n",
      "Epoch 29 - avg. log-loss = 0.588108, AUC = 0.528, bias = -0.4573054611682892\n",
      "Epoch 30 - avg. log-loss = 0.588785, AUC = 0.527, bias = -0.44784411787986755\n",
      "Epoch 31 - avg. log-loss = 0.588147, AUC = 0.527, bias = -0.4592093229293823\n",
      "Epoch 32 - avg. log-loss = 0.587858, AUC = 0.528, bias = -0.4614771008491516\n",
      "Epoch 33 - avg. log-loss = 0.587855, AUC = 0.527, bias = -0.4652206301689148\n",
      "Epoch 34 - avg. log-loss = 0.587956, AUC = 0.527, bias = -0.462729811668396\n",
      "Epoch 35 - avg. log-loss = 0.588086, AUC = 0.528, bias = -0.46030399203300476\n",
      "Epoch 36 - avg. log-loss = 0.588532, AUC = 0.527, bias = -0.45589789748191833\n",
      "Epoch 37 - avg. log-loss = 0.588217, AUC = 0.528, bias = -0.4595510959625244\n",
      "Epoch 38 - avg. log-loss = 0.587714, AUC = 0.528, bias = -0.4696074426174164\n",
      "Epoch 39 - avg. log-loss = 0.588092, AUC = 0.528, bias = -0.46320486068725586\n",
      "Epoch 40 - avg. log-loss = 0.588142, AUC = 0.528, bias = -0.46168285608291626\n",
      "Epoch 41 - avg. log-loss = 0.587942, AUC = 0.528, bias = -0.4687875509262085\n",
      "Epoch 42 - avg. log-loss = 0.587964, AUC = 0.528, bias = -0.4691567122936249\n",
      "Epoch 43 - avg. log-loss = 0.588440, AUC = 0.528, bias = -0.45848017930984497\n",
      "Epoch 44 - avg. log-loss = 0.587904, AUC = 0.528, bias = -0.47023922204971313\n",
      "Epoch 45 - avg. log-loss = 0.588252, AUC = 0.527, bias = -0.4670872986316681\n",
      "Epoch 46 - avg. log-loss = 0.587922, AUC = 0.528, bias = -0.4703797698020935\n",
      "Epoch 47 - avg. log-loss = 0.587858, AUC = 0.527, bias = -0.474047988653183\n",
      "Epoch 48 - avg. log-loss = 0.587988, AUC = 0.528, bias = -0.4708558917045593\n",
      "Epoch 49 - avg. log-loss = 0.587560, AUC = 0.528, bias = -0.48024383187294006\n",
      "Epoch 50 - avg. log-loss = 0.587783, AUC = 0.527, bias = -0.4756222367286682\n",
      "CPU times: user 3min 54s, sys: 31.5 s, total: 4min 26s\n",
      "Wall time: 1min 33s\n"
     ]
    }
   ],
   "source": [
    "%%time\n",
    "feed_test = {\n",
    "    model.user_id: test[0],\n",
    "    model.article_id: test[1],\n",
    "    model.quality: test[2],\n",
    "}\n",
    "\n",
    "# Keep track of likelihood\n",
    "test_likelihood = [-np.inf]\n",
    "\n",
    "print('Total number of batches: {}'.format(num_batches))\n",
    "\n",
    "def evaluate(session, step):\n",
    "    avg_log_loss, probs, bias = session.run(\n",
    "            [model.avg_log_loss, model.probability, model.global_bias], feed_dict=feed_test)\n",
    "    \n",
    "    labels = feed_test[model.quality].astype(int)\n",
    "    auc = average_precision_score(labels, probs)\n",
    "    \n",
    "    summary = session.run(merged, feed_dict={**feed_test, auc_ph: auc})\n",
    "    \n",
    "    test_writer.add_summary(summary, global_step=step)\n",
    "    test_writer.flush()\n",
    "    \n",
    "    return avg_log_loss, auc, bias\n",
    "    \n",
    "# Initialise Tensorflow's variables\n",
    "session = tf.Session()\n",
    "session.run(tf.global_variables_initializer())\n",
    "\n",
    "with session.as_default():\n",
    "    step = 0\n",
    "\n",
    "    avg_log_loss, auc, bias = evaluate(session, step)\n",
    "    print('Epoch 0 - avg. log-loss = {:.6f}, AUC = {:.3f}, bias = {}'\n",
    "          .format(avg_log_loss, auc, bias))\n",
    "    \n",
    "    for i in range(epochs):\n",
    "        # Train the model on minibatch\n",
    "        for j, minibatch in enumerate(LinuxData.minibatches(train, minibatch_size)):\n",
    "            step += 1\n",
    "            feed_dict = {\n",
    "                model.user_id: minibatch[0],\n",
    "                model.article_id: minibatch[1],\n",
    "                model.quality: minibatch[2],\n",
    "            }\n",
    "            _ = session.run([train_step], feed_dict=feed_dict)\n",
    "\n",
    "        avg_log_loss, auc, bias = evaluate(session, step)\n",
    "        print('Epoch {} - avg. log-loss = {:.6f}, AUC = {:.3f}, bias = {}'\n",
    "              .format(i + 1, avg_log_loss, auc, bias))"
   ]
  },
  {
   "cell_type": "markdown",
   "metadata": {},
   "source": [
    "## Evaluate"
   ]
  },
  {
   "cell_type": "code",
   "execution_count": 6,
   "metadata": {},
   "outputs": [],
   "source": [
    "with session.as_default():\n",
    "    probs = session.run(\n",
    "            [model.probability], feed_dict=feed_test)"
   ]
  },
  {
   "cell_type": "markdown",
   "metadata": {},
   "source": [
    "### Precision-recall curve"
   ]
  },
  {
   "cell_type": "code",
   "execution_count": 7,
   "metadata": {},
   "outputs": [
    {
     "data": {
      "image/png": "[encoded data removed]",
      "text/plain": [
       "<matplotlib.figure.Figure at 0x7fb48ca97a90>"
      ]
     },
     "metadata": {},
     "output_type": "display_data"
    }
   ],
   "source": [
    "target = np.array([np.float32(t) for t in test[2]]).squeeze()\n",
    "predictions = np.array(probs).squeeze()\n",
    "\n",
    "average_precision = average_precision_score(target, predictions)\n",
    "precision, recall, _ = precision_recall_curve(target, predictions)\n",
    "\n",
    "plt.plot(recall, precision)\n",
    "plt.grid()\n",
    "plt.xlabel('Recall')\n",
    "plt.ylabel('Precision')\n",
    "plt.title('2-class Precision-Recall curve: AUC={0:0.3f}'.format(\n",
    "          average_precision))\n",
    "plt.show()"
   ]
  },
  {
   "cell_type": "markdown",
   "metadata": {},
   "source": [
    "## Qualitative results"
   ]
  },
  {
   "cell_type": "code",
   "execution_count": 8,
   "metadata": {},
   "outputs": [],
   "source": [
    "with session.as_default():\n",
    "    skills = model.skill.eval()\n",
    "    difficulties = model.difficulty.eval()\n",
    "subsystems = dataset.get_subsystems()\n",
    "users = dataset.get_users()"
   ]
  },
  {
   "cell_type": "code",
   "execution_count": 9,
   "metadata": {},
   "outputs": [
    {
     "name": "stdout",
     "output_type": "stream",
     "text": [
      "### 10 most difficult subsystems:\n",
      " 1 +2.664 usr (796 patches, 70 users)\n",
      "    rate: 1.8844%, main contributor: fujita.tomonori@lab.ntt.co.jp\n",
      " 2 +1.327 include (398 patches, 101 users)\n",
      "    rate: 7.7889%, main contributor: plagnioj@jcrosoft.com\n",
      " 3 +1.038 lib (5642 patches, 707 users)\n",
      "    rate: 15.9872%, main contributor: torvalds@linux-foundation.org\n",
      " 4 +1.013 drivers/clk (495 patches, 81 users)\n",
      "    rate: 34.3434%, main contributor: viresh.kumar@st.com\n",
      " 5 +0.865 include/trace (547 patches, 81 users)\n",
      "    rate: 17.7331%, main contributor: rostedt@goodmis.org\n",
      " 6 +0.839 tools (9985 patches, 400 users)\n",
      "    rate: 19.9800%, main contributor: acme@ghostprotocols.net\n",
      " 7 +0.801 drivers/iio (305 patches, 38 users)\n",
      "    rate: 43.2787%, main contributor: lars@metafoo.de\n",
      " 8 +0.780 fs/ceph (314 patches, 28 users)\n",
      "    rate: 25.1592%, main contributor: sage@newdream.net\n",
      " 9 +0.779 fs (9421 patches, 713 users)\n",
      "    rate: 18.1934%, main contributor: torvalds@linux-foundation.org\n",
      "10 +0.752 drivers/md (4800 patches, 276 users)\n",
      "    rate: 25.6042%, main contributor: neilb@suse.de\n",
      "\n",
      "### 10 least difficult subsystems:\n",
      " 1 -1.194 drivers/addi-data (272 patches, 8 users)\n",
      "    rate: 78.3088%, main contributor: hsweeten@visionengravers.com\n",
      " 2 -1.080 net/tipc (573 patches, 44 users)\n",
      "    rate: 43.1065%, main contributor: p_gortmaker@yahoo.com\n",
      " 3 -0.993 drivers/ps3 (61 patches, 9 users)\n",
      "    rate: 44.2623%, main contributor: torvalds@linux-foundation.org\n",
      " 4 -0.936 net/nfc (204 patches, 26 users)\n",
      "    rate: 73.0392%, main contributor: sameo@linux.intel.com\n",
      " 5 -0.796 arch/mn10300 (359 patches, 63 users)\n",
      "    rate: 45.4039%, main contributor: torvalds@linux-foundation.org\n",
      " 6 -0.741 net/rds (185 patches, 48 users)\n",
      "    rate: 56.2162%, main contributor: agrover@groveronline.com\n",
      " 7 -0.674 drivers/staging (23930 patches, 887 users)\n",
      "    rate: 48.9762%, main contributor: greg@echidna.(none)\n",
      " 8 -0.617 arch/unicore32 (187 patches, 34 users)\n",
      "    rate: 53.4759%, main contributor: gxt@mprc.pku.edu.cn\n",
      " 9 -0.612 sound/isa (275 patches, 40 users)\n",
      "    rate: 59.2727%, main contributor: krzysztof.h1@poczta.fm\n",
      "10 -0.606 include/asm-x86 (1851 patches, 179 users)\n",
      "    rate: 49.3247%, main contributor: torvalds@linux-foundation.org\n"
     ]
    }
   ],
   "source": [
    "linuxutils.print_subsystems_summary(difficulties, subsystems, n=10)"
   ]
  },
  {
   "cell_type": "code",
   "execution_count": 10,
   "metadata": {},
   "outputs": [
    {
     "name": "stdout",
     "output_type": "stream",
     "text": [
      "More difficult: avg. churn = 833.56\n",
      "Less difficult. avg. churn = 687.19\n"
     ]
    }
   ],
   "source": [
    "def estimate_churn(idx):\n",
    "    '''Estimates the number of commits in subsystem.'''\n",
    "    c = list()\n",
    "    for _, sid in enumerate(idx[:cutoff]):\n",
    "        diff = difficulties[sid]\n",
    "        sub = subsystems[sid]\n",
    "        rate = sub[3]\n",
    "        num_patch = sub[1]\n",
    "        churn = rate * num_patch\n",
    "        c.append(churn)\n",
    "    return c\n",
    "\n",
    "\n",
    "idx = np.argsort(difficulties)\n",
    "cutoff = int(np.ceil(0.25 * len(idx)))\n",
    "\n",
    "neg = estimate_churn(idx[:cutoff])\n",
    "pos = estimate_churn(idx[::-1][:cutoff])\n",
    "\n",
    "avg_pos = np.mean(pos)\n",
    "avg_neg = np.mean(neg)\n",
    "\n",
    "print('More difficult: avg. churn = {:.2f}'.format(avg_pos))\n",
    "print('Less difficult. avg. churn = {:.2f}'.format(avg_neg))"
   ]
  },
  {
   "cell_type": "code",
   "execution_count": 11,
   "metadata": {},
   "outputs": [
    {
     "name": "stdout",
     "output_type": "stream",
     "text": [
      "### 10 most skilled users:\n",
      " 1 +1.914 andrew.vasquez@qlogic.com from qlogic (538 patches, 4 subsystems)\n",
      "    rate: 84.5725%, main sub: drivers/scsi\n",
      " 2 +1.909 knan-lkml@anduin.net from anduin (78 patches, 3 subsystems)\n",
      "    rate: 96.1538%, main sub: drivers/ata\n",
      " 3 +1.837 james.smart@emulex.com from emulex (253 patches, 2 subsystems)\n",
      "    rate: 93.2806%, main sub: drivers/scsi\n",
      " 4 +1.766 tixy@yxit.co.uk from yxit.co (146 patches, 1 subsystems)\n",
      "    rate: 87.6712%, main sub: arch/arm\n",
      " 5 +1.738 agk@redhat.com from redhat (216 patches, 3 subsystems)\n",
      "    rate: 69.4444%, main sub: drivers/md\n",
      " 6 +1.705 philipp.reisner@linbit.com from linbit (530 patches, 9 subsystems)\n",
      "    rate: 75.8491%, main sub: block\n",
      " 7 +1.572 madhu.iyengar@qlogic.com from qlogic (111 patches, 2 subsystems)\n",
      "    rate: 86.4865%, main sub: drivers/scsi\n",
      " 8 +1.548 fenkes@de.ibm.com from de.ibm (104 patches, 4 subsystems)\n",
      "    rate: 87.5000%, main sub: drivers/infiniband\n",
      " 9 +1.544 christof.schmit@de.ibm.com from de.ibm (90 patches, 3 subsystems)\n",
      "    rate: 95.5556%, main sub: drivers/s390\n",
      "10 +1.519 mcarlson@broadcom.com from broadcom (573 patches, 4 subsystems)\n",
      "    rate: 87.6091%, main sub: drivers/net\n",
      "\n",
      "### 10 least skilled users:\n",
      " 1 -2.621 greg@echidna.(none) from kroah (12539 patches, 174 subsystems)\n",
      "    rate: 2.8950%, main sub: drivers/usb\n",
      " 2 -2.146 orenl@cs.columbia.edu from cs.columbia (392 patches, 21 subsystems)\n",
      "    rate: 0.5102%, main sub: include/linux\n",
      " 3 -1.974 xiaohui.xin@intel.com from intel (254 patches, 4 subsystems)\n",
      "    rate: 0.0000%, main sub: net/core\n",
      " 4 -1.858 w@1wt.eu from exosec (552 patches, 103 subsystems)\n",
      "    rate: 1.2681%, main sub: kernel\n",
      " 5 -1.727 p_gortmaker@yahoo.com from towertech (1846 patches, 148 subsystems)\n",
      "    rate: 12.8927%, main sub: net/tipc\n",
      " 6 -1.698 vaurora@redhat.com from redhat (300 patches, 9 subsystems)\n",
      "    rate: 1.3333%, main sub: fs\n",
      " 7 -1.676 antonynpavlov@gmail.com from gmail (249 patches, 17 subsystems)\n",
      "    rate: 1.2048%, main sub: arch/mips\n",
      " 8 -1.675 torvalds@linux-foundation.org from osdl (73545 patches, 322 subsystems)\n",
      "    rate: 10.0265%, main sub: mm\n",
      " 9 -1.609 tmarri@amcc.com from amcc (115 patches, 3 subsystems)\n",
      "    rate: 0.0000%, main sub: drivers/usb\n",
      "10 -1.602 lgrijincu@ixiacom.com from ixiacom (234 patches, 47 subsystems)\n",
      "    rate: 4.7009%, main sub: kernel\n"
     ]
    }
   ],
   "source": [
    "linuxutils.print_users_summary(skills, users, n=10)"
   ]
  },
  {
   "cell_type": "markdown",
   "metadata": {},
   "source": [
    "### Histograms of skills and difficulties"
   ]
  },
  {
   "cell_type": "code",
   "execution_count": 12,
   "metadata": {},
   "outputs": [
    {
     "data": {
      "text/plain": [
       "<matplotlib.text.Text at 0x7fb488672ef0>"
      ]
     },
     "execution_count": 12,
     "metadata": {},
     "output_type": "execute_result"
    },
    {
     "data": {
      "image/png": "[encoded data removed]",
      "text/plain": [
       "<matplotlib.figure.Figure at 0x7fb48928a898>"
      ]
     },
     "metadata": {},
     "output_type": "display_data"
    }
   ],
   "source": [
    "fig, (ax1, ax2) = plt.subplots(ncols=2, figsize=(16, 5), sharex=True)\n",
    "\n",
    "ax1.hist(skills, bins=np.linspace(-2, 2, num=50))\n",
    "ax1.set_title(\"Histogram of user skills\")\n",
    "\n",
    "ax2.hist(difficulties, bins=np.linspace(-2, 2, num=50))\n",
    "ax2.set_title(\"Histogram of article difficulties\")"
   ]
  },
  {
   "cell_type": "markdown",
   "metadata": {},
   "source": [
    "### Histograms of labels and predictions"
   ]
  },
  {
   "cell_type": "code",
   "execution_count": 13,
   "metadata": {},
   "outputs": [
    {
     "data": {
      "text/plain": [
       "<matplotlib.text.Text at 0x7fb4806a2390>"
      ]
     },
     "execution_count": 13,
     "metadata": {},
     "output_type": "execute_result"
    },
    {
     "data": {
      "image/png": "[encoded data removed]",
      "text/plain": [
       "<matplotlib.figure.Figure at 0x7fb48070fa90>"
      ]
     },
     "metadata": {},
     "output_type": "display_data"
    }
   ],
   "source": [
    "fig, (ax1, ax2) = plt.subplots(ncols=2, figsize=(16, 5), sharex=True)\n",
    "\n",
    "ax1.hist(test[2], bins=np.linspace(0, 1, num=40))\n",
    "ax1.set_title(\"Histogram of true probabilities\")\n",
    "\n",
    "ax2.hist(probs, bins=np.linspace(0, 1, num=40))\n",
    "ax2.set_title(\"Histogram of model estimates\")"
   ]
  },
  {
   "cell_type": "code",
   "execution_count": 14,
   "metadata": {},
   "outputs": [],
   "source": [
    "saver = tf.train.Saver()\n",
    "saver.save(session, \"../trained-models/linux/dot.ckpt\")\n",
    "\n",
    "with open('../data/linux-dot-probs.txt', 'w') as f:\n",
    "    f.writelines(['{:.20f}\\n'.format(p) for p in probs[0]])"
   ]
  }
 ],
 "metadata": {
  "kernelspec": {
   "display_name": "Python 3",
   "language": "python",
   "name": "python3"
  },
  "language_info": {
   "codemirror_mode": {
    "name": "ipython",
    "version": 3
   },
   "file_extension": ".py",
   "mimetype": "text/x-python",
   "name": "python",
   "nbconvert_exporter": "python",
   "pygments_lexer": "ipython3",
   "version": "3.6.3"
  }
 },
 "nbformat": 4,
 "nbformat_minor": 2
}
