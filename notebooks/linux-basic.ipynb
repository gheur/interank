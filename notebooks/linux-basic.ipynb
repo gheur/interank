{
 "cells": [
  {
   "cell_type": "markdown",
   "metadata": {},
   "source": [
    "# Fitting the basic model on Linux dataset"
   ]
  },
  {
   "cell_type": "code",
   "execution_count": 1,
   "metadata": {},
   "outputs": [],
   "source": [
    "%load_ext autoreload\n",
    "%autoreload 2\n",
    "%matplotlib inline\n",
    "\n",
    "import tensorflow as tf\n",
    "import math\n",
    "import os\n",
    "import matplotlib.pyplot as plt\n",
    "import numpy as np\n",
    "\n",
    "from interank import linuxutils\n",
    "from interank.models import BasicModel\n",
    "from interank.linuxdata import LinuxData\n",
    "from datetime import datetime as dt\n",
    "from sklearn.metrics import precision_score, recall_score, precision_recall_curve, average_precision_score\n",
    "\n",
    "summaries_dir = '../trained-models/log-dir/'"
   ]
  },
  {
   "cell_type": "markdown",
   "metadata": {},
   "source": [
    "## Load dataset"
   ]
  },
  {
   "cell_type": "code",
   "execution_count": 2,
   "metadata": {},
   "outputs": [
    {
     "name": "stdout",
     "output_type": "stream",
     "text": [
      "Training set: 495536 edits\n",
      "Test set: 123883 edits\n",
      "Number of users: 9672\n",
      "Number of articles: 394\n",
      "––––––––––\n",
      "CPU times: user 1.32 s, sys: 68 ms, total: 1.38 s\n",
      "Wall time: 1.35 s\n"
     ]
    }
   ],
   "source": [
    "%%time\n",
    "dataset = LinuxData(\"/data/datasets/linux\")\n",
    "\n",
    "train = dataset.get_train_data()\n",
    "test = dataset.get_test_data()\n",
    "\n",
    "print(\"Training set: {} edits\".format(len(train[0])))\n",
    "print(\"Test set: {} edits\".format(len(test[0])))\n",
    "print(\"Number of users: {}\".format(dataset.n_users))\n",
    "print(\"Number of articles: {}\".format(dataset.n_subsystems))\n",
    "print(\"––––––––––\")"
   ]
  },
  {
   "cell_type": "markdown",
   "metadata": {},
   "source": [
    "## Tensorflow configuration"
   ]
  },
  {
   "cell_type": "code",
   "execution_count": 3,
   "metadata": {},
   "outputs": [],
   "source": [
    "os.environ[\"CUDA_DEVICE_ORDER\"] = \"PCI_BUS_ID\"\n",
    "os.environ[\"CUDA_VISIBLE_DEVICES\"] = \"0\""
   ]
  },
  {
   "cell_type": "code",
   "execution_count": 4,
   "metadata": {},
   "outputs": [],
   "source": [
    "# Reset graph to run the notebook twice in a row without error \n",
    "tf.reset_default_graph()\n",
    "\n",
    "# Number of latent factors for the MF term\n",
    "\n",
    "# Basic model\n",
    "model = BasicModel(n_users=dataset.n_users,\n",
    "                   n_articles=dataset.n_subsystems,\n",
    "                   global_bias=True)\n",
    "\n",
    "# Setup the optimisation procedure\n",
    "minibatch_size = 2000\n",
    "minibatch_size_tf = tf.Variable(minibatch_size, trainable=False)\n",
    "num_batches = math.ceil(len(train[0]) / minibatch_size)\n",
    "epochs = 50\n",
    "\n",
    "# Define the cost\n",
    "reg_coeff = 16\n",
    "cost = -model.log_likelihood + (reg_coeff / num_batches) * (model.l2_skill + model.l2_difficulty)\n",
    "\n",
    "# Setup optimiser\n",
    "learning_rate = 0.1\n",
    "\n",
    "# Decaying learning rate\n",
    "# decay_rate = 0.9\n",
    "# global_step = 0\n",
    "# Decaying learning rate\n",
    "# batch_idx = tf.Variable(0, trainable=False)\n",
    "# learning_rate_tf = tf.train.exponential_decay(\n",
    "#     learning_rate=learning_rate,\n",
    "#     global_step=(batch_idx * minibatch_size),\n",
    "#     decay_steps=len(train[0]),\n",
    "#     decay_rate=decay_rate,\n",
    "#     staircase=True\n",
    "# )\n",
    "# train_step = tf.train.GradientDescentOptimizer(learning_rate_tf).minimize(cost, global_step=batch_idx)\n",
    "\n",
    "# Adagrad\n",
    "learning_rate_tf = tf.Variable(learning_rate, dtype=tf.float32)\n",
    "train_step = tf.train.AdagradOptimizer(learning_rate_tf).minimize(cost)\n",
    "\n",
    "# Summaries for Tensorboard\n",
    "auc_ph = tf.placeholder(tf.float32, name=\"auc\")\n",
    "tf.summary.scalar(\"avg_log_loss\", model.avg_log_loss)\n",
    "tf.summary.scalar(\"area_under_pr_curve\", auc_ph)\n",
    "tf.summary.scalar(\"learning_rate\", learning_rate_tf)\n",
    "merged = tf.summary.merge_all()\n",
    "    \n",
    "log = 'tuned/optimization_{}_epochs_{}_minibatchsize_{}__learningrate_{}_date_{}'.format(\n",
    "    'Adagrad',\n",
    "    epochs,\n",
    "    minibatch_size,\n",
    "    learning_rate,\n",
    "    dt.now().strftime('%Y-%m-%d-%H-%M-%S')\n",
    ")\n",
    "train_writer = tf.summary.FileWriter(summaries_dir + '/' + log + '/train')\n",
    "test_writer = tf.summary.FileWriter(summaries_dir + '/' + log + '/test')"
   ]
  },
  {
   "cell_type": "markdown",
   "metadata": {},
   "source": [
    "## Train the model"
   ]
  },
  {
   "cell_type": "code",
   "execution_count": 5,
   "metadata": {},
   "outputs": [
    {
     "name": "stdout",
     "output_type": "stream",
     "text": [
      "Total number of batches: 248\n",
      "Epoch 0 - avg. log-loss = 0.693147, AUC = 0.333, bias = 0.0\n",
      "Epoch 1 - avg. log-loss = 0.589445, AUC = 0.519, bias = -0.3999224305152893\n",
      "Epoch 2 - avg. log-loss = 0.589655, AUC = 0.522, bias = -0.3939407169818878\n",
      "Epoch 3 - avg. log-loss = 0.589936, AUC = 0.523, bias = -0.3933514654636383\n",
      "Epoch 4 - avg. log-loss = 0.589073, AUC = 0.524, bias = -0.4095945954322815\n",
      "Epoch 5 - avg. log-loss = 0.589548, AUC = 0.524, bias = -0.4052961766719818\n",
      "Epoch 6 - avg. log-loss = 0.588975, AUC = 0.525, bias = -0.4175031781196594\n",
      "Epoch 7 - avg. log-loss = 0.588711, AUC = 0.525, bias = -0.4264986515045166\n",
      "Epoch 8 - avg. log-loss = 0.589274, AUC = 0.524, bias = -0.419694721698761\n",
      "Epoch 9 - avg. log-loss = 0.589276, AUC = 0.525, bias = -0.4243673086166382\n",
      "Epoch 10 - avg. log-loss = 0.589245, AUC = 0.525, bias = -0.42806893587112427\n",
      "Epoch 11 - avg. log-loss = 0.588880, AUC = 0.525, bias = -0.4363716244697571\n",
      "Epoch 12 - avg. log-loss = 0.589130, AUC = 0.525, bias = -0.4337504208087921\n",
      "Epoch 13 - avg. log-loss = 0.589138, AUC = 0.525, bias = -0.4343222975730896\n",
      "Epoch 14 - avg. log-loss = 0.589107, AUC = 0.525, bias = -0.43664440512657166\n",
      "Epoch 15 - avg. log-loss = 0.589112, AUC = 0.525, bias = -0.43856486678123474\n",
      "Epoch 16 - avg. log-loss = 0.589251, AUC = 0.525, bias = -0.43617352843284607\n",
      "Epoch 17 - avg. log-loss = 0.588661, AUC = 0.525, bias = -0.4512288272380829\n",
      "Epoch 18 - avg. log-loss = 0.589036, AUC = 0.525, bias = -0.44321611523628235\n",
      "Epoch 19 - avg. log-loss = 0.589138, AUC = 0.525, bias = -0.44418129324913025\n",
      "Epoch 20 - avg. log-loss = 0.589074, AUC = 0.525, bias = -0.44632643461227417\n",
      "Epoch 21 - avg. log-loss = 0.588741, AUC = 0.525, bias = -0.45253485441207886\n",
      "Epoch 22 - avg. log-loss = 0.588684, AUC = 0.525, bias = -0.4547297954559326\n",
      "Epoch 23 - avg. log-loss = 0.588755, AUC = 0.525, bias = -0.4545385241508484\n",
      "Epoch 24 - avg. log-loss = 0.588982, AUC = 0.525, bias = -0.4512260854244232\n",
      "Epoch 25 - avg. log-loss = 0.589022, AUC = 0.525, bias = -0.4507443308830261\n",
      "Epoch 26 - avg. log-loss = 0.589042, AUC = 0.525, bias = -0.45273444056510925\n",
      "Epoch 27 - avg. log-loss = 0.588735, AUC = 0.525, bias = -0.45976370573043823\n",
      "Epoch 28 - avg. log-loss = 0.588917, AUC = 0.525, bias = -0.45535901188850403\n",
      "Epoch 29 - avg. log-loss = 0.588919, AUC = 0.525, bias = -0.45773476362228394\n",
      "Epoch 30 - avg. log-loss = 0.589352, AUC = 0.525, bias = -0.44898995757102966\n",
      "Epoch 31 - avg. log-loss = 0.588878, AUC = 0.525, bias = -0.45932233333587646\n",
      "Epoch 32 - avg. log-loss = 0.588806, AUC = 0.525, bias = -0.46112802624702454\n",
      "Epoch 33 - avg. log-loss = 0.588700, AUC = 0.525, bias = -0.46526584029197693\n",
      "Epoch 34 - avg. log-loss = 0.588800, AUC = 0.525, bias = -0.4625020921230316\n",
      "Epoch 35 - avg. log-loss = 0.588938, AUC = 0.525, bias = -0.45959964394569397\n",
      "Epoch 36 - avg. log-loss = 0.589224, AUC = 0.525, bias = -0.45556315779685974\n",
      "Epoch 37 - avg. log-loss = 0.589139, AUC = 0.525, bias = -0.4574625790119171\n",
      "Epoch 38 - avg. log-loss = 0.588677, AUC = 0.525, bias = -0.46845969557762146\n",
      "Epoch 39 - avg. log-loss = 0.589018, AUC = 0.525, bias = -0.46088555455207825\n",
      "Epoch 40 - avg. log-loss = 0.589084, AUC = 0.525, bias = -0.45955634117126465\n",
      "Epoch 41 - avg. log-loss = 0.588861, AUC = 0.525, bias = -0.4667028784751892\n",
      "Epoch 42 - avg. log-loss = 0.588929, AUC = 0.525, bias = -0.4661407470703125\n",
      "Epoch 43 - avg. log-loss = 0.589419, AUC = 0.525, bias = -0.4555351734161377\n",
      "Epoch 44 - avg. log-loss = 0.588821, AUC = 0.525, bias = -0.4677930176258087\n",
      "Epoch 45 - avg. log-loss = 0.589085, AUC = 0.525, bias = -0.4641117453575134\n",
      "Epoch 46 - avg. log-loss = 0.588888, AUC = 0.525, bias = -0.4677031338214874\n",
      "Epoch 47 - avg. log-loss = 0.588800, AUC = 0.525, bias = -0.47109031677246094\n",
      "Epoch 48 - avg. log-loss = 0.588978, AUC = 0.525, bias = -0.46747151017189026\n",
      "Epoch 49 - avg. log-loss = 0.588559, AUC = 0.525, bias = -0.4769783616065979\n",
      "Epoch 50 - avg. log-loss = 0.588766, AUC = 0.525, bias = -0.47199004888534546\n",
      "CPU times: user 1min 58s, sys: 15.5 s, total: 2min 13s\n",
      "Wall time: 55.7 s\n"
     ]
    }
   ],
   "source": [
    "%%time\n",
    "feed_test = {\n",
    "    model.user_id: test[0],\n",
    "    model.article_id: test[1],\n",
    "    model.quality: test[2],\n",
    "}\n",
    "\n",
    "# Keep track of likelihood\n",
    "test_likelihood = [-np.inf]\n",
    "\n",
    "print('Total number of batches: {}'.format(num_batches))\n",
    "\n",
    "def evaluate(session, step):\n",
    "    avg_log_loss, probs, bias = session.run(\n",
    "            [model.avg_log_loss, model.probability, model.global_bias], feed_dict=feed_test)\n",
    "    \n",
    "    labels = feed_test[model.quality].astype(int)\n",
    "    auc = average_precision_score(labels, probs)\n",
    "    \n",
    "    summary = session.run(merged, feed_dict={**feed_test, auc_ph: auc})\n",
    "    \n",
    "    test_writer.add_summary(summary, global_step=step)\n",
    "    test_writer.flush()\n",
    "    \n",
    "    return avg_log_loss, auc, bias\n",
    "    \n",
    "\n",
    "# Initialise Tensorflow's variables\n",
    "session = tf.Session()\n",
    "session.run(tf.global_variables_initializer())\n",
    "\n",
    "with session.as_default():\n",
    "    step = 0\n",
    "\n",
    "    avg_log_loss, auc, bias = evaluate(session, step)\n",
    "    print('Epoch 0 - avg. log-loss = {:.6f}, AUC = {:.3f}, bias = {}'\n",
    "          .format(avg_log_loss, auc, bias))\n",
    "\n",
    "    for i in range(epochs):\n",
    "        # Train the model on minibatch\n",
    "        for j, minibatch in enumerate(LinuxData.minibatches(train, minibatch_size)):\n",
    "            step += 1\n",
    "            feed_dict = {\n",
    "                model.user_id: minibatch[0],\n",
    "                model.article_id: minibatch[1],\n",
    "                model.quality: minibatch[2],\n",
    "            }\n",
    "            _ = session.run([train_step], feed_dict=feed_dict)\n",
    "\n",
    "        avg_log_loss, auc, bias = evaluate(session, step)\n",
    "        print('Epoch {} - avg. log-loss = {:.6f}, AUC = {:.3f}, bias = {}'\n",
    "              .format(i + 1, avg_log_loss, auc, bias))"
   ]
  },
  {
   "cell_type": "markdown",
   "metadata": {},
   "source": [
    "## Evaluate"
   ]
  },
  {
   "cell_type": "code",
   "execution_count": 6,
   "metadata": {},
   "outputs": [],
   "source": [
    "with session.as_default():\n",
    "    probs = session.run(\n",
    "            [model.probability], feed_dict=feed_test)"
   ]
  },
  {
   "cell_type": "markdown",
   "metadata": {},
   "source": [
    "### Precision-recall curve"
   ]
  },
  {
   "cell_type": "code",
   "execution_count": 7,
   "metadata": {},
   "outputs": [
    {
     "data": {
      "image/png": "[encoded data removed]",
      "text/plain": [
       "<matplotlib.figure.Figure at 0x7f2ddd684ba8>"
      ]
     },
     "metadata": {},
     "output_type": "display_data"
    }
   ],
   "source": [
    "target = np.array([np.float32(t) for t in test[2]]).squeeze()\n",
    "predictions = np.array(probs).squeeze()\n",
    "\n",
    "average_precision = average_precision_score(target, predictions)\n",
    "precision, recall, _ = precision_recall_curve(target, predictions)\n",
    "\n",
    "plt.plot(recall, precision)\n",
    "\n",
    "plt.grid()\n",
    "plt.xlabel('Recall')\n",
    "plt.ylabel('Precision')\n",
    "plt.title('2-class Precision-Recall curve: AUC={0:0.3f}'.format(\n",
    "          average_precision))\n",
    "plt.show()"
   ]
  },
  {
   "cell_type": "markdown",
   "metadata": {},
   "source": [
    "## Qualitative results"
   ]
  },
  {
   "cell_type": "code",
   "execution_count": 8,
   "metadata": {},
   "outputs": [],
   "source": [
    "with session.as_default():\n",
    "    skills = model.skill.eval()\n",
    "    difficulties = model.difficulty.eval()\n",
    "subsystems = dataset.get_subsystems()\n",
    "users = dataset.get_users()"
   ]
  },
  {
   "cell_type": "code",
   "execution_count": 9,
   "metadata": {},
   "outputs": [
    {
     "name": "stdout",
     "output_type": "stream",
     "text": [
      "### 10 most difficult subsystems:\n",
      " 1 +2.252 usr (796 patches, 70 users)\n",
      "    rate: 1.8844%, main contributor: fujita.tomonori@lab.ntt.co.jp\n",
      " 2 +1.101 include (398 patches, 101 users)\n",
      "    rate: 7.7889%, main contributor: plagnioj@jcrosoft.com\n",
      " 3 +0.968 lib (5642 patches, 707 users)\n",
      "    rate: 15.9872%, main contributor: torvalds@linux-foundation.org\n",
      " 4 +0.792 tools (9985 patches, 400 users)\n",
      "    rate: 19.9800%, main contributor: acme@ghostprotocols.net\n",
      " 5 +0.749 include/trace (547 patches, 81 users)\n",
      "    rate: 17.7331%, main contributor: rostedt@goodmis.org\n",
      " 6 +0.716 drivers/md (4800 patches, 276 users)\n",
      "    rate: 25.6042%, main contributor: neilb@suse.de\n",
      " 7 +0.706 drivers/clk (495 patches, 81 users)\n",
      "    rate: 34.3434%, main contributor: viresh.kumar@st.com\n",
      " 8 +0.681 fs (9421 patches, 713 users)\n",
      "    rate: 18.1934%, main contributor: torvalds@linux-foundation.org\n",
      " 9 +0.638 net/batman-adv (600 patches, 21 users)\n",
      "    rate: 21.0000%, main contributor: ordex@autistici.org\n",
      "10 +0.615 fs/ceph (314 patches, 28 users)\n",
      "    rate: 25.1592%, main contributor: sage@newdream.net\n",
      "\n",
      "### 10 least difficult subsystems:\n",
      " 1 -0.963 net/tipc (573 patches, 44 users)\n",
      "    rate: 43.1065%, main contributor: p_gortmaker@yahoo.com\n",
      " 2 -0.953 drivers/addi-data (272 patches, 8 users)\n",
      "    rate: 78.3088%, main contributor: hsweeten@visionengravers.com\n",
      " 3 -0.724 drivers/ps3 (61 patches, 9 users)\n",
      "    rate: 44.2623%, main contributor: torvalds@linux-foundation.org\n",
      " 4 -0.699 arch/mn10300 (359 patches, 63 users)\n",
      "    rate: 45.4039%, main contributor: torvalds@linux-foundation.org\n",
      " 5 -0.687 net/nfc (204 patches, 26 users)\n",
      "    rate: 73.0392%, main contributor: sameo@linux.intel.com\n",
      " 6 -0.626 net/rds (185 patches, 48 users)\n",
      "    rate: 56.2162%, main contributor: agrover@groveronline.com\n",
      " 7 -0.579 arch/tile (379 patches, 56 users)\n",
      "    rate: 64.3799%, main contributor: cmetcalf@tilera.com\n",
      " 8 -0.567 sound/isa (275 patches, 40 users)\n",
      "    rate: 59.2727%, main contributor: krzysztof.h1@poczta.fm\n",
      " 9 -0.566 include/asm-x86 (1851 patches, 179 users)\n",
      "    rate: 49.3247%, main contributor: torvalds@linux-foundation.org\n",
      "10 -0.563 drivers/staging (23930 patches, 887 users)\n",
      "    rate: 48.9762%, main contributor: greg@echidna.(none)\n"
     ]
    }
   ],
   "source": [
    "linuxutils.print_subsystems_summary(difficulties, subsystems, n=10)"
   ]
  },
  {
   "cell_type": "code",
   "execution_count": 10,
   "metadata": {},
   "outputs": [
    {
     "name": "stdout",
     "output_type": "stream",
     "text": [
      "### 10 most skilled users:\n",
      " 1 +1.908 andrew.vasquez@qlogic.com from qlogic (538 patches, 4 subsystems)\n",
      "    rate: 84.5725%, main sub: drivers/scsi\n",
      " 2 +1.671 mcarlson@broadcom.com from broadcom (573 patches, 4 subsystems)\n",
      "    rate: 87.6091%, main sub: drivers/net\n",
      " 3 +1.590 mchan@broadcom.com from broadcom (609 patches, 10 subsystems)\n",
      "    rate: 84.2365%, main sub: drivers/net\n",
      " 4 +1.565 james.smart@emulex.com from emulex (253 patches, 2 subsystems)\n",
      "    rate: 93.2806%, main sub: drivers/scsi\n",
      " 5 +1.543 tixy@yxit.co.uk from yxit.co (146 patches, 1 subsystems)\n",
      "    rate: 87.6712%, main sub: arch/arm\n",
      " 6 +1.542 philipp.reisner@linbit.com from linbit (530 patches, 9 subsystems)\n",
      "    rate: 75.8491%, main sub: block\n",
      " 7 +1.504 agk@redhat.com from redhat (216 patches, 3 subsystems)\n",
      "    rate: 69.4444%, main sub: drivers/md\n",
      " 8 +1.476 rvossen@broadcom.com from broadcom (316 patches, 2 subsystems)\n",
      "    rate: 90.1899%, main sub: drivers/staging\n",
      " 9 +1.448 jdike@addtoit.com from addtoit (906 patches, 26 subsystems)\n",
      "    rate: 73.5099%, main sub: arch/um\n",
      "10 +1.443 frankyl@broadcom.com from broadcom (479 patches, 4 subsystems)\n",
      "    rate: 89.1441%, main sub: drivers/staging\n",
      "\n",
      "### 10 least skilled users:\n",
      " 1 -3.124 greg@echidna.(none) from kroah (12539 patches, 174 subsystems)\n",
      "    rate: 2.8950%, main sub: drivers/usb\n",
      " 2 -1.751 orenl@cs.columbia.edu from cs.columbia (392 patches, 21 subsystems)\n",
      "    rate: 0.5102%, main sub: include/linux\n",
      " 3 -1.605 p_gortmaker@yahoo.com from towertech (1846 patches, 148 subsystems)\n",
      "    rate: 12.8927%, main sub: net/tipc\n",
      " 4 -1.550 xiaohui.xin@intel.com from intel (254 patches, 4 subsystems)\n",
      "    rate: 0.0000%, main sub: net/core\n",
      " 5 -1.542 torvalds@linux-foundation.org from osdl (73545 patches, 322 subsystems)\n",
      "    rate: 10.0265%, main sub: mm\n",
      " 6 -1.487 w@1wt.eu from exosec (552 patches, 103 subsystems)\n",
      "    rate: 1.2681%, main sub: kernel\n",
      " 7 -1.462 ncunningham@crca.org.au from linuxmail (560 patches, 33 subsystems)\n",
      "    rate: 4.4643%, main sub: kernel\n",
      " 8 -1.368 vaurora@redhat.com from redhat (300 patches, 9 subsystems)\n",
      "    rate: 1.3333%, main sub: fs\n",
      " 9 -1.352 levinsasha928@gmail.com from gmail (966 patches, 45 subsystems)\n",
      "    rate: 6.7288%, main sub: tools\n",
      "10 -1.347 compudj@krystal.dyndns.org from polymtl (1592 patches, 86 subsystems)\n",
      "    rate: 10.9296%, main sub: kernel\n"
     ]
    }
   ],
   "source": [
    "linuxutils.print_users_summary(skills, users, n=10)"
   ]
  },
  {
   "cell_type": "markdown",
   "metadata": {},
   "source": [
    "### Histograms of skills and difficulties"
   ]
  },
  {
   "cell_type": "code",
   "execution_count": 11,
   "metadata": {},
   "outputs": [
    {
     "data": {
      "text/plain": [
       "Text(0.5,1,'Histogram of article difficulties')"
      ]
     },
     "execution_count": 11,
     "metadata": {},
     "output_type": "execute_result"
    },
    {
     "data": {
      "image/png": "[encoded data removed]",
      "text/plain": [
       "<matplotlib.figure.Figure at 0x7f2dbc51a8d0>"
      ]
     },
     "metadata": {},
     "output_type": "display_data"
    }
   ],
   "source": [
    "fig, (ax1, ax2) = plt.subplots(ncols=2, figsize=(16, 5), sharex=True)\n",
    "\n",
    "ax1.hist(skills, bins=np.linspace(-2, 2, num=50))\n",
    "ax1.set_title(\"Histogram of user skills\")\n",
    "\n",
    "ax2.hist(difficulties, bins=np.linspace(-2, 2, num=50))\n",
    "ax2.set_title(\"Histogram of article difficulties\")"
   ]
  },
  {
   "cell_type": "markdown",
   "metadata": {},
   "source": [
    "### Histograms of labels"
   ]
  },
  {
   "cell_type": "code",
   "execution_count": 12,
   "metadata": {},
   "outputs": [
    {
     "data": {
      "text/plain": [
       "Text(0.5,1,'Histogram of model estimates')"
      ]
     },
     "execution_count": 12,
     "metadata": {},
     "output_type": "execute_result"
    },
    {
     "data": {
      "image/png": "[encoded data removed]",
      "text/plain": [
       "<matplotlib.figure.Figure at 0x7f2dbc421a20>"
      ]
     },
     "metadata": {},
     "output_type": "display_data"
    }
   ],
   "source": [
    "fig, (ax1, ax2) = plt.subplots(ncols=2, figsize=(16, 5), sharex=True)\n",
    "\n",
    "ax1.hist(test[2], bins=np.linspace(0, 1, num=40))\n",
    "ax1.set_title(\"Histogram of true probabilities\")\n",
    "\n",
    "ax2.hist(probs, bins=np.linspace(0, 1, num=40))\n",
    "ax2.set_title(\"Histogram of model estimates\")"
   ]
  },
  {
   "cell_type": "code",
   "execution_count": 13,
   "metadata": {},
   "outputs": [],
   "source": [
    "saver = tf.train.Saver()\n",
    "saver.save(session, \"../trained-models/linux/basic.ckpt\")\n",
    "\n",
    "with open('../data/linux-basic-probs.txt', 'w') as f:\n",
    "    f.writelines(['{:.20f}\\n'.format(p) for p in probs[0]])"
   ]
  }
 ],
 "metadata": {
  "kernelspec": {
   "display_name": "Python 3",
   "language": "python",
   "name": "python3"
  },
  "language_info": {
   "codemirror_mode": {
    "name": "ipython",
    "version": 3
   },
   "file_extension": ".py",
   "mimetype": "text/x-python",
   "name": "python",
   "nbconvert_exporter": "python",
   "pygments_lexer": "ipython3",
   "version": "3.6.3"
  }
 },
 "nbformat": 4,
 "nbformat_minor": 2
}
