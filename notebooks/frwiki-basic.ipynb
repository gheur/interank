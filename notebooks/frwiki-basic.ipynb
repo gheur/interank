{
 "cells": [
  {
   "cell_type": "markdown",
   "metadata": {},
   "source": [
    "# French Wikipedia, basic model, $\\ell_2$-regularized\n",
    "\n",
    "- dataset: `frwiki`\n",
    "- model: _basic_\n",
    "- optimizer: _SGD with decaying learning rate_\n",
    "- regularization: $\\ell_2$\n",
    "\n",
    "The hyperparameters were found using the `trwiki-basic-hyperparams` notebook."
   ]
  },
  {
   "cell_type": "code",
   "execution_count": 1,
   "metadata": {},
   "outputs": [],
   "source": [
    "import math\n",
    "import matplotlib.pyplot as plt\n",
    "# import numpy as np\n",
    "import os\n",
    "import pickle\n",
    "# import tensorflow as tf\n",
    "\n",
    "from datetime import datetime\n",
    "# from sklearn.metrics import (\n",
    "#     precision_recall_curve, average_precision_score)\n",
    "from interank import wikiutils\n",
    "from interank.models import BasicModel\n",
    "from interank.wikidata import WikiData\n",
    "\n",
    "%matplotlib inline"
   ]
  },
  {
   "cell_type": "code",
   "execution_count": 2,
   "metadata": {},
   "outputs": [],
   "source": [
    "os.environ[\"CUDA_DEVICE_ORDER\"] = \"PCI_BUS_ID\"\n",
    "os.environ[\"CUDA_VISIBLE_DEVICES\"] = \"1\""
   ]
  },
  {
   "cell_type": "markdown",
   "metadata": {},
   "source": [
    "## Loading the dataset"
   ]
  },
  {
   "cell_type": "code",
   "execution_count": 3,
   "metadata": {},
   "outputs": [
    {
     "name": "stdout",
     "output_type": "stream",
     "text": [
      "=========\n",
      "Training set: 57984080 edits\n",
      "Test set: 4512971 edits\n",
      "Number of users: 5574732\n",
      "Number of articles: 3371084\n",
      "=========\n",
      "CPU times: user 2min 22s, sys: 10.2 s, total: 2min 32s\n",
      "Wall time: 2min 31s\n"
     ]
    }
   ],
   "source": [
    "%%time\n",
    "dataset = WikiData(\"/data/datasets/frwiki\")\n",
    "# dataset.load_bots()\n",
    "\n",
    "train_data = dataset.get_train_data()\n",
    "test_data = dataset.get_test_data()\n",
    "\n",
    "print(\"=========\")\n",
    "print(\"Training set: {} edits\".format(len(train_data[0])))\n",
    "print(\"Test set: {} edits\".format(len(test_data[0])))\n",
    "print(\"Number of users: {}\".format(dataset.n_users))\n",
    "print(\"Number of articles: {}\".format(dataset.n_articles))\n",
    "print(\"=========\")"
   ]
  },
  {
   "cell_type": "markdown",
   "metadata": {},
   "source": [
    "## Setting up the model\n",
    "\n",
    "- batch size: $5000$\n",
    "- learning rate: $0.1$\n",
    "- decay rate: $0.7$\n",
    "- regularization coeff: $2.0$\n",
    "\n",
    "The model also includes a global bias, which is not regularized and has a distinct learning rate ($10^{-4}$, decay rate $0.7$)."
   ]
  },
  {
   "cell_type": "code",
   "execution_count": 4,
   "metadata": {},
   "outputs": [
    {
     "name": "stdout",
     "output_type": "stream",
     "text": [
      "Total number of batches: 11597\n"
     ]
    }
   ],
   "source": [
    "# Reset graph to run the notebook twice in a row without error.\n",
    "tf.reset_default_graph()\n",
    "\n",
    "model = BasicModel(\n",
    "    n_users=dataset.n_users, n_articles=dataset.n_articles, global_bias=True)\n",
    "\n",
    "# Setup the optimisation procedure\n",
    "batch_size = 5000\n",
    "n_batches = math.ceil(len(train_data[0]) / batch_size)\n",
    "print(\"Total number of batches: {}\".format(n_batches))\n",
    "\n",
    "# Setup train op.\n",
    "cost = (-model.log_likelihood\n",
    "        + (2.0/n_batches) * (model.l2_difficulty + model.l2_skill))\n",
    "\n",
    "# SGD with decaying learning rate.\n",
    "learning_rate = 0.1\n",
    "batch_idx_params = tf.Variable(0, trainable=False)\n",
    "learning_rate_params = tf.train.exponential_decay(\n",
    "    learning_rate=learning_rate,\n",
    "    global_step=(batch_idx_params * batch_size),\n",
    "    decay_steps=len(train_data[0]),\n",
    "    decay_rate=0.7,\n",
    "    staircase=True\n",
    ")\n",
    "batch_idx_bias = tf.Variable(0, trainable=False)\n",
    "learning_rate_bias = tf.train.exponential_decay(\n",
    "    learning_rate=1e-4,\n",
    "    global_step=(batch_idx_bias * batch_size),\n",
    "    decay_steps=len(train_data[0]),\n",
    "    decay_rate=0.7,\n",
    "    staircase=True\n",
    ")\n",
    "train_params = tf.train.GradientDescentOptimizer(learning_rate_params).minimize(\n",
    "        cost, global_step=batch_idx_params,\n",
    "        var_list=[model.skill, model.difficulty])\n",
    "train_bias = tf.train.GradientDescentOptimizer(learning_rate_bias).minimize(\n",
    "        cost, global_step=batch_idx_bias,\n",
    "        var_list=[model.global_bias])\n",
    "train_op = tf.group(train_params, train_bias)\n",
    "\n",
    "# Summaries for Tensorboard\n",
    "auc_ph = tf.placeholder(tf.float32, name=\"auc\")\n",
    "tf.summary.scalar(\"avg_log_loss\", model.avg_log_loss)\n",
    "tf.summary.scalar(\"area_under_pr_curve\", auc_ph)\n",
    "merged = tf.summary.merge_all()\n",
    "\n",
    "logdir = '../trained-models/tmp'\n",
    "folder = \"frwiki-basic-regularized_batchsize={}_lr={}_date={}\".format(\n",
    "        batch_size, learning_rate, datetime.now().strftime(\"%Y-%m-%d-%H-%M-%S\"))\n",
    "writer = {\n",
    "    \"train\": tf.summary.FileWriter(os.path.join(logdir, folder, \"train\")),\n",
    "    \"test\": tf.summary.FileWriter(os.path.join(logdir, folder, \"test\")),\n",
    "}"
   ]
  },
  {
   "cell_type": "code",
   "execution_count": 5,
   "metadata": {},
   "outputs": [
    {
     "name": "stdout",
     "output_type": "stream",
     "text": [
      "### step 0\n",
      "train set: avg. log-loss = 0.693046, AUC = 0.126\n",
      "test set: avg. log-loss = 0.693150, AUC = 0.131\n"
     ]
    }
   ],
   "source": [
    "step = 0\n",
    "\n",
    "feed = {\n",
    "    \"train\": {\n",
    "        model.user_id: train_data[0],\n",
    "        model.article_id: train_data[1],\n",
    "        model.quality: train_data[2],\n",
    "    },\n",
    "    \"test\": {\n",
    "        model.user_id: test_data[0],\n",
    "        model.article_id: test_data[1],\n",
    "        model.quality: test_data[2],\n",
    "    }\n",
    "}\n",
    "\n",
    "def evaluate_model(step, bad_edit_threshold=0.5):\n",
    "    print(\"### step {}\".format(step))\n",
    "    for which in (\"train\", \"test\"):\n",
    "        avg_log_loss, probs = session.run(\n",
    "            [model.avg_log_loss, model.probability], feed_dict=feed[which])\n",
    "        labels = (feed[which][model.quality] < bad_edit_threshold).astype(int)\n",
    "        auc = average_precision_score(labels, 1 - probs)\n",
    "        summary = session.run(merged, feed_dict={**feed[which], auc_ph: auc})\n",
    "        writer[which].add_summary(summary, global_step=step)\n",
    "        writer[which].flush()\n",
    "        print(\"{} set: avg. log-loss = {:.6f}, AUC = {:.3f}\".format(\n",
    "                which, avg_log_loss, auc))\n",
    "\n",
    "# Initialise Tensorflow's variables\n",
    "session = tf.Session()\n",
    "session.run(tf.global_variables_initializer())\n",
    "\n",
    "# Evalute \"empty\" model.\n",
    "evaluate_model(step=step)"
   ]
  },
  {
   "cell_type": "markdown",
   "metadata": {},
   "source": [
    "## Training the model"
   ]
  },
  {
   "cell_type": "code",
   "execution_count": 6,
   "metadata": {},
   "outputs": [
    {
     "name": "stdout",
     "output_type": "stream",
     "text": [
      "### step 11597\n",
      "train set: avg. log-loss = 0.413494, AUC = 0.441\n",
      "test set: avg. log-loss = 0.405474, AUC = 0.393\n",
      "global bias: 0.892\n",
      "### step 23194\n",
      "train set: avg. log-loss = 0.409601, AUC = 0.464\n",
      "test set: avg. log-loss = 0.404237, AUC = 0.397\n",
      "global bias: 0.867\n",
      "### step 34791\n",
      "train set: avg. log-loss = 0.407679, AUC = 0.478\n",
      "test set: avg. log-loss = 0.404056, AUC = 0.398\n",
      "global bias: 0.849\n",
      "### step 46388\n",
      "train set: avg. log-loss = 0.406602, AUC = 0.487\n",
      "test set: avg. log-loss = 0.403756, AUC = 0.399\n",
      "global bias: 0.843\n",
      "### step 57985\n",
      "train set: avg. log-loss = 0.405900, AUC = 0.489\n",
      "test set: avg. log-loss = 0.403499, AUC = 0.399\n",
      "global bias: 0.839\n",
      "### step 69582\n",
      "train set: avg. log-loss = 0.405483, AUC = 0.491\n",
      "test set: avg. log-loss = 0.403459, AUC = 0.399\n",
      "global bias: 0.838\n",
      "### step 81179\n",
      "train set: avg. log-loss = 0.405212, AUC = 0.492\n",
      "test set: avg. log-loss = 0.403429, AUC = 0.399\n",
      "global bias: 0.836\n",
      "### step 92776\n",
      "train set: avg. log-loss = 0.405041, AUC = 0.492\n",
      "test set: avg. log-loss = 0.403349, AUC = 0.399\n",
      "global bias: 0.835\n",
      "### step 104373\n",
      "train set: avg. log-loss = 0.404908, AUC = 0.495\n",
      "test set: avg. log-loss = 0.403321, AUC = 0.399\n",
      "global bias: 0.838\n",
      "### step 115970\n",
      "train set: avg. log-loss = 0.404823, AUC = 0.495\n",
      "test set: avg. log-loss = 0.403343, AUC = 0.399\n",
      "global bias: 0.836\n",
      "### step 127567\n",
      "train set: avg. log-loss = 0.404764, AUC = 0.495\n",
      "test set: avg. log-loss = 0.403318, AUC = 0.399\n",
      "global bias: 0.835\n",
      "### step 139164\n",
      "train set: avg. log-loss = 0.404727, AUC = 0.496\n",
      "test set: avg. log-loss = 0.403302, AUC = 0.399\n",
      "global bias: 0.836\n",
      "### step 150761\n",
      "train set: avg. log-loss = 0.404697, AUC = 0.496\n",
      "test set: avg. log-loss = 0.403316, AUC = 0.399\n",
      "global bias: 0.836\n",
      "### step 162358\n",
      "train set: avg. log-loss = 0.404682, AUC = 0.496\n",
      "test set: avg. log-loss = 0.403326, AUC = 0.399\n",
      "global bias: 0.835\n",
      "### step 173955\n",
      "train set: avg. log-loss = 0.404668, AUC = 0.496\n",
      "test set: avg. log-loss = 0.403319, AUC = 0.399\n",
      "global bias: 0.835\n",
      "CPU times: user 3h 20min 58s, sys: 16min 28s, total: 3h 37min 26s\n",
      "Wall time: 53min 40s\n"
     ]
    }
   ],
   "source": [
    "%%time\n",
    "epochs = 15\n",
    "\n",
    "with session.as_default():\n",
    "    for i in range(epochs):\n",
    "        for batch in WikiData.minibatches(train_data, batch_size):\n",
    "            step += 1\n",
    "            # Train the model on a batch.\n",
    "            feed_dict = {\n",
    "                model.user_id: batch[0],\n",
    "                model.article_id: batch[1],\n",
    "                model.quality: batch[2],\n",
    "            }\n",
    "            _ = session.run(train_op, feed_dict=feed_dict)\n",
    "\n",
    "        evaluate_model(step=step)\n",
    "        print(\"global bias: {:.3f}\".format(model.global_bias.eval()))"
   ]
  },
  {
   "cell_type": "markdown",
   "metadata": {},
   "source": [
    "## Qualitative results"
   ]
  },
  {
   "cell_type": "code",
   "execution_count": 7,
   "metadata": {},
   "outputs": [],
   "source": [
    "with session.as_default():\n",
    "    skills = model.skill.eval()\n",
    "    difficulties = model.difficulty.eval()\n",
    "articles = dataset.get_articles()\n",
    "users = dataset.get_users()"
   ]
  },
  {
   "cell_type": "code",
   "execution_count": 8,
   "metadata": {},
   "outputs": [
    {
     "name": "stdout",
     "output_type": "stream",
     "text": [
      "### 5 most difficult articles:\n",
      " 1 +2.213 Georges Delaw (114 edits, 42 users)\n",
      "    https://tr.wikipedia.org/wiki/Georges%20Delaw\n",
      " 2 +2.173 Robertville (Nouveau-Brunswick) (93 edits, 23 users)\n",
      "    https://tr.wikipedia.org/wiki/Robertville%20%28Nouveau-Brunswick%29\n",
      " 3 +2.166 Petit-Rocher-Nord (67 edits, 13 users)\n",
      "    https://tr.wikipedia.org/wiki/Petit-Rocher-Nord\n",
      " 4 +2.160 Madran (66 edits, 15 users)\n",
      "    https://tr.wikipedia.org/wiki/Madran\n",
      " 5 +2.141 Liste des cyclones tropicaux au nom retiré par bassin (130 edits, 39 users)\n",
      "    https://tr.wikipedia.org/wiki/Liste%20des%20cyclones%20tropicaux%20au%20nom%20retir%C3%A9%20par%20bassin\n",
      "\n",
      "### 5 least difficult articles:\n",
      " 1 -2.139 Liste de traductrices et traducteurs de littérature germanique (840 edits, 123 users)\n",
      "    https://tr.wikipedia.org/wiki/Liste%20de%20traductrices%20et%20traducteurs%20de%20litt%C3%A9rature%20germanique\n",
      " 2 -1.956 Armorial de la Rhénanie-du-Nord-Westphalie (438 edits, 81 users)\n",
      "    https://tr.wikipedia.org/wiki/Armorial%20de%20la%20Rh%C3%A9nanie-du-Nord-Westphalie\n",
      " 3 -1.717 Serial Records (167 edits, 96 users)\n",
      "    https://tr.wikipedia.org/wiki/Serial%20Records\n",
      " 4 -1.624 Augusto De Luca (215 edits, 59 users)\n",
      "    https://tr.wikipedia.org/wiki/Augusto%20De%20Luca\n",
      " 5 -1.586 Liste de chansons ayant trait aux psychotropes (1087 edits, 507 users)\n",
      "    https://tr.wikipedia.org/wiki/Liste%20de%20chansons%20ayant%20trait%20aux%20psychotropes\n"
     ]
    }
   ],
   "source": [
    "wikiutils.print_articles_summary(difficulties, articles, n=5)"
   ]
  },
  {
   "cell_type": "code",
   "execution_count": 9,
   "metadata": {},
   "outputs": [
    {
     "name": "stdout",
     "output_type": "stream",
     "text": [
      "### 5 most skilled users:\n",
      " 1 +2.965 Iggy (1500 edits, 1409 articles)\n",
      "    https://tr.wikipedia.org/wiki/User:Iggy\n",
      " 2 +2.869 PimpBot (2601 edits, 2536 articles)\n",
      "    https://tr.wikipedia.org/wiki/User:PimpBot\n",
      " 3 +2.707 Japan Football (2219 edits, 1927 articles)\n",
      "    https://tr.wikipedia.org/wiki/User:Japan%20Football\n",
      " 4 +2.654 CactusBot (462 edits, 462 articles)\n",
      "    https://tr.wikipedia.org/wiki/User:CactusBot\n",
      " 5 +2.618 Tikky19 (7546 edits, 2186 articles)\n",
      "    https://tr.wikipedia.org/wiki/User:Tikky19\n",
      "\n",
      "### 5 least skilled users:\n",
      " 1 -3.312 Toto 351461 (124 edits, 117 articles)\n",
      "    https://tr.wikipedia.org/wiki/User:Toto%20351461\n",
      " 2 -2.916 - (357 edits, 357 articles)\n",
      "    https://tr.wikipedia.org/wiki/User:-\n",
      " 3 -2.856 Guy Gauthier (128 edits, 75 articles)\n",
      "    https://tr.wikipedia.org/wiki/User:Guy%20Gauthier\n",
      " 4 -2.849 - (91 edits, 61 articles)\n",
      "    https://tr.wikipedia.org/wiki/User:-\n",
      " 5 -2.821 - (113 edits, 112 articles)\n",
      "    https://tr.wikipedia.org/wiki/User:-\n"
     ]
    }
   ],
   "source": [
    "wikiutils.print_users_summary(skills, users, n=5)"
   ]
  },
  {
   "cell_type": "code",
   "execution_count": 10,
   "metadata": {},
   "outputs": [
    {
     "data": {
      "text/plain": [
       "<matplotlib.text.Text at 0x7fb44ae2e898>"
      ]
     },
     "execution_count": 10,
     "metadata": {},
     "output_type": "execute_result"
    },
    {
     "data": {
      "image/png": "[encoded data removed]",
      "text/plain": [
       "<matplotlib.figure.Figure at 0x7fb44cef9f60>"
      ]
     },
     "metadata": {},
     "output_type": "display_data"
    }
   ],
   "source": [
    "fig, (ax1, ax2) = plt.subplots(ncols=2, figsize=(16, 5), sharex=True)\n",
    "\n",
    "ax1.hist(skills, bins=np.linspace(-2, 2, num=50))\n",
    "ax1.set_title(\"Histogram of user skills\")\n",
    "\n",
    "ax2.hist(difficulties, bins=np.linspace(-2, 2, num=50))\n",
    "ax2.set_title(\"Histogram of article difficulties\")"
   ]
  },
  {
   "cell_type": "code",
   "execution_count": 11,
   "metadata": {},
   "outputs": [],
   "source": [
    "with session.as_default():\n",
    "    probs = model.probability.eval(feed_dict=feed[\"test\"])"
   ]
  },
  {
   "cell_type": "code",
   "execution_count": 12,
   "metadata": {},
   "outputs": [
    {
     "data": {
      "text/plain": [
       "<matplotlib.text.Text at 0x7fb44ab99828>"
      ]
     },
     "execution_count": 12,
     "metadata": {},
     "output_type": "execute_result"
    },
    {
     "data": {
      "image/png": "[encoded data removed]",
      "text/plain": [
       "<matplotlib.figure.Figure at 0x7fb44ada7fd0>"
      ]
     },
     "metadata": {},
     "output_type": "display_data"
    }
   ],
   "source": [
    "fig, (ax1, ax2) = plt.subplots(ncols=2, figsize=(16, 5), sharex=True)\n",
    "\n",
    "ax1.hist(test_data[2], bins=np.linspace(0, 1, num=40))\n",
    "ax1.set_title(\"Histogram of true probabilities\")\n",
    "\n",
    "ax2.hist(probs, bins=np.linspace(0, 1, num=40))\n",
    "ax2.set_title(\"Histogram of model estimates\")"
   ]
  },
  {
   "cell_type": "markdown",
   "metadata": {},
   "source": [
    "## Quantitative results"
   ]
  },
  {
   "cell_type": "code",
   "execution_count": 13,
   "metadata": {},
   "outputs": [
    {
     "name": "stdout",
     "output_type": "stream",
     "text": [
      "proportion of positive labels: 0.131\n"
     ]
    }
   ],
   "source": [
    "labels = (test_data[2] < 0.5).astype(int)\n",
    "precision, recall, _ = precision_recall_curve(labels, 1 - probs)\n",
    "auc = average_precision_score(labels, 1 - probs)\n",
    "\n",
    "print(\"proportion of positive labels: {:.3f}\".format(sum(labels) / len(labels)))"
   ]
  },
  {
   "cell_type": "code",
   "execution_count": 14,
   "metadata": {},
   "outputs": [
    {
     "data": {
      "text/plain": [
       "<matplotlib.text.Text at 0x7fb44aa31b38>"
      ]
     },
     "execution_count": 14,
     "metadata": {},
     "output_type": "execute_result"
    },
    {
     "data": {
      "image/png": "[encoded data removed]",
      "text/plain": [
       "<matplotlib.figure.Figure at 0x7fb44aa7a160>"
      ]
     },
     "metadata": {},
     "output_type": "display_data"
    }
   ],
   "source": [
    "fig, ax = plt.subplots(figsize=(7.0, 5.0))\n",
    "ax.plot(recall, precision)\n",
    "ax.set_xlim(xmin=0.0, xmax=1.0)\n",
    "ax.set_ylim(ymin=0.0, ymax=1.0)\n",
    "ax.set_ylabel(\"precision\")\n",
    "ax.set_xlabel(\"recall\")\n",
    "ax.set_title(\"Precision-recall curve (AUC: {:.3})\".format(auc))"
   ]
  },
  {
   "cell_type": "markdown",
   "metadata": {},
   "source": [
    "## Save data for plotting, etc."
   ]
  },
  {
   "cell_type": "code",
   "execution_count": 15,
   "metadata": {},
   "outputs": [
    {
     "data": {
      "text/plain": [
       "'../trained-models/frwiki/basic.ckpt'"
      ]
     },
     "execution_count": 15,
     "metadata": {},
     "output_type": "execute_result"
    }
   ],
   "source": [
    "# Save TensorFlow model\n",
    "saver = tf.train.Saver()\n",
    "saver.save(session, \"../trained-models/frwiki/basic.ckpt\")"
   ]
  },
  {
   "cell_type": "code",
   "execution_count": 16,
   "metadata": {},
   "outputs": [],
   "source": [
    "data = {\n",
    "    \"y_true\": test_data[2],\n",
    "    \"y_pred\": probs,\n",
    "}\n",
    "with open(\"../data/frwiki-basic-pred.pickle\", \"wb\") as f:\n",
    "    pickle.dump(data, f)"
   ]
  }
 ],
 "metadata": {
  "kernelspec": {
   "display_name": "Python 3",
   "language": "python",
   "name": "python3"
  },
  "language_info": {
   "codemirror_mode": {
    "name": "ipython",
    "version": 3
   },
   "file_extension": ".py",
   "mimetype": "text/x-python",
   "name": "python",
   "nbconvert_exporter": "python",
   "pygments_lexer": "ipython3",
   "version": "3.6.3"
  }
 },
 "nbformat": 4,
 "nbformat_minor": 2
}
