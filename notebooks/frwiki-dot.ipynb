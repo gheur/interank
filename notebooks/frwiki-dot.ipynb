{
 "cells": [
  {
   "cell_type": "markdown",
   "metadata": {},
   "source": [
    "# French Wikipedia, dot model, $\\ell_2$-regularized\n",
    "\n",
    "- dataset: `frwiki`\n",
    "- model: _dot_\n",
    "- optimizer: _SGD with decaying learning rate_\n",
    "- regularization: $\\ell_2$\n",
    "\n",
    "The hyperparameters were found using the `trwiki-[...]-hyperparams` notebooks."
   ]
  },
  {
   "cell_type": "code",
   "execution_count": 1,
   "metadata": {},
   "outputs": [],
   "source": [
    "import math\n",
    "import matplotlib.pyplot as plt\n",
    "import numpy as np\n",
    "import os\n",
    "import pickle\n",
    "import tensorflow as tf\n",
    "\n",
    "from datetime import datetime\n",
    "from sklearn.metrics import (\n",
    "    precision_recall_curve, average_precision_score)\n",
    "from interank import wikiutils\n",
    "from interank.models import DotModel\n",
    "from interank.wikidata import WikiData\n",
    "\n",
    "%matplotlib inline"
   ]
  },
  {
   "cell_type": "code",
   "execution_count": 2,
   "metadata": {},
   "outputs": [],
   "source": [
    "os.environ[\"CUDA_DEVICE_ORDER\"] = \"PCI_BUS_ID\"\n",
    "os.environ[\"CUDA_VISIBLE_DEVICES\"] = \"1\""
   ]
  },
  {
   "cell_type": "markdown",
   "metadata": {},
   "source": [
    "## Loading the dataset"
   ]
  },
  {
   "cell_type": "code",
   "execution_count": 3,
   "metadata": {},
   "outputs": [
    {
     "name": "stdout",
     "output_type": "stream",
     "text": [
      "=========\n",
      "Training set: 57984080 edits\n",
      "Test set: 4512971 edits\n",
      "Number of users: 5574732\n",
      "Number of articles: 3371084\n",
      "=========\n",
      "CPU times: user 1min 59s, sys: 9.68 s, total: 2min 9s\n",
      "Wall time: 2min 7s\n"
     ]
    }
   ],
   "source": [
    "%%time\n",
    "dataset = WikiData(\"/data/datasets/frwiki\")\n",
    "\n",
    "train_data = dataset.get_train_data()\n",
    "test_data = dataset.get_test_data()\n",
    "\n",
    "print(\"=========\")\n",
    "print(\"Training set: {} edits\".format(len(train_data[0])))\n",
    "print(\"Test set: {} edits\".format(len(test_data[0])))\n",
    "print(\"Number of users: {}\".format(dataset.n_users))\n",
    "print(\"Number of articles: {}\".format(dataset.n_articles))\n",
    "print(\"=========\")"
   ]
  },
  {
   "cell_type": "markdown",
   "metadata": {},
   "source": [
    "## Setting up the model\n",
    "\n",
    "- batch size: $5000$\n",
    "- latent dimensions: $20$\n",
    "- initial learning rate: $0.1$\n",
    "- decay rate: $0.7$\n",
    "- regularization for skills and difficulties: $2.0$\n",
    "- regularization for latent vectors: $40.0$\n",
    "\n",
    "The model also includes a global bias, which is not regularized and has a distinct learning rate ($10^{-4}$, decay rate $0.7$)."
   ]
  },
  {
   "cell_type": "code",
   "execution_count": 4,
   "metadata": {},
   "outputs": [
    {
     "name": "stdout",
     "output_type": "stream",
     "text": [
      "Total number of batches: 11597\n"
     ]
    }
   ],
   "source": [
    "# Reset graph to run the notebook twice in a row without error.\n",
    "tf.reset_default_graph()\n",
    "\n",
    "model = DotModel(\n",
    "    n_users=dataset.n_users, n_articles=dataset.n_articles,\n",
    "    n_dims=20, global_bias=True)\n",
    "\n",
    "# Setup the optimisation procedure\n",
    "batch_size = 5000\n",
    "n_batches = math.ceil(len(train_data[0]) / batch_size)\n",
    "print(\"Total number of batches: {}\".format(n_batches))\n",
    "\n",
    "# Setup train op.\n",
    "cost = (-model.log_likelihood\n",
    "            + (2.0/n_batches) * (model.l2_difficulty + model.l2_skill)\n",
    "            + (40.0/n_batches) * (model.l2_vec_user + model.l2_vec_article))\n",
    "\n",
    "# SGD with decaying learning rate.\n",
    "learning_rate = 0.1\n",
    "batch_idx_params = tf.Variable(0, trainable=False)\n",
    "learning_rate_params = tf.train.exponential_decay(\n",
    "    learning_rate=learning_rate,\n",
    "    global_step=(batch_idx_params * batch_size),\n",
    "    decay_steps=len(train_data[0]),\n",
    "    decay_rate=0.7,\n",
    "    staircase=True\n",
    ")\n",
    "batch_idx_bias = tf.Variable(0, trainable=False)\n",
    "learning_rate_bias = tf.train.exponential_decay(\n",
    "    learning_rate=1e-4,\n",
    "    global_step=(batch_idx_bias * batch_size),\n",
    "    decay_steps=len(train_data[0]),\n",
    "    decay_rate=0.7,\n",
    "    staircase=True\n",
    ")\n",
    "train_params = tf.train.GradientDescentOptimizer(learning_rate_params).minimize(\n",
    "        cost, global_step=batch_idx_params,\n",
    "        var_list=[model.skill, model.difficulty, model.vec_user, model.vec_article])\n",
    "train_bias = tf.train.GradientDescentOptimizer(learning_rate_bias).minimize(\n",
    "        cost, global_step=batch_idx_bias,\n",
    "        var_list=[model.global_bias])\n",
    "train_op = tf.group(train_params, train_bias)\n",
    "\n",
    "# Summaries for Tensorboard\n",
    "auc_ph = tf.placeholder(tf.float32, name=\"auc\")\n",
    "tf.summary.scalar(\"avg_log_loss\", model.avg_log_loss)\n",
    "tf.summary.scalar(\"area_under_pr_curve\", auc_ph)\n",
    "merged = tf.summary.merge_all()\n",
    "\n",
    "logdir = '../trained-models/tmp'\n",
    "folder = \"frwiki-dot-regularized_batchsize={}_lr={}_date={}\".format(\n",
    "        batch_size, learning_rate, datetime.now().strftime(\"%Y-%m-%d-%H-%M-%S\"))\n",
    "writer = {\n",
    "    \"train\": tf.summary.FileWriter(os.path.join(logdir, folder, \"train\")),\n",
    "    \"test\": tf.summary.FileWriter(os.path.join(logdir, folder, \"test\")),\n",
    "}"
   ]
  },
  {
   "cell_type": "code",
   "execution_count": 5,
   "metadata": {},
   "outputs": [
    {
     "name": "stdout",
     "output_type": "stream",
     "text": [
      "### step 0\n",
      "train set: avg. log-loss = 0.693046, AUC = 0.126\n",
      "test set: avg. log-loss = 0.693150, AUC = 0.131\n"
     ]
    }
   ],
   "source": [
    "step = 0\n",
    "\n",
    "feed = {\n",
    "    \"train\": {\n",
    "        model.user_id: train_data[0],\n",
    "        model.article_id: train_data[1],\n",
    "        model.quality: train_data[2],\n",
    "    },\n",
    "    \"test\": {\n",
    "        model.user_id: test_data[0],\n",
    "        model.article_id: test_data[1],\n",
    "        model.quality: test_data[2],\n",
    "    }\n",
    "}\n",
    "\n",
    "def evaluate_model(step, bad_edit_threshold=0.5):\n",
    "    print(\"### step {}\".format(step))\n",
    "    for which in (\"train\", \"test\"):\n",
    "        avg_log_loss, probs = session.run(\n",
    "            [model.avg_log_loss, model.probability], feed_dict=feed[which])\n",
    "        labels = (feed[which][model.quality] < bad_edit_threshold).astype(int)\n",
    "        auc = average_precision_score(labels, 1 - probs)\n",
    "        summary = session.run(merged, feed_dict={**feed[which], auc_ph: auc})\n",
    "        writer[which].add_summary(summary, global_step=step)\n",
    "        writer[which].flush()\n",
    "        print(\"{} set: avg. log-loss = {:.6f}, AUC = {:.3f}\".format(\n",
    "                which, avg_log_loss, auc))\n",
    "\n",
    "# Initialise Tensorflow's variables\n",
    "session = tf.Session()\n",
    "session.run(tf.global_variables_initializer())\n",
    "\n",
    "# Evalute \"empty\" model.\n",
    "evaluate_model(step=step)"
   ]
  },
  {
   "cell_type": "markdown",
   "metadata": {},
   "source": [
    "## Training the model"
   ]
  },
  {
   "cell_type": "code",
   "execution_count": 6,
   "metadata": {},
   "outputs": [
    {
     "name": "stdout",
     "output_type": "stream",
     "text": [
      "### step 11597\n",
      "train set: avg. log-loss = 0.410078, AUC = 0.456\n",
      "test set: avg. log-loss = 0.403356, AUC = 0.402\n",
      "global bias: 0.941\n",
      "### step 23194\n",
      "train set: avg. log-loss = 0.404999, AUC = 0.486\n",
      "test set: avg. log-loss = 0.401815, AUC = 0.409\n",
      "global bias: 0.934\n",
      "### step 34791\n",
      "train set: avg. log-loss = 0.401233, AUC = 0.508\n",
      "test set: avg. log-loss = 0.401507, AUC = 0.412\n",
      "global bias: 0.923\n",
      "### step 46388\n",
      "train set: avg. log-loss = 0.398197, AUC = 0.523\n",
      "test set: avg. log-loss = 0.401138, AUC = 0.413\n",
      "global bias: 0.921\n",
      "### step 57985\n",
      "train set: avg. log-loss = 0.395322, AUC = 0.537\n",
      "test set: avg. log-loss = 0.400842, AUC = 0.414\n",
      "global bias: 0.921\n",
      "### step 69582\n",
      "train set: avg. log-loss = 0.392660, AUC = 0.549\n",
      "test set: avg. log-loss = 0.400830, AUC = 0.413\n",
      "global bias: 0.922\n",
      "### step 81179\n",
      "train set: avg. log-loss = 0.390462, AUC = 0.560\n",
      "test set: avg. log-loss = 0.400820, AUC = 0.414\n",
      "global bias: 0.922\n",
      "### step 92776\n",
      "train set: avg. log-loss = 0.388815, AUC = 0.569\n",
      "test set: avg. log-loss = 0.400796, AUC = 0.413\n",
      "global bias: 0.922\n",
      "### step 104373\n",
      "train set: avg. log-loss = 0.387666, AUC = 0.575\n",
      "test set: avg. log-loss = 0.400795, AUC = 0.413\n",
      "global bias: 0.925\n",
      "### step 115970\n",
      "train set: avg. log-loss = 0.386875, AUC = 0.579\n",
      "test set: avg. log-loss = 0.400819, AUC = 0.413\n",
      "global bias: 0.925\n",
      "CPU times: user 5h 58min 39s, sys: 18min 3s, total: 6h 16min 43s\n",
      "Wall time: 1h 50min 56s\n"
     ]
    }
   ],
   "source": [
    "%%time\n",
    "epochs = 10\n",
    "\n",
    "with session.as_default():\n",
    "    for i in range(epochs):\n",
    "        for batch in WikiData.minibatches(train_data, batch_size):\n",
    "            step += 1\n",
    "            # Train the model on a batch.\n",
    "            feed_dict = {\n",
    "                model.user_id: batch[0],\n",
    "                model.article_id: batch[1],\n",
    "                model.quality: batch[2],\n",
    "            }\n",
    "            _ = session.run(train_op, feed_dict=feed_dict)\n",
    "\n",
    "\n",
    "        evaluate_model(step=step)\n",
    "        print(\"global bias: {:.3f}\".format(model.global_bias.eval()))"
   ]
  },
  {
   "cell_type": "markdown",
   "metadata": {},
   "source": [
    "## Qualitative results"
   ]
  },
  {
   "cell_type": "code",
   "execution_count": 7,
   "metadata": {},
   "outputs": [],
   "source": [
    "with session.as_default():\n",
    "    skills = model.skill.eval()\n",
    "    difficulties = model.difficulty.eval()\n",
    "articles = dataset.get_articles()\n",
    "users = dataset.get_users()"
   ]
  },
  {
   "cell_type": "code",
   "execution_count": 8,
   "metadata": {},
   "outputs": [
    {
     "name": "stdout",
     "output_type": "stream",
     "text": [
      "### 5 most difficult articles:\n",
      " 1 +2.194 Georges Delaw (114 edits, 42 users)\n",
      "    https://tr.wikipedia.org/wiki/Georges%20Delaw\n",
      " 2 +2.151 Henri Bouasse (132 edits, 31 users)\n",
      "    https://tr.wikipedia.org/wiki/Henri%20Bouasse\n",
      " 3 +2.145 Robertville (Nouveau-Brunswick) (93 edits, 23 users)\n",
      "    https://tr.wikipedia.org/wiki/Robertville%20%28Nouveau-Brunswick%29\n",
      " 4 +2.127 Petit-Rocher-Nord (67 edits, 13 users)\n",
      "    https://tr.wikipedia.org/wiki/Petit-Rocher-Nord\n",
      " 5 +2.121 Madran (66 edits, 15 users)\n",
      "    https://tr.wikipedia.org/wiki/Madran\n",
      "\n",
      "### 5 least difficult articles:\n",
      " 1 -2.090 Liste de traductrices et traducteurs de littérature germanique (840 edits, 123 users)\n",
      "    https://tr.wikipedia.org/wiki/Liste%20de%20traductrices%20et%20traducteurs%20de%20litt%C3%A9rature%20germanique\n",
      " 2 -1.908 Armorial de la Rhénanie-du-Nord-Westphalie (438 edits, 81 users)\n",
      "    https://tr.wikipedia.org/wiki/Armorial%20de%20la%20Rh%C3%A9nanie-du-Nord-Westphalie\n",
      " 3 -1.663 Serial Records (167 edits, 96 users)\n",
      "    https://tr.wikipedia.org/wiki/Serial%20Records\n",
      " 4 -1.566 Saison 3 de Mujeres primero (183 edits, 8 users)\n",
      "    https://tr.wikipedia.org/wiki/Saison%203%20de%20Mujeres%20primero\n",
      " 5 -1.542 Liste de chansons ayant trait aux psychotropes (1087 edits, 507 users)\n",
      "    https://tr.wikipedia.org/wiki/Liste%20de%20chansons%20ayant%20trait%20aux%20psychotropes\n"
     ]
    }
   ],
   "source": [
    "wikiutils.print_articles_summary(difficulties, articles, n=5)"
   ]
  },
  {
   "cell_type": "code",
   "execution_count": 9,
   "metadata": {},
   "outputs": [
    {
     "name": "stdout",
     "output_type": "stream",
     "text": [
      "### 5 most skilled users:\n",
      " 1 +2.931 Iggy (1500 edits, 1409 articles)\n",
      "    https://tr.wikipedia.org/wiki/User:Iggy\n",
      " 2 +2.865 PimpBot (2601 edits, 2536 articles)\n",
      "    https://tr.wikipedia.org/wiki/User:PimpBot\n",
      " 3 +2.653 Ousi (393 edits, 262 articles)\n",
      "    https://tr.wikipedia.org/wiki/User:Ousi\n",
      " 4 +2.608 Japan Football (2219 edits, 1927 articles)\n",
      "    https://tr.wikipedia.org/wiki/User:Japan%20Football\n",
      " 5 +2.600 CactusBot (462 edits, 462 articles)\n",
      "    https://tr.wikipedia.org/wiki/User:CactusBot\n",
      "\n",
      "### 5 least skilled users:\n",
      " 1 -3.332 Toto 351461 (124 edits, 117 articles)\n",
      "    https://tr.wikipedia.org/wiki/User:Toto%20351461\n",
      " 2 -2.896 - (357 edits, 357 articles)\n",
      "    https://tr.wikipedia.org/wiki/User:-\n",
      " 3 -2.881 - (91 edits, 61 articles)\n",
      "    https://tr.wikipedia.org/wiki/User:-\n",
      " 4 -2.861 - (113 edits, 112 articles)\n",
      "    https://tr.wikipedia.org/wiki/User:-\n",
      " 5 -2.845 Guy Gauthier (128 edits, 75 articles)\n",
      "    https://tr.wikipedia.org/wiki/User:Guy%20Gauthier\n"
     ]
    }
   ],
   "source": [
    "wikiutils.print_users_summary(skills, users, n=5)"
   ]
  },
  {
   "cell_type": "code",
   "execution_count": 10,
   "metadata": {},
   "outputs": [
    {
     "data": {
      "text/plain": [
       "<matplotlib.text.Text at 0x7faa50660080>"
      ]
     },
     "execution_count": 10,
     "metadata": {},
     "output_type": "execute_result"
    },
    {
     "data": {
      "image/png": "[encoded data removed]",
      "text/plain": [
       "<matplotlib.figure.Figure at 0x7faa52726f28>"
      ]
     },
     "metadata": {},
     "output_type": "display_data"
    }
   ],
   "source": [
    "fig, (ax1, ax2) = plt.subplots(ncols=2, figsize=(16, 5), sharex=True)\n",
    "\n",
    "ax1.hist(skills, bins=np.linspace(-2, 2, num=50))\n",
    "ax1.set_title(\"Histogram of user skills\")\n",
    "\n",
    "ax2.hist(difficulties, bins=np.linspace(-2, 2, num=50))\n",
    "ax2.set_title(\"Histogram of article difficulties\")"
   ]
  },
  {
   "cell_type": "code",
   "execution_count": 11,
   "metadata": {},
   "outputs": [],
   "source": [
    "with session.as_default():\n",
    "    probs = model.probability.eval(feed_dict=feed[\"test\"])"
   ]
  },
  {
   "cell_type": "code",
   "execution_count": 12,
   "metadata": {},
   "outputs": [
    {
     "data": {
      "text/plain": [
       "<matplotlib.text.Text at 0x7faa503cca20>"
      ]
     },
     "execution_count": 12,
     "metadata": {},
     "output_type": "execute_result"
    },
    {
     "data": {
      "image/png": "[encoded data removed]",
      "text/plain": [
       "<matplotlib.figure.Figure at 0x7faa505bcf28>"
      ]
     },
     "metadata": {},
     "output_type": "display_data"
    }
   ],
   "source": [
    "fig, (ax1, ax2) = plt.subplots(ncols=2, figsize=(16, 5), sharex=True)\n",
    "\n",
    "ax1.hist(test_data[2], bins=np.linspace(0, 1, num=40))\n",
    "ax1.set_title(\"Histogram of true probabilities\")\n",
    "\n",
    "ax2.hist(probs, bins=np.linspace(0, 1, num=40))\n",
    "ax2.set_title(\"Histogram of model estimates\")"
   ]
  },
  {
   "cell_type": "markdown",
   "metadata": {},
   "source": [
    "## Quantitative results"
   ]
  },
  {
   "cell_type": "code",
   "execution_count": 13,
   "metadata": {},
   "outputs": [
    {
     "name": "stdout",
     "output_type": "stream",
     "text": [
      "proportion of positive labels: 0.131\n"
     ]
    }
   ],
   "source": [
    "labels = (test_data[2] < 0.5).astype(int)\n",
    "precision, recall, _ = precision_recall_curve(labels, 1 - probs)\n",
    "auc = average_precision_score(labels, 1 - probs)\n",
    "\n",
    "print(\"proportion of positive labels: {:.3f}\".format(sum(labels) / len(labels)))"
   ]
  },
  {
   "cell_type": "code",
   "execution_count": 14,
   "metadata": {
    "scrolled": false
   },
   "outputs": [
    {
     "data": {
      "text/plain": [
       "<matplotlib.text.Text at 0x7faa5025f860>"
      ]
     },
     "execution_count": 14,
     "metadata": {},
     "output_type": "execute_result"
    },
    {
     "data": {
      "image/png": "[encoded data removed]",
      "text/plain": [
       "<matplotlib.figure.Figure at 0x7faa5029ecc0>"
      ]
     },
     "metadata": {},
     "output_type": "display_data"
    }
   ],
   "source": [
    "fig, ax = plt.subplots(figsize=(7.0, 5.0))\n",
    "ax.plot(recall, precision)\n",
    "ax.set_xlim(xmin=0.0, xmax=1.0)\n",
    "ax.set_ylim(ymin=0.0, ymax=1.0)\n",
    "ax.set_ylabel(\"precision\")\n",
    "ax.set_xlabel(\"recall\")\n",
    "ax.set_title(\"Precision-recall curve (AUC: {:.3})\".format(auc))"
   ]
  },
  {
   "cell_type": "markdown",
   "metadata": {},
   "source": [
    "## Save data for plotting, etc."
   ]
  },
  {
   "cell_type": "code",
   "execution_count": 15,
   "metadata": {},
   "outputs": [
    {
     "data": {
      "text/plain": [
       "'../trained-models/frwiki/dot.ckpt'"
      ]
     },
     "execution_count": 15,
     "metadata": {},
     "output_type": "execute_result"
    }
   ],
   "source": [
    "# Save TensorFlow model\n",
    "saver = tf.train.Saver()\n",
    "saver.save(session, \"../trained-models/frwiki/dot.ckpt\")"
   ]
  },
  {
   "cell_type": "code",
   "execution_count": 17,
   "metadata": {},
   "outputs": [],
   "source": [
    "data = {\n",
    "    \"y_true\": test_data[2],\n",
    "    \"y_pred\": probs,\n",
    "}\n",
    "with open(\"../data/frwiki-dot-pred.pickle\", \"wb\") as f:\n",
    "    pickle.dump(data, f)"
   ]
  }
 ],
 "metadata": {
  "kernelspec": {
   "display_name": "Python 3",
   "language": "python",
   "name": "python3"
  }
 },
 "nbformat": 4,
 "nbformat_minor": 2
}
