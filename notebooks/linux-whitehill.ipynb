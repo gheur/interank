{
 "cells": [
  {
   "cell_type": "markdown",
   "metadata": {},
   "source": [
    "# Fitting the basic model on Linux dataset"
   ]
  },
  {
   "cell_type": "code",
   "execution_count": 2,
   "metadata": {},
   "outputs": [],
   "source": [
    "%load_ext autoreload\n",
    "%autoreload 2\n",
    "%matplotlib inline\n",
    "\n",
    "import tensorflow as tf\n",
    "import math\n",
    "import os\n",
    "import matplotlib.pyplot as plt\n",
    "import numpy as np\n",
    "\n",
    "from interank import linuxutils\n",
    "from interank.models import WhitehillModel\n",
    "from interank.linuxdata import LinuxData\n",
    "from datetime import datetime as dt\n",
    "from sklearn.metrics import precision_score, recall_score, precision_recall_curve, average_precision_score\n",
    "\n",
    "summaries_dir = '../trained-models/log-dir/'"
   ]
  },
  {
   "cell_type": "markdown",
   "metadata": {},
   "source": [
    "## Load dataset"
   ]
  },
  {
   "cell_type": "code",
   "execution_count": 3,
   "metadata": {},
   "outputs": [
    {
     "name": "stdout",
     "output_type": "stream",
     "text": [
      "Training set: 495536 edits\n",
      "Test set: 123883 edits\n",
      "Number of users: 9672\n",
      "Number of articles: 394\n",
      "––––––––––\n",
      "CPU times: user 1.06 s, sys: 60 ms, total: 1.12 s\n",
      "Wall time: 1.08 s\n"
     ]
    }
   ],
   "source": [
    "%%time\n",
    "dataset = LinuxData(\"/data/datasets/linux\")\n",
    "\n",
    "train = dataset.get_train_data()\n",
    "test = dataset.get_test_data()\n",
    "\n",
    "print(\"Training set: {} edits\".format(len(train[0])))\n",
    "print(\"Test set: {} edits\".format(len(test[0])))\n",
    "print(\"Number of users: {}\".format(dataset.n_users))\n",
    "print(\"Number of articles: {}\".format(dataset.n_subsystems))\n",
    "print(\"––––––––––\")"
   ]
  },
  {
   "cell_type": "markdown",
   "metadata": {},
   "source": [
    "## Tensorflow configuration"
   ]
  },
  {
   "cell_type": "code",
   "execution_count": 4,
   "metadata": {},
   "outputs": [],
   "source": [
    "os.environ[\"CUDA_DEVICE_ORDER\"] = \"PCI_BUS_ID\"\n",
    "os.environ[\"CUDA_VISIBLE_DEVICES\"] = \"0\""
   ]
  },
  {
   "cell_type": "code",
   "execution_count": 5,
   "metadata": {},
   "outputs": [],
   "source": [
    "# Reset graph to run the notebook twice in a row without error \n",
    "tf.reset_default_graph()\n",
    "\n",
    "# Global bias\n",
    "global_bias = True\n",
    "\n",
    "# Basic model\n",
    "model = WhitehillModel(n_users=dataset.n_users,\n",
    "                   n_articles=dataset.n_subsystems,\n",
    "                   global_bias=global_bias)\n",
    "\n",
    "# Setup the optimisation procedure\n",
    "minibatch_size = 2000\n",
    "minibatch_size_tf = tf.Variable(minibatch_size, trainable=False)\n",
    "num_batches = math.ceil(len(train[0]) / minibatch_size)\n",
    "epochs = 50\n",
    "\n",
    "# Define the cost\n",
    "reg_coeff = 32\n",
    "cost = -model.log_likelihood + (reg_coeff / num_batches) * (model.l2_skill + model.l2_difficulty)\n",
    "\n",
    "# Setup optimiser\n",
    "learning_rate = 0.1\n",
    "\n",
    "# Decaying learning rate\n",
    "# decay_rate = 0.9\n",
    "# global_step = 0\n",
    "# Decaying learning rate\n",
    "# batch_idx = tf.Variable(0, trainable=False)\n",
    "# learning_rate_tf = tf.train.exponential_decay(\n",
    "#     learning_rate=learning_rate,\n",
    "#     global_step=(batch_idx * minibatch_size),\n",
    "#     decay_steps=len(train[0]),\n",
    "#     decay_rate=decay_rate,\n",
    "#     staircase=True\n",
    "# )\n",
    "# train_step = tf.train.GradientDescentOptimizer(learning_rate_tf).minimize(cost, global_step=batch_idx)\n",
    "\n",
    "# Adagrad\n",
    "learning_rate_tf = tf.Variable(learning_rate, dtype=tf.float32)\n",
    "train_step = tf.train.AdagradOptimizer(learning_rate_tf).minimize(cost)\n",
    "\n",
    "# Summaries for Tensorboard\n",
    "auc_ph = tf.placeholder(tf.float32, name=\"auc\")\n",
    "tf.summary.scalar(\"avg_log_loss\", model.avg_log_loss)\n",
    "tf.summary.scalar(\"area_under_pr_curve\", auc_ph)\n",
    "tf.summary.scalar(\"learning_rate\", learning_rate_tf)\n",
    "merged = tf.summary.merge_all()\n",
    "    \n",
    "log = 'tuned/optimization_{}_epochs_{}_minibatchsize_{}__learningrate_{}_date_{}'.format(\n",
    "    'Adagrad',\n",
    "    epochs,\n",
    "    minibatch_size,\n",
    "    learning_rate,\n",
    "    dt.now().strftime('%Y-%m-%d-%H-%M-%S')\n",
    ")\n",
    "train_writer = tf.summary.FileWriter(summaries_dir + '/' + log + '/train')\n",
    "test_writer = tf.summary.FileWriter(summaries_dir + '/' + log + '/test')"
   ]
  },
  {
   "cell_type": "markdown",
   "metadata": {},
   "source": [
    "## Train the model"
   ]
  },
  {
   "cell_type": "code",
   "execution_count": 6,
   "metadata": {},
   "outputs": [
    {
     "name": "stdout",
     "output_type": "stream",
     "text": [
      "Total number of batches: 248\n",
      "Epoch 0 - avg. log-loss = 1.875856, AUC = 0.333, bias = 0.0\n",
      "Epoch 1 - avg. log-loss = 0.597031, AUC = 0.504, bias = -1.1729146242141724\n",
      "Epoch 2 - avg. log-loss = 0.595758, AUC = 0.507, bias = -1.1686899662017822\n",
      "Epoch 3 - avg. log-loss = 0.595578, AUC = 0.507, bias = -1.1309354305267334\n",
      "Epoch 4 - avg. log-loss = 0.595283, AUC = 0.506, bias = -1.097846508026123\n",
      "Epoch 5 - avg. log-loss = 0.595106, AUC = 0.507, bias = -1.0648432970046997\n",
      "Epoch 6 - avg. log-loss = 0.595116, AUC = 0.507, bias = -1.0428602695465088\n",
      "Epoch 7 - avg. log-loss = 0.595211, AUC = 0.506, bias = -1.022704005241394\n",
      "Epoch 8 - avg. log-loss = 0.595600, AUC = 0.505, bias = -1.0022634267807007\n",
      "Epoch 9 - avg. log-loss = 0.595931, AUC = 0.504, bias = -0.9863356947898865\n",
      "Epoch 10 - avg. log-loss = 0.596140, AUC = 0.504, bias = -0.9734044075012207\n",
      "Epoch 11 - avg. log-loss = 0.595872, AUC = 0.504, bias = -0.9631100296974182\n",
      "Epoch 12 - avg. log-loss = 0.595932, AUC = 0.505, bias = -0.9494011402130127\n",
      "Epoch 13 - avg. log-loss = 0.596027, AUC = 0.504, bias = -0.9396862387657166\n",
      "Epoch 14 - avg. log-loss = 0.596239, AUC = 0.504, bias = -0.9296208620071411\n",
      "Epoch 15 - avg. log-loss = 0.596502, AUC = 0.503, bias = -0.9240795373916626\n",
      "Epoch 16 - avg. log-loss = 0.596524, AUC = 0.504, bias = -0.9143598079681396\n",
      "Epoch 17 - avg. log-loss = 0.596305, AUC = 0.503, bias = -0.9111739993095398\n",
      "Epoch 18 - avg. log-loss = 0.596416, AUC = 0.504, bias = -0.901928722858429\n",
      "Epoch 19 - avg. log-loss = 0.596686, AUC = 0.503, bias = -0.8963512182235718\n",
      "Epoch 20 - avg. log-loss = 0.596621, AUC = 0.504, bias = -0.8905370235443115\n",
      "Epoch 21 - avg. log-loss = 0.596588, AUC = 0.503, bias = -0.888141393661499\n",
      "Epoch 22 - avg. log-loss = 0.596749, AUC = 0.503, bias = -0.8826727867126465\n",
      "Epoch 23 - avg. log-loss = 0.596863, AUC = 0.502, bias = -0.8784460425376892\n",
      "Epoch 24 - avg. log-loss = 0.596951, AUC = 0.503, bias = -0.8726266026496887\n",
      "Epoch 25 - avg. log-loss = 0.597147, AUC = 0.502, bias = -0.8678547739982605\n",
      "Epoch 26 - avg. log-loss = 0.597032, AUC = 0.503, bias = -0.8644154071807861\n",
      "Epoch 27 - avg. log-loss = 0.597004, AUC = 0.502, bias = -0.8627569079399109\n",
      "Epoch 28 - avg. log-loss = 0.597106, AUC = 0.502, bias = -0.8578041195869446\n",
      "Epoch 29 - avg. log-loss = 0.597106, AUC = 0.502, bias = -0.8562774658203125\n",
      "Epoch 30 - avg. log-loss = 0.597376, AUC = 0.502, bias = -0.8497112393379211\n",
      "Epoch 31 - avg. log-loss = 0.597208, AUC = 0.502, bias = -0.8495430946350098\n",
      "Epoch 32 - avg. log-loss = 0.597057, AUC = 0.502, bias = -0.8476412892341614\n",
      "Epoch 33 - avg. log-loss = 0.597122, AUC = 0.502, bias = -0.8466565608978271\n",
      "Epoch 34 - avg. log-loss = 0.597226, AUC = 0.502, bias = -0.8426191210746765\n",
      "Epoch 35 - avg. log-loss = 0.597313, AUC = 0.502, bias = -0.8376514911651611\n",
      "Epoch 36 - avg. log-loss = 0.597564, AUC = 0.501, bias = -0.8357840180397034\n",
      "Epoch 37 - avg. log-loss = 0.597360, AUC = 0.502, bias = -0.8326497673988342\n",
      "Epoch 38 - avg. log-loss = 0.597215, AUC = 0.503, bias = -0.8352238535881042\n",
      "Epoch 39 - avg. log-loss = 0.597310, AUC = 0.502, bias = -0.8306987285614014\n",
      "Epoch 40 - avg. log-loss = 0.597468, AUC = 0.502, bias = -0.8275628685951233\n",
      "Epoch 41 - avg. log-loss = 0.597588, AUC = 0.501, bias = -0.8286454677581787\n",
      "Epoch 42 - avg. log-loss = 0.597484, AUC = 0.502, bias = -0.8254866003990173\n",
      "Epoch 43 - avg. log-loss = 0.597607, AUC = 0.503, bias = -0.8198480606079102\n",
      "Epoch 44 - avg. log-loss = 0.597460, AUC = 0.502, bias = -0.8217880725860596\n",
      "Epoch 45 - avg. log-loss = 0.597623, AUC = 0.502, bias = -0.819523811340332\n",
      "Epoch 46 - avg. log-loss = 0.597612, AUC = 0.502, bias = -0.8196178078651428\n",
      "Epoch 47 - avg. log-loss = 0.597717, AUC = 0.502, bias = -0.8186858296394348\n",
      "Epoch 48 - avg. log-loss = 0.597668, AUC = 0.501, bias = -0.8175078630447388\n",
      "Epoch 49 - avg. log-loss = 0.597652, AUC = 0.502, bias = -0.8190615773200989\n",
      "Epoch 50 - avg. log-loss = 0.597703, AUC = 0.502, bias = -0.8154159784317017\n",
      "CPU times: user 1min 41s, sys: 10.7 s, total: 1min 52s\n",
      "Wall time: 52.7 s\n"
     ]
    }
   ],
   "source": [
    "%%time\n",
    "feed_test = {\n",
    "    model.user_id: test[0],\n",
    "    model.article_id: test[1],\n",
    "    model.quality: test[2],\n",
    "}\n",
    "\n",
    "# Keep track of likelihood\n",
    "test_likelihood = [-np.inf]\n",
    "\n",
    "print('Total number of batches: {}'.format(num_batches))\n",
    "\n",
    "def evaluate(session, step):\n",
    "    if global_bias:\n",
    "        avg_log_loss, probs, bias = session.run(\n",
    "                [model.avg_log_loss, model.probability, model.global_bias], feed_dict=feed_test)\n",
    "    else:\n",
    "        avg_log_loss, probs = session.run(\n",
    "                [model.avg_log_loss, model.probability], feed_dict=feed_test)\n",
    "        bias = None\n",
    "        \n",
    "    \n",
    "    labels = feed_test[model.quality].astype(int)\n",
    "    auc = average_precision_score(labels, probs)\n",
    "    \n",
    "    summary = session.run(merged, feed_dict={**feed_test, auc_ph: auc})\n",
    "    \n",
    "    test_writer.add_summary(summary, global_step=step)\n",
    "    test_writer.flush()\n",
    "    \n",
    "    return avg_log_loss, auc, bias\n",
    "    \n",
    "\n",
    "# Initialise Tensorflow's variables\n",
    "session = tf.Session()\n",
    "session.run(tf.global_variables_initializer())\n",
    "\n",
    "with session.as_default():\n",
    "    step = 0\n",
    "\n",
    "    avg_log_loss, auc, bias = evaluate(session, step)\n",
    "    print('Epoch 0 - avg. log-loss = {:.6f}, AUC = {:.3f}, bias = {}'\n",
    "          .format(avg_log_loss, auc, bias))\n",
    "\n",
    "    for i in range(epochs):\n",
    "        # Train the model on minibatch\n",
    "        for j, minibatch in enumerate(LinuxData.minibatches(train, minibatch_size)):\n",
    "            step += 1\n",
    "            feed_dict = {\n",
    "                model.user_id: minibatch[0],\n",
    "                model.article_id: minibatch[1],\n",
    "                model.quality: minibatch[2],\n",
    "            }\n",
    "            _ = session.run([train_step], feed_dict=feed_dict)\n",
    "\n",
    "        avg_log_loss, auc, bias = evaluate(session, step)\n",
    "        print('Epoch {} - avg. log-loss = {:.6f}, AUC = {:.3f}, bias = {}'\n",
    "              .format(i + 1, avg_log_loss, auc, bias))"
   ]
  },
  {
   "cell_type": "markdown",
   "metadata": {},
   "source": [
    "## Evaluate"
   ]
  },
  {
   "cell_type": "code",
   "execution_count": 7,
   "metadata": {},
   "outputs": [],
   "source": [
    "with session.as_default():\n",
    "    probs = session.run(\n",
    "            [model.probability], feed_dict=feed_test)"
   ]
  },
  {
   "cell_type": "markdown",
   "metadata": {},
   "source": [
    "### Precision-recall curve"
   ]
  },
  {
   "cell_type": "code",
   "execution_count": 8,
   "metadata": {},
   "outputs": [
    {
     "data": {
      "image/png": "[encoded data removed]",
      "text/plain": [
       "<matplotlib.figure.Figure at 0x7f07cf6c9208>"
      ]
     },
     "metadata": {},
     "output_type": "display_data"
    }
   ],
   "source": [
    "target = np.array([np.float32(t) for t in test[2]]).squeeze()\n",
    "predictions = np.array(probs).squeeze()\n",
    "\n",
    "average_precision = average_precision_score(target, predictions)\n",
    "precision, recall, _ = precision_recall_curve(target, predictions)\n",
    "\n",
    "plt.plot(recall, precision)\n",
    "\n",
    "plt.grid()\n",
    "plt.xlabel('Recall')\n",
    "plt.ylabel('Precision')\n",
    "plt.title('2-class Precision-Recall curve: AUC={0:0.3f}'.format(\n",
    "          average_precision))\n",
    "plt.show()"
   ]
  },
  {
   "cell_type": "markdown",
   "metadata": {},
   "source": [
    "## Qualitative results"
   ]
  },
  {
   "cell_type": "code",
   "execution_count": 9,
   "metadata": {},
   "outputs": [],
   "source": [
    "with session.as_default():\n",
    "    skills = model.skill.eval()\n",
    "    difficulties = model.difficulty.eval()\n",
    "subsystems = dataset.get_subsystems()\n",
    "users = dataset.get_users()"
   ]
  },
  {
   "cell_type": "code",
   "execution_count": 10,
   "metadata": {},
   "outputs": [
    {
     "name": "stdout",
     "output_type": "stream",
     "text": [
      "### 10 most difficult subsystems:\n",
      " 1 +1.457 usr (796 patches, 70 users)\n",
      "    rate: 1.8844%, main contributor: fujita.tomonori@lab.ntt.co.jp\n",
      " 2 +1.194 drivers/target (1093 patches, 48 users)\n",
      "    rate: 27.4474%, main contributor: nab@linux-iscsi.org\n",
      " 3 +1.182 arch/ppc64 (288 patches, 53 users)\n",
      "    rate: 27.7778%, main contributor: paulus@samba.org\n",
      " 4 +1.180 drivers/ps3 (61 patches, 9 users)\n",
      "    rate: 44.2623%, main contributor: torvalds@linux-foundation.org\n",
      " 5 +1.129 include/acpi (311 patches, 50 users)\n",
      "    rate: 30.8682%, main contributor: lenb@kernel.org\n",
      " 6 +1.031 fs/9p (345 patches, 49 users)\n",
      "    rate: 43.1884%, main contributor: aneesh.kumar@gmail.com\n",
      " 7 +1.030 drivers/sfi (11 patches, 3 users)\n",
      "    rate: 36.3636%, main contributor: lenb@kernel.org\n",
      " 8 +1.028 include/asm-xtensa (55 patches, 17 users)\n",
      "    rate: 32.7273%, main contributor: torvalds@linux-foundation.org\n",
      " 9 +1.025 fs/bfs (78 patches, 18 users)\n",
      "    rate: 26.9231%, main contributor: torvalds@linux-foundation.org\n",
      "10 +1.025 include/asm-ppc64 (24 patches, 13 users)\n",
      "    rate: 45.8333%, main contributor: paulus@samba.org\n",
      "\n",
      "### 10 least difficult subsystems:\n",
      " 1 +0.192 drivers/staging (23930 patches, 887 users)\n",
      "    rate: 48.9762%, main contributor: greg@echidna.(none)\n",
      " 2 +0.211 arch/um (2809 patches, 140 users)\n",
      "    rate: 38.7326%, main contributor: torvalds@linux-foundation.org\n",
      " 3 +0.222 drivers/kvm (1781 patches, 55 users)\n",
      "    rate: 37.4509%, main contributor: avi@qumranet.com\n",
      " 4 +0.235 drivers/net (53099 patches, 1974 users)\n",
      "    rate: 51.3192%, main contributor: Jeffrey.t.kirsher@intel.com\n",
      " 5 +0.238 net/ipv6 (2364 patches, 308 users)\n",
      "    rate: 51.6920%, main contributor: dada1@cosmosbay.com\n",
      " 6 +0.254 drivers/hid (1835 patches, 287 users)\n",
      "    rate: 51.2807%, main contributor: benjamin.tissoires@enac.fr\n",
      " 7 +0.257 drivers/usb (20093 patches, 1221 users)\n",
      "    rate: 29.1793%, main contributor: greg@echidna.(none)\n",
      " 8 +0.264 drivers/infiniband (3125 patches, 217 users)\n",
      "    rate: 38.9760%, main contributor: rdreier@cisco.com\n",
      " 9 +0.266 include/net (3319 patches, 419 users)\n",
      "    rate: 45.2847%, main contributor: Andrei.Emeltchenko.news@gmail.com\n",
      "10 +0.271 arch/mips (6483 patches, 404 users)\n",
      "    rate: 43.0665%, main contributor: david.s.daney@gmail.com\n"
     ]
    }
   ],
   "source": [
    "linuxutils.print_subsystems_summary(1 / np.exp(difficulties), subsystems, n=10)"
   ]
  },
  {
   "cell_type": "code",
   "execution_count": 11,
   "metadata": {},
   "outputs": [
    {
     "name": "stdout",
     "output_type": "stream",
     "text": [
      "### 10 most skilled users:\n",
      " 1 +0.882 knan-lkml@anduin.net from anduin (78 patches, 3 subsystems)\n",
      "    rate: 96.1538%, main sub: drivers/ata\n",
      " 2 +0.867 per.liden@ericsson.com from ericsson (51 patches, 2 subsystems)\n",
      "    rate: 98.0392%, main sub: net/tipc\n",
      " 3 +0.824 james.smart@emulex.com from emulex (253 patches, 2 subsystems)\n",
      "    rate: 93.2806%, main sub: drivers/scsi\n",
      " 4 +0.815 cmetcalf@tilera.com from tilera (285 patches, 18 subsystems)\n",
      "    rate: 80.7018%, main sub: arch/tile\n",
      " 5 +0.794 christof.schmit@de.ibm.com from de.ibm (90 patches, 3 subsystems)\n",
      "    rate: 95.5556%, main sub: drivers/s390\n",
      " 6 +0.788 andrew.vasquez@qlogic.com from qlogic (538 patches, 4 subsystems)\n",
      "    rate: 84.5725%, main sub: drivers/scsi\n",
      " 7 +0.729 tixy@yxit.co.uk from yxit.co (146 patches, 1 subsystems)\n",
      "    rate: 87.6712%, main sub: arch/arm\n",
      " 8 +0.717 madhu.iyengar@qlogic.com from qlogic (111 patches, 2 subsystems)\n",
      "    rate: 86.4865%, main sub: drivers/scsi\n",
      " 9 +0.683 gxt@mprc.pku.edu.cn from mprc.pku.edu (61 patches, 5 subsystems)\n",
      "    rate: 83.6066%, main sub: arch/unicore32\n",
      "10 +0.665 kernel1@cyberdogtech.com from rpi (43 patches, 14 subsystems)\n",
      "    rate: 90.6977%, main sub: Documentation\n",
      "\n",
      "### 10 least skilled users:\n",
      " 1 -0.992 orenl@cs.columbia.edu from cs.columbia (392 patches, 21 subsystems)\n",
      "    rate: 0.5102%, main sub: include/linux\n",
      " 2 -0.899 xiaohui.xin@intel.com from intel (254 patches, 4 subsystems)\n",
      "    rate: 0.0000%, main sub: net/core\n",
      " 3 -0.879 vaurora@redhat.com from redhat (300 patches, 9 subsystems)\n",
      "    rate: 1.3333%, main sub: fs\n",
      " 4 -0.849 ncunningham@crca.org.au from linuxmail (560 patches, 33 subsystems)\n",
      "    rate: 4.4643%, main sub: kernel\n",
      " 5 -0.778 levinsasha928@gmail.com from gmail (966 patches, 45 subsystems)\n",
      "    rate: 6.7288%, main sub: tools\n",
      " 6 -0.746 greg@echidna.(none) from kroah (12539 patches, 174 subsystems)\n",
      "    rate: 2.8950%, main sub: drivers/usb\n",
      " 7 -0.744 ryov@valinux.co.jp from valinux.co (145 patches, 6 subsystems)\n",
      "    rate: 0.0000%, main sub: drivers/md\n",
      " 8 -0.740 asias.hejun@gmail.com from gmail (267 patches, 2 subsystems)\n",
      "    rate: 0.3745%, main sub: tools\n",
      " 9 -0.709 w@1wt.eu from exosec (552 patches, 103 subsystems)\n",
      "    rate: 1.2681%, main sub: kernel\n",
      "10 -0.673 dedekind@infradead.org from infradead (357 patches, 29 subsystems)\n",
      "    rate: 7.2829%, main sub: fs/ubifs\n"
     ]
    }
   ],
   "source": [
    "linuxutils.print_users_summary(skills, users, n=10)"
   ]
  },
  {
   "cell_type": "markdown",
   "metadata": {},
   "source": [
    "### Histograms of skills and difficulties"
   ]
  },
  {
   "cell_type": "code",
   "execution_count": 12,
   "metadata": {},
   "outputs": [
    {
     "data": {
      "text/plain": [
       "Text(0.5,1,'Histogram of article difficulties')"
      ]
     },
     "execution_count": 12,
     "metadata": {},
     "output_type": "execute_result"
    },
    {
     "data": {
      "image/png": "[encoded data removed]",
      "text/plain": [
       "<matplotlib.figure.Figure at 0x7f0780057cc0>"
      ]
     },
     "metadata": {},
     "output_type": "display_data"
    }
   ],
   "source": [
    "fig, (ax1, ax2) = plt.subplots(ncols=2, figsize=(16, 5), sharex=True)\n",
    "\n",
    "ax1.hist(skills, bins=np.linspace(-2, 2, num=50))\n",
    "ax1.set_title(\"Histogram of user skills\")\n",
    "\n",
    "ax2.hist(difficulties, bins=np.linspace(-2, 2, num=50))\n",
    "ax2.set_title(\"Histogram of article difficulties\")"
   ]
  },
  {
   "cell_type": "markdown",
   "metadata": {},
   "source": [
    "### Histograms of labels"
   ]
  },
  {
   "cell_type": "code",
   "execution_count": 13,
   "metadata": {},
   "outputs": [
    {
     "data": {
      "text/plain": [
       "Text(0.5,1,'Histogram of model estimates')"
      ]
     },
     "execution_count": 13,
     "metadata": {},
     "output_type": "execute_result"
    },
    {
     "data": {
      "image/png": "[encoded data removed]",
      "text/plain": [
       "<matplotlib.figure.Figure at 0x7f07607d42e8>"
      ]
     },
     "metadata": {},
     "output_type": "display_data"
    }
   ],
   "source": [
    "fig, (ax1, ax2) = plt.subplots(ncols=2, figsize=(16, 5), sharex=True)\n",
    "\n",
    "ax1.hist(test[2], bins=np.linspace(0, 1, num=40))\n",
    "ax1.set_title(\"Histogram of true probabilities\")\n",
    "\n",
    "ax2.hist(probs, bins=np.linspace(0, 1, num=40))\n",
    "ax2.set_title(\"Histogram of model estimates\")"
   ]
  },
  {
   "cell_type": "code",
   "execution_count": 14,
   "metadata": {},
   "outputs": [],
   "source": [
    "saver = tf.train.Saver()\n",
    "saver.save(session, \"../trained-models/linux/whitehill.ckpt\")\n",
    "\n",
    "with open('../data/linux-whitehill-probs.txt', 'w') as f:\n",
    "    f.writelines(['{:.20f}\\n'.format(p) for p in probs[0]])"
   ]
  }
 ],
 "metadata": {
  "kernelspec": {
   "display_name": "Python 3",
   "language": "python",
   "name": "python3"
  },
  "language_info": {
   "codemirror_mode": {
    "name": "ipython",
    "version": 3
   },
   "file_extension": ".py",
   "mimetype": "text/x-python",
   "name": "python",
   "nbconvert_exporter": "python",
   "pygments_lexer": "ipython3",
   "version": "3.6.3"
  }
 },
 "nbformat": 4,
 "nbformat_minor": 2
}
