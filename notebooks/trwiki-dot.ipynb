{
 "cells": [
  {
   "cell_type": "markdown",
   "metadata": {},
   "source": [
    "# Turkish Wikipedia, dot model, $\\ell_2$-regularized\n",
    "\n",
    "- dataset: `trwiki`\n",
    "- model: _dot_\n",
    "- optimizer: _SGD with decaying learning rate_\n",
    "- regularization: $\\ell_2$\n",
    "\n",
    "The hyperparameters were found using the `trwiki-[...]-hyperparams` notebooks."
   ]
  },
  {
   "cell_type": "code",
   "execution_count": 1,
   "metadata": {},
   "outputs": [],
   "source": [
    "import math\n",
    "import matplotlib.pyplot as plt\n",
    "import numpy as np\n",
    "import os\n",
    "import pickle\n",
    "import tensorflow as tf\n",
    "\n",
    "from datetime import datetime\n",
    "from sklearn.metrics import (\n",
    "    precision_recall_curve, average_precision_score)\n",
    "from interank import wikiutils\n",
    "from interank.models import DotModel\n",
    "from interank.wikidata import WikiData\n",
    "\n",
    "%matplotlib inline"
   ]
  },
  {
   "cell_type": "code",
   "execution_count": 2,
   "metadata": {},
   "outputs": [],
   "source": [
    "os.environ[\"CUDA_DEVICE_ORDER\"] = \"PCI_BUS_ID\"\n",
    "os.environ[\"CUDA_VISIBLE_DEVICES\"] = \"1\""
   ]
  },
  {
   "cell_type": "markdown",
   "metadata": {},
   "source": [
    "## Loading the dataset"
   ]
  },
  {
   "cell_type": "code",
   "execution_count": 3,
   "metadata": {},
   "outputs": [
    {
     "name": "stdout",
     "output_type": "stream",
     "text": [
      "=========\n",
      "Training set: 7882291 edits\n",
      "Test set: 532087 edits\n",
      "Number of users: 1393027\n",
      "Number of articles: 541476\n",
      "=========\n",
      "CPU times: user 18.6 s, sys: 1.2 s, total: 19.8 s\n",
      "Wall time: 19.1 s\n"
     ]
    }
   ],
   "source": [
    "%%time\n",
    "dataset = WikiData(\"/data/datasets/trwiki\")\n",
    "\n",
    "train_data = dataset.get_train_data()\n",
    "test_data = dataset.get_test_data()\n",
    "\n",
    "print(\"=========\")\n",
    "print(\"Training set: {} edits\".format(len(train_data[0])))\n",
    "print(\"Test set: {} edits\".format(len(test_data[0])))\n",
    "print(\"Number of users: {}\".format(dataset.n_users))\n",
    "print(\"Number of articles: {}\".format(dataset.n_articles))\n",
    "print(\"=========\")"
   ]
  },
  {
   "cell_type": "markdown",
   "metadata": {},
   "source": [
    "## Setting up the model\n",
    "\n",
    "- batch size: $5000$\n",
    "- latent dimensions: $20$\n",
    "- initial learning rate: $0.1$\n",
    "- decay rate: $0.9$\n",
    "- regularization for skills and difficulties: $4.0$\n",
    "- regularization for latent vectors: $160.0$\n",
    "\n",
    "The model also includes a global bias, which is not regularized and has a distinct learning rate ($10^{-4}$, decay rate $0.7$)."
   ]
  },
  {
   "cell_type": "code",
   "execution_count": 4,
   "metadata": {},
   "outputs": [
    {
     "name": "stdout",
     "output_type": "stream",
     "text": [
      "Total number of batches: 1577\n"
     ]
    }
   ],
   "source": [
    "# Reset graph to run the notebook twice in a row without error.\n",
    "tf.reset_default_graph()\n",
    "\n",
    "model = DotModel(\n",
    "    n_users=dataset.n_users, n_articles=dataset.n_articles,\n",
    "    n_dims=20, global_bias=True)\n",
    "\n",
    "# Setup the optimisation procedure\n",
    "batch_size = 5000\n",
    "n_batches = math.ceil(len(train_data[0]) / batch_size)\n",
    "print(\"Total number of batches: {}\".format(n_batches))\n",
    "\n",
    "# Setup train op.\n",
    "cost = (-model.log_likelihood\n",
    "            + (4.0/n_batches) * (model.l2_difficulty + model.l2_skill)\n",
    "            + (160.0/n_batches) * (model.l2_vec_user + model.l2_vec_article))\n",
    "\n",
    "# SGD with decaying learning rate.\n",
    "learning_rate = 0.1\n",
    "batch_idx_params = tf.Variable(0, trainable=False)\n",
    "learning_rate_params = tf.train.exponential_decay(\n",
    "    learning_rate=learning_rate,\n",
    "    global_step=(batch_idx_params * batch_size),\n",
    "    decay_steps=len(train_data[0]),\n",
    "    decay_rate=0.9,\n",
    "    staircase=True\n",
    ")\n",
    "batch_idx_bias = tf.Variable(0, trainable=False)\n",
    "learning_rate_bias = tf.train.exponential_decay(\n",
    "    learning_rate=1e-4,\n",
    "    global_step=(batch_idx_bias * batch_size),\n",
    "    decay_steps=len(train_data[0]),\n",
    "    decay_rate=0.9,\n",
    "    staircase=True\n",
    ")\n",
    "train_params = tf.train.GradientDescentOptimizer(learning_rate_params).minimize(\n",
    "        cost, global_step=batch_idx_params,\n",
    "        var_list=[model.skill, model.difficulty, model.vec_user, model.vec_article])\n",
    "train_bias = tf.train.GradientDescentOptimizer(learning_rate_bias).minimize(\n",
    "        cost, global_step=batch_idx_bias,\n",
    "        var_list=[model.global_bias])\n",
    "train_op = tf.group(train_params, train_bias)\n",
    "\n",
    "# Summaries for Tensorboard\n",
    "auc_ph = tf.placeholder(tf.float32, name=\"auc\")\n",
    "tf.summary.scalar(\"avg_log_loss\", model.avg_log_loss)\n",
    "tf.summary.scalar(\"area_under_pr_curve\", auc_ph)\n",
    "merged = tf.summary.merge_all()\n",
    "\n",
    "logdir = '../trained-models/tmp'\n",
    "folder = \"trwiki-dot-regularized_batchsize={}_lr={}_date={}\".format(\n",
    "        batch_size, learning_rate, datetime.now().strftime(\"%Y-%m-%d-%H-%M-%S\"))\n",
    "writer = {\n",
    "    \"train\": tf.summary.FileWriter(os.path.join(logdir, folder, \"train\")),\n",
    "    \"test\": tf.summary.FileWriter(os.path.join(logdir, folder, \"test\")),\n",
    "}"
   ]
  },
  {
   "cell_type": "code",
   "execution_count": 5,
   "metadata": {},
   "outputs": [
    {
     "name": "stdout",
     "output_type": "stream",
     "text": [
      "### step 0\n",
      "train set: avg. log-loss = 0.693147, AUC = 0.221\n",
      "test set: avg. log-loss = 0.693147, AUC = 0.168\n"
     ]
    }
   ],
   "source": [
    "step = 0\n",
    "\n",
    "feed = {\n",
    "    \"train\": {\n",
    "        model.user_id: train_data[0],\n",
    "        model.article_id: train_data[1],\n",
    "        model.quality: train_data[2],\n",
    "    },\n",
    "    \"test\": {\n",
    "        model.user_id: test_data[0],\n",
    "        model.article_id: test_data[1],\n",
    "        model.quality: test_data[2],\n",
    "    }\n",
    "}\n",
    "\n",
    "def evaluate_model(step, bad_edit_threshold=0.5):\n",
    "    print(\"### step {}\".format(step))\n",
    "    for which in (\"train\", \"test\"):\n",
    "        avg_log_loss, probs = session.run(\n",
    "            [model.avg_log_loss, model.probability], feed_dict=feed[which])\n",
    "        labels = (feed[which][model.quality] < bad_edit_threshold).astype(int)\n",
    "        auc = average_precision_score(labels, 1 - probs)\n",
    "        summary = session.run(merged, feed_dict={**feed[which], auc_ph: auc})\n",
    "        writer[which].add_summary(summary, global_step=step)\n",
    "        writer[which].flush()\n",
    "        print(\"{} set: avg. log-loss = {:.6f}, AUC = {:.3f}\".format(\n",
    "                which, avg_log_loss, auc))\n",
    "\n",
    "# Initialise Tensorflow's variables\n",
    "session = tf.Session()\n",
    "session.run(tf.global_variables_initializer())\n",
    "\n",
    "# Evalute \"empty\" model.\n",
    "evaluate_model(step=step)"
   ]
  },
  {
   "cell_type": "markdown",
   "metadata": {},
   "source": [
    "## Training the model"
   ]
  },
  {
   "cell_type": "code",
   "execution_count": 6,
   "metadata": {},
   "outputs": [
    {
     "name": "stdout",
     "output_type": "stream",
     "text": [
      "### step 1577\n",
      "train set: avg. log-loss = 0.512317, AUC = 0.566\n",
      "test set: avg. log-loss = 0.434293, AUC = 0.485\n",
      "global bias: 0.334\n",
      "### step 3154\n",
      "train set: avg. log-loss = 0.507394, AUC = 0.591\n",
      "test set: avg. log-loss = 0.429260, AUC = 0.492\n",
      "global bias: 0.318\n",
      "### step 4731\n",
      "train set: avg. log-loss = 0.504841, AUC = 0.605\n",
      "test set: avg. log-loss = 0.430574, AUC = 0.493\n",
      "global bias: 0.313\n",
      "### step 6308\n",
      "train set: avg. log-loss = 0.503671, AUC = 0.611\n",
      "test set: avg. log-loss = 0.429231, AUC = 0.495\n",
      "global bias: 0.308\n",
      "### step 7885\n",
      "train set: avg. log-loss = 0.502891, AUC = 0.616\n",
      "test set: avg. log-loss = 0.433571, AUC = 0.492\n",
      "global bias: 0.313\n",
      "### step 9462\n",
      "train set: avg. log-loss = 0.502334, AUC = 0.617\n",
      "test set: avg. log-loss = 0.428044, AUC = 0.495\n",
      "global bias: 0.305\n",
      "### step 11039\n",
      "train set: avg. log-loss = 0.502021, AUC = 0.620\n",
      "test set: avg. log-loss = 0.431837, AUC = 0.493\n",
      "global bias: 0.302\n",
      "### step 12616\n",
      "train set: avg. log-loss = 0.501697, AUC = 0.622\n",
      "test set: avg. log-loss = 0.430595, AUC = 0.494\n",
      "global bias: 0.305\n",
      "### step 14193\n",
      "train set: avg. log-loss = 0.501534, AUC = 0.621\n",
      "test set: avg. log-loss = 0.429994, AUC = 0.495\n",
      "global bias: 0.304\n",
      "### step 15770\n",
      "train set: avg. log-loss = 0.501276, AUC = 0.625\n",
      "test set: avg. log-loss = 0.430054, AUC = 0.495\n",
      "global bias: 0.303\n",
      "### step 17347\n",
      "train set: avg. log-loss = 0.501261, AUC = 0.624\n",
      "test set: avg. log-loss = 0.432211, AUC = 0.494\n",
      "global bias: 0.302\n",
      "### step 18924\n",
      "train set: avg. log-loss = 0.501189, AUC = 0.627\n",
      "test set: avg. log-loss = 0.433991, AUC = 0.494\n",
      "global bias: 0.300\n",
      "### step 20501\n",
      "train set: avg. log-loss = 0.501007, AUC = 0.623\n",
      "test set: avg. log-loss = 0.431100, AUC = 0.495\n",
      "global bias: 0.301\n",
      "### step 22078\n",
      "train set: avg. log-loss = 0.500959, AUC = 0.627\n",
      "test set: avg. log-loss = 0.428901, AUC = 0.495\n",
      "global bias: 0.302\n",
      "### step 23655\n",
      "train set: avg. log-loss = 0.500959, AUC = 0.624\n",
      "test set: avg. log-loss = 0.429746, AUC = 0.496\n",
      "global bias: 0.304\n",
      "CPU times: user 7min 14s, sys: 3min 4s, total: 10min 18s\n",
      "Wall time: 4min 20s\n"
     ]
    }
   ],
   "source": [
    "%%time\n",
    "epochs = 15\n",
    "\n",
    "with session.as_default():\n",
    "    for i in range(epochs):\n",
    "        for batch in WikiData.minibatches(train_data, batch_size):\n",
    "            step += 1\n",
    "            # Train the model on a batch.\n",
    "            feed_dict = {\n",
    "                model.user_id: batch[0],\n",
    "                model.article_id: batch[1],\n",
    "                model.quality: batch[2],\n",
    "            }\n",
    "            _ = session.run(train_op, feed_dict=feed_dict)\n",
    "\n",
    "\n",
    "        evaluate_model(step=step)\n",
    "        print(\"global bias: {:.3f}\".format(model.global_bias.eval()))"
   ]
  },
  {
   "cell_type": "markdown",
   "metadata": {},
   "source": [
    "## Qualitative results"
   ]
  },
  {
   "cell_type": "code",
   "execution_count": 7,
   "metadata": {},
   "outputs": [],
   "source": [
    "with session.as_default():\n",
    "    skills = model.skill.eval()\n",
    "    difficulties = model.difficulty.eval()\n",
    "articles = dataset.get_articles()\n",
    "users = dataset.get_users()"
   ]
  },
  {
   "cell_type": "code",
   "execution_count": 8,
   "metadata": {},
   "outputs": [
    {
     "name": "stdout",
     "output_type": "stream",
     "text": [
      "### 5 most difficult articles:\n",
      " 1 +1.628 Vladimir Lenin bibliyografyasÄ± (1133 edits, 54 users)\n",
      "    https://tr.wikipedia.org/wiki/Vladimir%20Lenin%20bibliyografyas%C3%84%C2%B1\n",
      " 2 +1.240 Mehmet GÃ¼leryÃ¼z (445 edits, 38 users)\n",
      "    https://tr.wikipedia.org/wiki/Mehmet%20G%C3%83%C2%BClery%C3%83%C2%BCz\n",
      " 3 +1.217 The Texas Chainsaw Massacre karakterleri listesi (344 edits, 56 users)\n",
      "    https://tr.wikipedia.org/wiki/The%20Texas%20Chainsaw%20Massacre%20karakterleri%20listesi\n",
      " 4 +1.188 Buffy the Vampire Slayer yan karakterleri listesi (174 edits, 37 users)\n",
      "    https://tr.wikipedia.org/wiki/Buffy%20the%20Vampire%20Slayer%20yan%20karakterleri%20listesi\n",
      " 5 +1.176 Voleybolda Olimpiyat madalyasÄ± kazananlar listesi (138 edits, 26 users)\n",
      "    https://tr.wikipedia.org/wiki/Voleybolda%20Olimpiyat%20madalyas%C3%84%C2%B1%20kazananlar%20listesi\n",
      "\n",
      "### 5 least difficult articles:\n",
      " 1 -1.769 Augusto De Luca (148 edits, 26 users)\n",
      "    https://tr.wikipedia.org/wiki/Augusto%20De%20Luca\n",
      " 2 -1.509 Nha Trang (105 edits, 28 users)\n",
      "    https://tr.wikipedia.org/wiki/Nha%20Trang\n",
      " 3 -1.441 ZichyÃºjfalu (222 edits, 22 users)\n",
      "    https://tr.wikipedia.org/wiki/Zichy%C3%83%C2%BAjfalu\n",
      " 4 -1.390 Kral Pop TV Top 20 (522 edits, 258 users)\n",
      "    https://tr.wikipedia.org/wiki/Kral%20Pop%20TV%20Top%2020\n",
      " 5 -1.369 Anime karakterleri listesi (324 edits, 164 users)\n",
      "    https://tr.wikipedia.org/wiki/Anime%20karakterleri%20listesi\n"
     ]
    }
   ],
   "source": [
    "wikiutils.print_articles_summary(difficulties, articles, n=5)"
   ]
  },
  {
   "cell_type": "code",
   "execution_count": 9,
   "metadata": {},
   "outputs": [
    {
     "name": "stdout",
     "output_type": "stream",
     "text": [
      "### 5 most skilled users:\n",
      " 1 +2.848 Rotlink (790 edits, 723 articles)\n",
      "    https://tr.wikipedia.org/wiki/User:Rotlink\n",
      " 2 +2.702 MerlLinkBot (1085 edits, 1055 articles)\n",
      "    https://tr.wikipedia.org/wiki/User:MerlLinkBot\n",
      " 3 +2.637 Fabian RRRR (272 edits, 258 articles)\n",
      "    https://tr.wikipedia.org/wiki/User:Fabian%20RRRR\n",
      " 4 +2.615 Nihat Halici (5503 edits, 2034 articles)\n",
      "    https://tr.wikipedia.org/wiki/User:Nihat%20Halici\n",
      " 5 +2.602 Japan Football (6828 edits, 5217 articles)\n",
      "    https://tr.wikipedia.org/wiki/User:Japan%20Football\n",
      "\n",
      "### 5 least skilled users:\n",
      " 1 -2.384 - (221 edits, 221 articles)\n",
      "    https://tr.wikipedia.org/wiki/User:-\n",
      " 2 -2.369 - (154 edits, 152 articles)\n",
      "    https://tr.wikipedia.org/wiki/User:-\n",
      " 3 -2.198 - (218 edits, 107 articles)\n",
      "    https://tr.wikipedia.org/wiki/User:-\n",
      " 4 -2.081 - (73 edits, 66 articles)\n",
      "    https://tr.wikipedia.org/wiki/User:-\n",
      " 5 -2.054 - (83 edits, 72 articles)\n",
      "    https://tr.wikipedia.org/wiki/User:-\n"
     ]
    }
   ],
   "source": [
    "wikiutils.print_users_summary(skills, users, n=5)"
   ]
  },
  {
   "cell_type": "code",
   "execution_count": 10,
   "metadata": {},
   "outputs": [
    {
     "data": {
      "text/plain": [
       "Text(0.5,1,'Histogram of article difficulties')"
      ]
     },
     "execution_count": 10,
     "metadata": {},
     "output_type": "execute_result"
    },
    {
     "data": {
      "image/png": "[encoded data removed]",
      "text/plain": [
       "<matplotlib.figure.Figure at 0x7f1301970a90>"
      ]
     },
     "metadata": {},
     "output_type": "display_data"
    }
   ],
   "source": [
    "fig, (ax1, ax2) = plt.subplots(ncols=2, figsize=(16, 5), sharex=True)\n",
    "\n",
    "ax1.hist(skills, bins=np.linspace(-2, 2, num=50))\n",
    "ax1.set_title(\"Histogram of user skills\")\n",
    "\n",
    "ax2.hist(difficulties, bins=np.linspace(-2, 2, num=50))\n",
    "ax2.set_title(\"Histogram of article difficulties\")"
   ]
  },
  {
   "cell_type": "code",
   "execution_count": 11,
   "metadata": {},
   "outputs": [],
   "source": [
    "with session.as_default():\n",
    "    probs = model.probability.eval(feed_dict=feed[\"test\"])"
   ]
  },
  {
   "cell_type": "code",
   "execution_count": 12,
   "metadata": {},
   "outputs": [
    {
     "data": {
      "text/plain": [
       "Text(0.5,1,'Histogram of model estimates')"
      ]
     },
     "execution_count": 12,
     "metadata": {},
     "output_type": "execute_result"
    },
    {
     "data": {
      "image/png": "[encoded data removed]",
      "text/plain": [
       "<matplotlib.figure.Figure at 0x7f12ff8aad30>"
      ]
     },
     "metadata": {},
     "output_type": "display_data"
    }
   ],
   "source": [
    "fig, (ax1, ax2) = plt.subplots(ncols=2, figsize=(16, 5), sharex=True)\n",
    "\n",
    "ax1.hist(test_data[2], bins=np.linspace(0, 1, num=40))\n",
    "ax1.set_title(\"Histogram of true probabilities\")\n",
    "\n",
    "ax2.hist(probs, bins=np.linspace(0, 1, num=40))\n",
    "ax2.set_title(\"Histogram of model estimates\")"
   ]
  },
  {
   "cell_type": "markdown",
   "metadata": {},
   "source": [
    "## Quantitative results"
   ]
  },
  {
   "cell_type": "code",
   "execution_count": 16,
   "metadata": {},
   "outputs": [
    {
     "name": "stdout",
     "output_type": "stream",
     "text": [
      "0.38113349128827756\n",
      "proportion of positive labels: 0.168\n"
     ]
    }
   ],
   "source": [
    "def avg_log_loss(y_true, y_pred):\n",
    "    log_loss = - (y_true * np.log(y_pred)\n",
    "            + (1 - y_true) * np.log(1 - y_pred))\n",
    "    return log_loss.mean()\n",
    "\n",
    "\n",
    "labels = (test_data[2] < 0.5).astype(int)\n",
    "precision, recall, _ = precision_recall_curve(labels, 1 - probs)\n",
    "auc = average_precision_score(labels, 1 - probs)\n",
    "\n",
    "log_loss = avg_log_loss(labels, 1 - probs)\n",
    "print(log_loss)\n",
    "\n",
    "print(\"proportion of positive labels: {:.3f}\".format(sum(labels) / len(labels)))"
   ]
  },
  {
   "cell_type": "code",
   "execution_count": 15,
   "metadata": {},
   "outputs": [
    {
     "data": {
      "text/plain": [
       "Text(0.5,1,'Precision-recall curve (AUC: 0.496)')"
      ]
     },
     "execution_count": 15,
     "metadata": {},
     "output_type": "execute_result"
    },
    {
     "data": {
      "image/png": "[encoded data removed]",
      "text/plain": [
       "<matplotlib.figure.Figure at 0x7f12ff74ed30>"
      ]
     },
     "metadata": {},
     "output_type": "display_data"
    }
   ],
   "source": [
    "# New\n",
    "\n",
    "fig, ax = plt.subplots(figsize=(7.0, 5.0))\n",
    "ax.plot(recall, precision)\n",
    "ax.set_xlim(xmin=0.0, xmax=1.0)\n",
    "ax.set_ylim(ymin=0.0, ymax=1.0)\n",
    "ax.set_ylabel(\"precision\")\n",
    "ax.set_xlabel(\"recall\")\n",
    "ax.set_title(\"Precision-recall curve (AUC: {:.3})\".format(auc))"
   ]
  },
  {
   "cell_type": "code",
   "execution_count": 14,
   "metadata": {},
   "outputs": [
    {
     "data": {
      "text/plain": [
       "<matplotlib.text.Text at 0x7efad41d7a58>"
      ]
     },
     "execution_count": 14,
     "metadata": {},
     "output_type": "execute_result"
    },
    {
     "data": {
      "image/png": "[encoded data removed]",
      "text/plain": [
       "<matplotlib.figure.Figure at 0x7efad427c4a8>"
      ]
     },
     "metadata": {},
     "output_type": "display_data"
    }
   ],
   "source": [
    "# Old\n",
    "\n",
    "fig, ax = plt.subplots(figsize=(7.0, 5.0))\n",
    "ax.plot(recall, precision)\n",
    "ax.set_xlim(xmin=0.0, xmax=1.0)\n",
    "ax.set_ylim(ymin=0.0, ymax=1.0)\n",
    "ax.set_ylabel(\"precision\")\n",
    "ax.set_xlabel(\"recall\")\n",
    "ax.set_title(\"Precision-recall curve (AUC: {:.3})\".format(auc))"
   ]
  },
  {
   "cell_type": "markdown",
   "metadata": {},
   "source": [
    "## Save data for plotting, etc."
   ]
  },
  {
   "cell_type": "code",
   "execution_count": 15,
   "metadata": {},
   "outputs": [
    {
     "data": {
      "text/plain": [
       "'../trained-models/trwiki/dot.ckpt'"
      ]
     },
     "execution_count": 15,
     "metadata": {},
     "output_type": "execute_result"
    }
   ],
   "source": [
    "# Save TensorFlow model\n",
    "saver = tf.train.Saver()\n",
    "saver.save(session, \"../trained-models/trwiki/dot.ckpt\")"
   ]
  },
  {
   "cell_type": "code",
   "execution_count": 17,
   "metadata": {},
   "outputs": [],
   "source": [
    "data = {\n",
    "    \"y_true\": test_data[2],\n",
    "    \"y_pred\": probs,\n",
    "}\n",
    "with open(\"../data/trwiki-dot-pred.pickle\", \"wb\") as f:\n",
    "    pickle.dump(data, f)"
   ]
  }
 ],
 "metadata": {
  "kernelspec": {
   "display_name": "Python 3",
   "language": "python",
   "name": "python3"
  },
  "language_info": {
   "codemirror_mode": {
    "name": "ipython",
    "version": 3
   },
   "file_extension": ".py",
   "mimetype": "text/x-python",
   "name": "python",
   "nbconvert_exporter": "python",
   "pygments_lexer": "ipython3",
   "version": "3.6.3"
  }
 },
 "nbformat": 4,
 "nbformat_minor": 2
}
